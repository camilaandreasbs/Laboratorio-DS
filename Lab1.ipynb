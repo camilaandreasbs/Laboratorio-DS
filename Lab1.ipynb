{
 "cells": [
  {
   "cell_type": "markdown",
   "metadata": {
    "id": "cd7b1b55"
   },
   "source": [
    "<h1><center>Laboratorio 1: Primeros pasos 👣</center></h1>\n",
    "\n",
    "<center><strong>MDS7202: Laboratorio de Programación Científica para Ciencia de Datos - Primavera 2021</strong></center>"
   ]
  },
  {
   "cell_type": "markdown",
   "metadata": {
    "id": "Vp_vOHK7V97e"
   },
   "source": [
    "### Cuerpo Docente:\n",
    "\n",
    "- Profesor: Pablo Badilla\n",
    "- Auxiliar: Ignacio Meza D.\n",
    "- Ayudante: Constanza Peña S."
   ]
  },
  {
   "cell_type": "markdown",
   "metadata": {
    "id": "4N_5AYgyWKyA"
   },
   "source": [
    "### Equipo: SUPER IMPORTANTE - notebooks sin nombre no serán revisados\n",
    "\n",
    "- Nombre de alumno 1: Camila Bergasa\n",
    "- Nombre de alumno 2: Sebastián García\n"
   ]
  },
  {
   "cell_type": "markdown",
   "metadata": {
    "id": "1rjlaJDEWxd9"
   },
   "source": [
    "### **Link de repositorio de GitHub:** `https://github.com/camilaandreasbs/Laboratorio-DS.git`"
   ]
  },
  {
   "cell_type": "markdown",
   "metadata": {
    "id": "9el9ERaKWW3i"
   },
   "source": [
    "## Reglas:\n",
    "\n",
    "- Fecha de entrega: 1 semana desde la publicación, 3 días de atraso con 1 punto de descuento c/u. Pueden utilizar días bonus sin descuento.\n",
    "- **Grupos de 2 personas**.\n",
    "- **Ausentes** deberán realizar la actividad solos. \n",
    "- Cualquier duda fuera del horario de clases al foro. Mensajes al equipo docente serán respondidos por este medio.\n",
    "- Prohibidas las copias. \n",
    "- Pueden usar cualquer material del curso que estimen conveniente.\n"
   ]
  },
  {
   "cell_type": "markdown",
   "metadata": {
    "id": "4708b9b7"
   },
   "source": [
    "\n",
    "## Objetivos del lab: \n",
    "\n",
    "\n",
    "- Variables, Operadores y Expresiones.\n",
    "- Estructuras de Control (if/else).\n",
    "- Iteraciones.\n",
    "- Listas y Diccionarios.\n",
    "- Programación Funcional (Map, Filter y Reduce).\n",
    "- Programación Orientada a Objetos (Encapsulamiento, Polimorfismo y Herencia)"
   ]
  },
  {
   "cell_type": "markdown",
   "metadata": {
    "id": "d58b089c"
   },
   "source": [
    "## Parte 1: 🍋 Frutas 🍓\n",
    "\n",
    "En esta primera parte se trabajará lo escencial visto hasta el momento más un poco de programación funcional a través de frutas:\n",
    "\n",
    "<div align='center'>\n",
    "<img src='https://upload.wikimedia.org/wikipedia/commons/a/a2/Berries_in_Berlin.jpg' width=600/>\n",
    "</div>"
   ]
  },
  {
   "cell_type": "markdown",
   "metadata": {
    "id": "5fdf6b19"
   },
   "source": [
    "Defina las siguientes frutas como diccionarios a partir de sus características (nombre, color, tipo y si posee o no pepas):\n",
    "\n",
    "| Nombre    | Tipo     | Color    | Pepas |\n",
    "|-----------|----------|----------|-------|\n",
    "| limon     | cítrica  | amarillo | True  |\n",
    "| naranja   | cítrica  | naranjo  | True  |\n",
    "| plátano   | tropical | amarillo | False |\n",
    "| piña      | tropical | amarillo | False |\n",
    "| frutilla  | bosque   | rojo     | True  |\n",
    "| frambuesa | bosque   | rojo     | True  |"
   ]
  },
  {
   "cell_type": "markdown",
   "metadata": {
    "id": "33aed47b"
   },
   "source": [
    "### Estructurar Datos [0.5 puntos]\n",
    "\n",
    "Agregue Piña, Frutilla y Frambuesa como diccionarios (siga los ejemplos de las frutas dadas) y luego cree un arreglo que contenga estas frutas.\n"
   ]
  },
  {
   "cell_type": "code",
   "execution_count": null,
   "metadata": {
    "id": "26d23e26"
   },
   "outputs": [],
   "source": [
    "limon = {\n",
    "    \"nombre\": \"limón\", \n",
    "    \"tipo\": \"cítrica\", \n",
    "    \"color\": \"amarillo\", \n",
    "    \"pepas\": True\n",
    "    }\n",
    "\n",
    "naranja = {\"nombre\": \"naranja\", \n",
    "           \"tipo\": \"cítrica\", \n",
    "           \"color\": \"naranjo\", \n",
    "           \"pepas\": True\n",
    "          }\n",
    "\n",
    "platano = {\"nombre\": \"plátano\", \n",
    "           \"tipo\": \"tropical\", \n",
    "           \"color\": \"amarillo\", \n",
    "           \"pepas\": False\n",
    "          }\n",
    "\n",
    "# agregar las frutas que faltan aquí\n",
    "\n",
    "piña = {\"nombre\": \"piña\", \n",
    "           \"tipo\": \"tropical\", \n",
    "           \"color\": \"amarillo\", \n",
    "           \"pepas\": False\n",
    "} \n",
    "\n",
    "frutilla = {\"nombre\": \"frutilla\", \n",
    "           \"tipo\": \"bosque\", \n",
    "           \"color\": \"rojo\", \n",
    "           \"pepas\": True\n",
    "}\n",
    "frambuesa = {\"nombre\": \"frambuesa\", \n",
    "           \"tipo\": \"bosque\", \n",
    "           \"color\": \"rojo\", \n",
    "           \"pepas\": True\n",
    "}"
   ]
  },
  {
   "cell_type": "markdown",
   "metadata": {
    "id": "259ee333"
   },
   "source": [
    "Ahora, agregue todas las frutas a un arreglo."
   ]
  },
  {
   "cell_type": "code",
   "execution_count": null,
   "metadata": {
    "id": "fcf62186"
   },
   "outputs": [],
   "source": [
    "# Ojo: agregue los datos en el mismo orden que aparecen en la tabla\n",
    "datos = [limon, naranja, platano, piña, frutilla, frambuesa]"
   ]
  },
  {
   "cell_type": "markdown",
   "metadata": {
    "id": "2ed7730e"
   },
   "source": [
    "Este arreglo será la información con la que se trabajará durante el lab."
   ]
  },
  {
   "cell_type": "markdown",
   "metadata": {
    "id": "e9b1e46d"
   },
   "source": [
    "### Funciones Aplicadas a los Datos [1.5 puntos]"
   ]
  },
  {
   "cell_type": "markdown",
   "metadata": {
    "id": "b7b016d6"
   },
   "source": [
    "Elabore las siguientes funciones:\n",
    "    \n",
    "**1. La función `describir(datos)` que genere un arreglo con strings que describan cada fruta de la siguiente manera:**\n",
    "\n",
    "```{El/La} {...} es una fruta de tipo {...} de color {...}. {Presenta/No presenta} pepas en su interior.```\n",
    "    \n",
    "Por ejemplo, para el plátano se debe generar el siguiente string:\n",
    "    \n",
    "```\n",
    "'El plátano es una fruta de tipo tropical de color amarillo. No presenta pepas en su interior.'\n",
    "```\n",
    "    \n",
    "Indicaciones: \n",
    "- Usen formateo o suma de strings, if, else y for.\n",
    "- Para saber si ocupar 'El' o 'La', pueden acceder al nombre de la fruta y ver cual es el último carácter a través de indexadores `string[indice]`.\n",
    "    \n",
    "**2. La función `filtrar_por_pepa(datos, tiene_pepas)` que dado un tipo de fruta y un booleano, retorne las frutas que tienen o no tienen pepas (según el valor de `tiene_pepas`).**\n",
    "    \n",
    "\n",
    "Por ejemplo, `filtrar_por_pepa(datos, True)` deberá retornar un arreglo con los diccionarios de: naranja, limon, frutilla y frambuesa.\n",
    "\n",
    "\n",
    "**3. La función `conteo_colores(datos)` que cree un diccionario que haga un conteo los colores de las frutas.**\n",
    "\n",
    "Para estos datos, la función debería retornar el siguiente diccionario: \n",
    "    \n",
    "```python\n",
    "{\"amarillo\": 3, \"naranjo\": 1, \"rojo\": 2}\n",
    "````"
   ]
  },
  {
   "cell_type": "markdown",
   "metadata": {
    "id": "9Wqh7UyYXXIi"
   },
   "source": [
    "**Desarrollo de código:**"
   ]
  },
  {
   "cell_type": "code",
   "execution_count": null,
   "metadata": {
    "id": "023bc051"
   },
   "outputs": [],
   "source": [
    "def describir(datos):\n",
    "    descripciones = []\n",
    "    # Código Aquí\n",
    "    for i in datos:\n",
    "      a = i[\"nombre\"]\n",
    "      y = len(a)-1\n",
    "      if a[y] == \"a\":\n",
    "        if i[\"pepas\"] == True:\n",
    "          descripciones.append(('La ' + ' '.join({a}) + ' es una fruta de tipo ' + ' '.join({i[\"tipo\"]}) + ' de color ' +  ' '.join({i[\"color\"]})  +  '. Presenta pepas en su interior.'))\n",
    "          continue\n",
    "        else:\n",
    "          descripciones.append(('La ' + ' '.join({a}) + ' es una fruta de tipo ' + ' '.join({i[\"tipo\"]})  + ' de color ' +  ' '.join({i[\"color\"]})  + '. No presenta pepas en su interior.'))\n",
    "          continue\n",
    "      else:\n",
    "        if i[\"pepas\"] == True:\n",
    "          descripciones.append(('El ' + ' '.join({a}) + ' es una fruta de tipo ' + ' '.join({i[\"tipo\"]})  + ' de color ' +  ' '.join({i[\"color\"]}) + '. Presenta pepas en su interior.'))\n",
    "          continue\n",
    "        else:\n",
    "          descripciones.append(('El ' + ' '.join({a}) + ' es una fruta de tipo ' + ' '.join({i[\"tipo\"]})  + ' de color ' +  ' '.join({i[\"color\"]}) + '. No presenta pepas en su interior.')) \n",
    "          continue\n",
    "\n",
    "    return print(descripciones)\n",
    "\n",
    "\n",
    "def filtrar_por_pepa(datos, tiene_pepas):\n",
    "    # Código Aquí\n",
    "    filtrados = []\n",
    "    for i in datos:\n",
    "      if tiene_pepas == True:\n",
    "        b = i[\"pepas\"]\n",
    "        if b == True:\n",
    "          filtrados.append(i)\n",
    "          continue\n",
    "        else:\n",
    "          continue\n",
    "        return print(filtrados)\n",
    "      else:\n",
    "        return None\n",
    "    return print(filtrados)\n",
    "\n",
    "\n",
    "def conteo_colores(datos):\n",
    "    # Código Aquí\n",
    "    conteo={}\n",
    "    w=0\n",
    "    m=0\n",
    "    k=0\n",
    "    for i in datos:\n",
    "      if i[\"color\"]==\"rojo\":\n",
    "        w=w+1\n",
    "        conteo[\"rojo\"] = w\n",
    "        continue\n",
    "      elif i[\"color\"]==\"naranjo\":\n",
    "        m=m+1\n",
    "        conteo[\"naranjo\"] = m\n",
    "        continue\n",
    "      else:\n",
    "        k=k+1\n",
    "        conteo[\"amarillo\"] = k\n",
    "        continue\n",
    "\n",
    "    return print(conteo)\n"
   ]
  },
  {
   "cell_type": "code",
   "execution_count": null,
   "metadata": {
    "colab": {
     "base_uri": "https://localhost:8080/"
    },
    "id": "93AN0DLozGFv",
    "outputId": "7a871187-fe3e-4a05-cdc8-5ffc901a3d4b"
   },
   "outputs": [
    {
     "name": "stdout",
     "output_type": "stream",
     "text": [
      "{'amarillo': 3, 'naranjo': 1, 'rojo': 2}\n"
     ]
    }
   ],
   "source": [
    "conteo_colores(datos)"
   ]
  },
  {
   "cell_type": "code",
   "execution_count": null,
   "metadata": {
    "colab": {
     "base_uri": "https://localhost:8080/"
    },
    "id": "Z0O86fGT51Be",
    "outputId": "72c141fb-36b1-4013-e45d-4ec8b2ea51ff"
   },
   "outputs": [
    {
     "name": "stdout",
     "output_type": "stream",
     "text": [
      "[{'nombre': 'limón', 'tipo': 'cítrica', 'color': 'amarillo', 'pepas': True}, {'nombre': 'naranja', 'tipo': 'cítrica', 'color': 'naranjo', 'pepas': True}, {'nombre': 'frutilla', 'tipo': 'bosque', 'color': 'rojo', 'pepas': True}, {'nombre': 'frambuesa', 'tipo': 'bosque', 'color': 'rojo', 'pepas': True}]\n"
     ]
    }
   ],
   "source": [
    "filtrar_por_pepa(datos, True)"
   ]
  },
  {
   "cell_type": "code",
   "execution_count": null,
   "metadata": {
    "colab": {
     "base_uri": "https://localhost:8080/"
    },
    "id": "O6c5y8lVRykc",
    "outputId": "50f8d324-8196-4878-897c-18c3cd0e6a06"
   },
   "outputs": [
    {
     "name": "stdout",
     "output_type": "stream",
     "text": [
      "['El limón es una fruta de tipo cítrica de color amarillo. Presenta pepas en su interior.', 'La naranja es una fruta de tipo cítrica de color naranjo. Presenta pepas en su interior.', 'El plátano es una fruta de tipo tropical de color amarillo. No presenta pepas en su interior.', 'La piña es una fruta de tipo tropical de color amarillo. No presenta pepas en su interior.', 'La frutilla es una fruta de tipo bosque de color rojo. Presenta pepas en su interior.', 'La frambuesa es una fruta de tipo bosque de color rojo. Presenta pepas en su interior.']\n"
     ]
    }
   ],
   "source": [
    "describir(datos)\n",
    "#datos[0][\"nombre\"]\n"
   ]
  },
  {
   "cell_type": "markdown",
   "metadata": {
    "id": "5240bec1"
   },
   "source": [
    "El código de la siguiente celda presenta tests para probar sus funciones: Si la ejecución de esta celda no les levanta ninguna excepción, entonces sus funciones están implementadas según lo requerido. Si alguna falla, entonces deberán corregir los errores mostrados. \n",
    "Noten que los strings, diccionarios y en general, los objetos deben ser exactamente idénticos para que el test no falle."
   ]
  },
  {
   "cell_type": "markdown",
   "metadata": {
    "id": "_DWuD58nXd2q"
   },
   "source": [
    "**Ejecuten esta celda para comprobar su código:**"
   ]
  },
  {
   "cell_type": "code",
   "execution_count": null,
   "metadata": {
    "colab": {
     "base_uri": "https://localhost:8080/",
     "height": 325
    },
    "id": "c39b58c0",
    "outputId": "e2e1c923-f910-496a-905e-ab6135dcdacf"
   },
   "outputs": [
    {
     "name": "stdout",
     "output_type": "stream",
     "text": [
      "['El limón es una fruta de tipo cítrica de color amarillo. Presenta pepas en su interior.', 'La naranja es una fruta de tipo cítrica de color naranjo. Presenta pepas en su interior.', 'El plátano es una fruta de tipo tropical de color amarillo. No presenta pepas en su interior.', 'La piña es una fruta de tipo tropical de color amarillo. No presenta pepas en su interior.', 'La frutilla es una fruta de tipo bosque de color rojo. Presenta pepas en su interior.', 'La frambuesa es una fruta de tipo bosque de color rojo. Presenta pepas en su interior.']\n"
     ]
    },
    {
     "ename": "AssertionError",
     "evalue": "ignored",
     "output_type": "error",
     "traceback": [
      "\u001b[0;31m---------------------------------------------------------------------------\u001b[0m",
      "\u001b[0;31mAssertionError\u001b[0m                            Traceback (most recent call last)",
      "\u001b[0;32m<ipython-input-7-349bc5ade0db>\u001b[0m in \u001b[0;36m<module>\u001b[0;34m()\u001b[0m\n\u001b[1;32m      7\u001b[0m \u001b[0mdescripciones_esperadas\u001b[0m \u001b[0;34m=\u001b[0m \u001b[0;34m[\u001b[0m\u001b[0;34m'El limón es una fruta de tipo cítrica de color amarillo. Presenta pepas en su interior.'\u001b[0m\u001b[0;34m,\u001b[0m \u001b[0;34m'La naranja es una fruta de tipo cítrica de color naranjo. Presenta pepas en su interior.'\u001b[0m\u001b[0;34m,\u001b[0m \u001b[0;34m'El plátano es una fruta de tipo tropical de color amarillo. No presenta pepas en su interior.'\u001b[0m\u001b[0;34m,\u001b[0m \u001b[0;34m'La piña es una fruta de tipo tropical de color amarillo. No presenta pepas en su interior.'\u001b[0m\u001b[0;34m,\u001b[0m \u001b[0;34m'La frutilla es una fruta de tipo bosque de color rojo. Presenta pepas en su interior.'\u001b[0m\u001b[0;34m,\u001b[0m \u001b[0;34m'La frambuesa es una fruta de tipo bosque de color rojo. Presenta pepas en su interior.'\u001b[0m\u001b[0;34m]\u001b[0m\u001b[0;34m\u001b[0m\u001b[0;34m\u001b[0m\u001b[0m\n\u001b[1;32m      8\u001b[0m \u001b[0;34m\u001b[0m\u001b[0m\n\u001b[0;32m----> 9\u001b[0;31m \u001b[0;32massert\u001b[0m \u001b[0mdescripciones_esperadas\u001b[0m \u001b[0;34m==\u001b[0m \u001b[0mdescribir\u001b[0m\u001b[0;34m(\u001b[0m\u001b[0mdatos\u001b[0m\u001b[0;34m)\u001b[0m\u001b[0;34m\u001b[0m\u001b[0;34m\u001b[0m\u001b[0m\n\u001b[0m\u001b[1;32m     10\u001b[0m \u001b[0;34m\u001b[0m\u001b[0m\n\u001b[1;32m     11\u001b[0m \u001b[0;31m# ---------------------------------------------------------------------\u001b[0m\u001b[0;34m\u001b[0m\u001b[0;34m\u001b[0m\u001b[0;34m\u001b[0m\u001b[0m\n",
      "\u001b[0;31mAssertionError\u001b[0m: "
     ]
    }
   ],
   "source": [
    "## No nos corrieron los assert, pero arriba se obtiene lo mismo que piden\n",
    "\n",
    "# ---------------------------------------------------------------------\n",
    "# test descripciones \n",
    "# note que las frutas deben estar en igual orden para que este assert no falle.\n",
    "\n",
    "descripciones_esperadas = ['El limón es una fruta de tipo cítrica de color amarillo. Presenta pepas en su interior.', 'La naranja es una fruta de tipo cítrica de color naranjo. Presenta pepas en su interior.', 'El plátano es una fruta de tipo tropical de color amarillo. No presenta pepas en su interior.', 'La piña es una fruta de tipo tropical de color amarillo. No presenta pepas en su interior.', 'La frutilla es una fruta de tipo bosque de color rojo. Presenta pepas en su interior.', 'La frambuesa es una fruta de tipo bosque de color rojo. Presenta pepas en su interior.']\n",
    "\n",
    "assert descripciones_esperadas == describir(datos)\n",
    "\n",
    "# ---------------------------------------------------------------------\n",
    "# test filtro\n",
    "frutas_con_pepa_esperadas = [\n",
    "    {\"nombre\": \"limón\", \"tipo\": \"cítrica\", \"color\": \"amarillo\", \"pepas\": True},\n",
    "    {\"nombre\": \"naranja\", \"tipo\": \"cítrica\", \"color\": \"naranjo\", \"pepas\": True},\n",
    "    {\"nombre\": \"frambuesa\", \"tipo\": \"bosque\", \"color\": \"rojo\", \"pepas\": True},\n",
    "    {\"nombre\": \"frutilla\", \"tipo\": \"bosque\", \"color\": \"rojo\", \"pepas\": True},\n",
    "]\n",
    "\n",
    "assert frutas_con_pepa_esperadas == filtrar_por_pepa(datos, True)\n",
    "\n",
    "# ---------------------------------------------------------------------\n",
    "# test conteo\n",
    "conteo_esperado = {'amarillo': 3, 'naranjo': 1, 'rojo': 2}\n",
    "\n",
    "\n",
    "assert conteo_esperado == conteo_colores(datos) \n",
    "\n",
    "\n",
    "\n"
   ]
  },
  {
   "cell_type": "markdown",
   "metadata": {
    "id": "ef45d2ea"
   },
   "source": [
    "### Implementaciones Funcionales [1.0 punto] \n",
    "\n",
    "Implementar las funciones de la sección anterior de forma funcional (solo las primeras 2 funciones).\n",
    "\n"
   ]
  },
  {
   "cell_type": "code",
   "execution_count": null,
   "metadata": {
    "id": "c6ef993a"
   },
   "outputs": [],
   "source": [
    "def describir_funcional(datos):\n",
    "\n",
    "    def generar_descripcion(fruta):\n",
    "        # esta función debería retornar el string para una fruta en particular.\n",
    "        \n",
    "        #descripciones = list(map(fruta, datos))\n",
    "        d = []\n",
    "        for i in datos:\n",
    "          if fruta == i:\n",
    "            x = i[\"nombre\"]\n",
    "            y = len(x)-1\n",
    "            if x[y] == \"a\":\n",
    "              if i[\"pepas\"] == True:\n",
    "                d.append('La ' + ' '.join({x}) + ' es una fruta de tipo ' + ' '.join({i[\"tipo\"]}) + ' de color ' +  ' '.join({i[\"color\"]})  +  '. Presenta pepas en su interior.')\n",
    "                continue\n",
    "              else:\n",
    "                d.append('La ' + ' '.join({x}) + ' es una fruta de tipo ' + ' '.join({i[\"tipo\"]})  + ' de color ' + ' '.join({i[\"color\"]})  + '. No presenta pepas en su interior.')\n",
    "                continue\n",
    "            else:\n",
    "              if i[\"pepas\"] == True:\n",
    "                d.append('El ' + ' '.join({x}) + ' es una fruta de tipo ' + ' '.join({i[\"tipo\"]}) + ' de color ' + ' '.join({i[\"color\"]}) + '. Presenta pepas en su interior.')\n",
    "                continue\n",
    "              else:\n",
    "                d.append('El ' + ' '.join({x}) + ' es una fruta de tipo ' + ' '.join({i[\"tipo\"]}) + ' de color '+ ' '.join({i[\"color\"]}) + '. No presenta pepas en su interior.') \n",
    "                continue\n",
    "\n",
    "\n",
    "        return d\n",
    "\n",
    "    #list(map(..., ...))\n",
    "    Descripciones = list(map(generar_descripcion ,datos))\n",
    "    return print(Descripciones)\n",
    "  \n",
    "    ...\n",
    "    \n",
    "def filtrar_por_pepa_funcional(datos, tipo_de_dato):\n",
    "    # list(filter(..., ...))\n",
    "    filtrados = list(filter(lambda x : x[\"pepas\"]==True , datos))\n",
    "    return print(filtrados)\n",
    "\n",
    "    ..."
   ]
  },
  {
   "cell_type": "code",
   "execution_count": null,
   "metadata": {
    "colab": {
     "base_uri": "https://localhost:8080/"
    },
    "id": "oOHZVmlhwEFW",
    "outputId": "85d46537-cfc6-40c0-b57d-049ab77cb8c3"
   },
   "outputs": [
    {
     "name": "stdout",
     "output_type": "stream",
     "text": [
      "[['El limón es una fruta de tipo cítrica de color amarillo. Presenta pepas en su interior.'], ['La naranja es una fruta de tipo cítrica de color naranjo. Presenta pepas en su interior.'], ['El plátano es una fruta de tipo tropical de color amarillo. No presenta pepas en su interior.'], ['La piña es una fruta de tipo tropical de color amarillo. No presenta pepas en su interior.'], ['La frutilla es una fruta de tipo bosque de color rojo. Presenta pepas en su interior.'], ['La frambuesa es una fruta de tipo bosque de color rojo. Presenta pepas en su interior.']]\n"
     ]
    }
   ],
   "source": [
    "describir_funcional(datos)"
   ]
  },
  {
   "cell_type": "code",
   "execution_count": null,
   "metadata": {
    "colab": {
     "base_uri": "https://localhost:8080/"
    },
    "id": "I2cfaJp1vl3u",
    "outputId": "0da09025-8ad3-453c-fe76-803ae672182c"
   },
   "outputs": [
    {
     "name": "stdout",
     "output_type": "stream",
     "text": [
      "[{'nombre': 'limón', 'tipo': 'cítrica', 'color': 'amarillo', 'pepas': True}, {'nombre': 'naranja', 'tipo': 'cítrica', 'color': 'naranjo', 'pepas': True}, {'nombre': 'frutilla', 'tipo': 'bosque', 'color': 'rojo', 'pepas': True}, {'nombre': 'frambuesa', 'tipo': 'bosque', 'color': 'rojo', 'pepas': True}]\n"
     ]
    }
   ],
   "source": [
    "filtrar_por_pepa_funcional(datos, True)"
   ]
  },
  {
   "cell_type": "markdown",
   "metadata": {
    "id": "fwno3rOhn_jd"
   },
   "source": [
    "Nuevamente más tests, ahora para las funciones con map y filter.\n",
    "\n",
    "**Ejecuten esta celda para comprobar su código:**"
   ]
  },
  {
   "cell_type": "code",
   "execution_count": null,
   "metadata": {
    "colab": {
     "base_uri": "https://localhost:8080/",
     "height": 221
    },
    "id": "vlRVONAClo3i",
    "outputId": "a8d9549a-01ac-461c-a57d-b377739e5349"
   },
   "outputs": [
    {
     "name": "stdout",
     "output_type": "stream",
     "text": [
      "[['El limón es una fruta de tipo cítrica de color amarillo. Presenta pepas en su interior.'], ['La naranja es una fruta de tipo cítrica de color naranjo. Presenta pepas en su interior.'], ['El plátano es una fruta de tipo tropical de color amarillo. No presenta pepas en su interior.'], ['La piña es una fruta de tipo tropical de color amarillo. No presenta pepas en su interior.'], ['La frutilla es una fruta de tipo bosque de color rojo. Presenta pepas en su interior.'], ['La frambuesa es una fruta de tipo bosque de color rojo. Presenta pepas en su interior.']]\n"
     ]
    },
    {
     "ename": "AssertionError",
     "evalue": "ignored",
     "output_type": "error",
     "traceback": [
      "\u001b[0;31m---------------------------------------------------------------------------\u001b[0m",
      "\u001b[0;31mAssertionError\u001b[0m                            Traceback (most recent call last)",
      "\u001b[0;32m<ipython-input-11-fdb20a5e1456>\u001b[0m in \u001b[0;36m<module>\u001b[0;34m()\u001b[0m\n\u001b[0;32m----> 1\u001b[0;31m \u001b[0;32massert\u001b[0m \u001b[0mdescripciones_esperadas\u001b[0m \u001b[0;34m==\u001b[0m \u001b[0mdescribir_funcional\u001b[0m\u001b[0;34m(\u001b[0m\u001b[0mdatos\u001b[0m\u001b[0;34m)\u001b[0m\u001b[0;34m\u001b[0m\u001b[0;34m\u001b[0m\u001b[0m\n\u001b[0m\u001b[1;32m      2\u001b[0m \u001b[0;32massert\u001b[0m \u001b[0mfrutas_con_pepa_esperadas\u001b[0m \u001b[0;34m==\u001b[0m \u001b[0mfiltrar_por_pepa_funcional\u001b[0m\u001b[0;34m(\u001b[0m\u001b[0mdatos\u001b[0m\u001b[0;34m,\u001b[0m \u001b[0;32mTrue\u001b[0m\u001b[0;34m)\u001b[0m\u001b[0;34m\u001b[0m\u001b[0;34m\u001b[0m\u001b[0m\n",
      "\u001b[0;31mAssertionError\u001b[0m: "
     ]
    }
   ],
   "source": [
    "assert descripciones_esperadas == describir_funcional(datos)\n",
    "assert frutas_con_pepa_esperadas == filtrar_por_pepa_funcional(datos, True)"
   ]
  },
  {
   "cell_type": "markdown",
   "metadata": {
    "id": "492b941a"
   },
   "source": [
    "## Parte 2: Electrodomésticos 🧃\n",
    "\n",
    "En esta parte se solicitarán un par de clases que permitirá jugar con la Programación Orientada a Objetos.\n",
    "\n",
    "<div align='center'>\n",
    "<img src='https://upload.wikimedia.org/wikipedia/commons/6/67/Breville.jpg' width=400/>\n",
    "</div>"
   ]
  },
  {
   "cell_type": "markdown",
   "metadata": {
    "id": "PDaUTTiLd8fl"
   },
   "source": [
    "### Clase Electrodoméstico [0.5 puntos] \n",
    "\n",
    "\n",
    "\n",
    "\n",
    "Defina la clase `Electrodomestico` que implemente:\n",
    "\n",
    "\n",
    "- Un constructor que defina un atributo de instancia llamado `enchufado` que almacene valores booleanos. \n",
    "- Un método llamado `esta_enchufado(self)` que levante una excepción `Exception` y que termine con la ejecución del programa cuando el atributo enchuado sea `False`. La exepción debe levantar el mensaje `'Alerta ⚠️: El electrodoméstico no está enchufado'`"
   ]
  },
  {
   "cell_type": "code",
   "execution_count": null,
   "metadata": {
    "id": "9f8aa475"
   },
   "outputs": [],
   "source": [
    "class Electrodomestico:\n",
    "    \n",
    "    def __init__(self):\n",
    "      # Código Aquí\n",
    "      self.enchufado = False\n",
    "      \n",
    "    \n",
    "    def esta_enchufado(self):\n",
    "      # Código Aquí\n",
    "      if self.enchufado == False:\n",
    "        return Exception('Alerta ⚠️: El electrodoméstico no está enchufado')\n",
    "      else:\n",
    "        pass\n",
    "\n",
    "    def enchufar(self):\n",
    "      # Código Aquí\n",
    "      if self.enchufado == False:\n",
    "        self.enchufado = True\n",
    "        return self.enchufado\n",
    "      else:\n",
    "        print(\"ya está enchufado\")"
   ]
  },
  {
   "cell_type": "markdown",
   "metadata": {
    "id": "d7d477b5"
   },
   "source": [
    "### Clase Jugera [2.5 puntos] \n",
    "\n",
    "\n",
    "<div align='center'>\n",
    "<img src='https://upload.wikimedia.org/wikipedia/commons/b/bb/Liquadora_%28parts%29.JPG' width=400/>\n",
    "</div>\n",
    "\n"
   ]
  },
  {
   "cell_type": "markdown",
   "metadata": {
    "id": "f72a5754"
   },
   "source": [
    "Implemente la clase `Jugera` que extiende `Electrodomestico` y que implemente: \n",
    "\n",
    "\n",
    "- Un constructor que tenga una lista de ingredientes frutales (llamado `bandeja`).\n",
    "\n",
    "\n",
    "- Un método llamado `agregar_ingrediente(self, nueva_fruta)` que dado una fruta, agregue esa fruta a la `bandeja`.\n",
    "\n",
    "- Un método llamado `listar_ingredientes(self)` que imprima (con `print`) los ingredientes actuales de la `bandeja` de la siguiente forma: \n",
    "\n",
    "    `Ingredientes en la bandeja: frutilla, frambuesa, piña.`\n",
    "\n",
    "    Hint: Investigar el método `join` de un string para generar el string con los nombres de las frutas.\n",
    "    \n",
    "    \n",
    "    \n",
    "\n",
    "- Un método llamado `preparar_jugo(self)` que: \n",
    "    - Primero verifique que el electrodoméstico esté enchufado usando `self.esta_enchufado()`.\n",
    "    - Verifique que haya por lo menos un ingrediente en la `bandeja`. En el caso que no haya, levantar una excepción con contenido `'Error ❌: La bandeja no tiene ingredientes.'`\n",
    "    - Verifique que ninguna fruta tenga pepas. En el caso que haya alguna, imprimir (con `print`) el mensaje de advertencia `'Alerta ⚠️: El jugo puede contener restos de pepas.'`. Puede usar la función definida en la sección anterior.\n",
    "    - Genere un mensaje indicado `Jugo de {nombres de las frutas separadas por una ,} listo. 🏖️🥤 Que lo disfrutes!!! 🥤🏖️. ` (Hint: Usar nuevamente `join`).\n",
    "    - Vacie la `bandeja` (es decir, eliminar todas las frutas de la bandeja).\n",
    "    - Retorne el mensaje generado.\n"
   ]
  },
  {
   "cell_type": "code",
   "execution_count": null,
   "metadata": {
    "id": "d9db037b"
   },
   "outputs": [],
   "source": [
    "class Jugera(Electrodomestico):\n",
    "    \n",
    "    \n",
    "    def __init__(self):\n",
    "      super().__init__()\n",
    "      # Código Aquí\n",
    "      self.bandeja = []\n",
    "\n",
    "    def agregar_ingrediente(self, nueva_fruta):\n",
    "        # Código Aquí\n",
    "        self.bandeja = []\n",
    "        self.nueva_fruta = nueva_fruta\n",
    "        self.bandeja.append(nueva_fruta)\n",
    "        return self.bandeja\n",
    "     \n",
    "    def listar_ingredientes(self):\n",
    "        # Código Aquí\n",
    "\n",
    "        if self.bandeja == []:\n",
    "          print('Bandeja Vacía')\n",
    "        else:\n",
    "          print(f'Ingredientes en la bandeja:' + ','.join({bandeja}))\n",
    "    \n",
    "    def preparar_jugo(self):\n",
    "        # Código Aquí\n",
    "        if Electrodomestico.esta_enchufado(self) == Exception('Alerta ⚠️: El electrodoméstico no está enchufado'):\n",
    "          return Exception('Alerta ⚠️: El electrodoméstico no está enchufado')  \n",
    "        elif self.bandeja==[]:\n",
    "          print('Error ❌: La bandeja no tiene ingredientes.')\n",
    "        else:\n",
    "          if tiene_pepas == True:\n",
    "            print('Alerta ⚠️: El jugo puede contener restos de pepas.')\n",
    "          else:\n",
    "            pass\n",
    "          mensaje = 'Jugo de' + ','.join({bandeja}) +' listo. 🏖️🥤 Que lo disfrutes!!! 🥤🏖️.'\n",
    "          return print(mensaje)"
   ]
  },
  {
   "cell_type": "markdown",
   "metadata": {
    "id": "6889015a"
   },
   "source": [
    "### Interacciones\n",
    "\n",
    "Las siguientes celdas les permitirán probar las interacciones de esta clase.\n",
    "La ejecución es solo referencial y no lleva puntaje. La idea es que la utilice como guía para desarrollar la clase."
   ]
  },
  {
   "cell_type": "code",
   "execution_count": null,
   "metadata": {
    "colab": {
     "base_uri": "https://localhost:8080/"
    },
    "id": "913af660",
    "outputId": "1e851a93-cebc-4382-94c9-7ebda61c4eab"
   },
   "outputs": [
    {
     "name": "stdout",
     "output_type": "stream",
     "text": [
      "Bandeja Vacía\n"
     ]
    }
   ],
   "source": [
    "\n",
    "jugera = Jugera()\n",
    "\n",
    "# Como no tenemos ingredientes, listar_ingredientes deberá imprimir 'Bandeja vacía'\n",
    "jugera.listar_ingredientes()"
   ]
  },
  {
   "cell_type": "code",
   "execution_count": null,
   "metadata": {
    "colab": {
     "base_uri": "https://localhost:8080/"
    },
    "id": "9d06bf3e",
    "outputId": "fcf1cda3-75c8-45e3-9819-3318221c85da",
    "scrolled": false
   },
   "outputs": [
    {
     "name": "stdout",
     "output_type": "stream",
     "text": [
      "Error ❌: La bandeja no tiene ingredientes.\n"
     ]
    }
   ],
   "source": [
    "# Esta celda debería levantar una excepcion indicando que no está enchufada la jugera.\n",
    "jugera.preparar_jugo()"
   ]
  },
  {
   "cell_type": "code",
   "execution_count": null,
   "metadata": {
    "colab": {
     "base_uri": "https://localhost:8080/"
    },
    "id": "wqN94NqKiMNq",
    "outputId": "bb8857a2-e7db-448b-cd4e-160d91b69a0b"
   },
   "outputs": [
    {
     "data": {
      "text/plain": [
       "True"
      ]
     },
     "execution_count": 16,
     "metadata": {},
     "output_type": "execute_result"
    }
   ],
   "source": [
    "# Enchufamos el electrodoméstico\n",
    "jugera.enchufar()"
   ]
  },
  {
   "cell_type": "code",
   "execution_count": null,
   "metadata": {
    "colab": {
     "base_uri": "https://localhost:8080/"
    },
    "id": "48009872",
    "outputId": "86a8c3b2-3868-40aa-aaa9-fd2d3da52ddf",
    "scrolled": true
   },
   "outputs": [
    {
     "name": "stdout",
     "output_type": "stream",
     "text": [
      "Error ❌: La bandeja no tiene ingredientes.\n"
     ]
    }
   ],
   "source": [
    "# Esta celda debería levantar ina excepción informandoles que la bandeja no tiene ingredientes.\n",
    "jugera.preparar_jugo()"
   ]
  },
  {
   "cell_type": "code",
   "execution_count": null,
   "metadata": {
    "colab": {
     "base_uri": "https://localhost:8080/"
    },
    "id": "4873e0bf",
    "outputId": "628dc6c3-22c8-4521-f59a-1cd839ce851b"
   },
   "outputs": [
    {
     "name": "stdout",
     "output_type": "stream",
     "text": [
      "[{'nombre': 'naranja', 'tipo': 'cítrica', 'color': 'naranjo', 'pepas': True}]\n",
      "[{'nombre': 'plátano', 'tipo': 'tropical', 'color': 'amarillo', 'pepas': False}]\n",
      "Bandeja Vacía\n"
     ]
    }
   ],
   "source": [
    "# Agregamos algunos ingredientes\n",
    "jugera.agregar_ingrediente(naranja)\n",
    "jugera.agregar_ingrediente(platano)\n",
    "\n",
    "# Y los listamos (debería imprimir: 'Ingredientes en la bandeja: naranja, plátano')\n",
    "jugera.listar_ingredientes()"
   ]
  },
  {
   "cell_type": "code",
   "execution_count": null,
   "metadata": {
    "colab": {
     "base_uri": "https://localhost:8080/"
    },
    "id": "ff555151",
    "outputId": "ced36e43-d143-45a1-c2e6-6ffc78f4179b"
   },
   "outputs": [
    {
     "name": "stdout",
     "output_type": "stream",
     "text": [
      "Error ❌: La bandeja no tiene ingredientes.\n"
     ]
    }
   ],
   "source": [
    "# Preparamos el jugo: 'Jugo de naranja, plátano listo. 🏖️🥤 Que lo disfrutes!!! 🥤🏖️.'\n",
    "jugera.preparar_jugo()"
   ]
  },
  {
   "cell_type": "code",
   "execution_count": null,
   "metadata": {
    "colab": {
     "base_uri": "https://localhost:8080/"
    },
    "id": "bbc532b2",
    "outputId": "ed53a8be-c778-4334-a3b3-c1d0770931b0"
   },
   "outputs": [
    {
     "name": "stdout",
     "output_type": "stream",
     "text": [
      "Bandeja Vacía\n"
     ]
    }
   ],
   "source": [
    "# Una vez preparado el jugo, debería vaciarse la bandeja (imprimir Bandeja vacía)\n",
    "jugera.listar_ingredientes()"
   ]
  },
  {
   "cell_type": "markdown",
   "metadata": {
    "id": "972dbcac"
   },
   "source": [
    "## Bonus [0.5]\n",
    "\n",
    "Implementar `bandeja` usando una `property` que permita setear una `nueva_bandeja` como `bandeja` según las siguientes condiciones:\n",
    "\n",
    "\n",
    "- Compruebe que `nueva_bandeja` sea una lista. En caso contrario, levante una excepción.\n",
    "- No permita agregar más de 3 ingredientes a la bandeja a la vez. Si se entregan más de 3 frutas, se levante una excepción.\n",
    "- Se compruebe que todos los elementos del arreglo sean frutas. Para esto, por cada fruta compruebe que:\n",
    "    1. La fruta sea diccionario.\n",
    "    2. El diccionario entregado tenga las llaves `nombre`, `tipo`, `color` y `pepas`."
   ]
  },
  {
   "cell_type": "code",
   "execution_count": null,
   "metadata": {
    "id": "cVRf_u57sI0i"
   },
   "outputs": [],
   "source": [
    "class Jugera(Electrodomestico):\n",
    "    \n",
    "    \n",
    "    def __init__(self):\n",
    "        # Código Aquí\n",
    "\n",
    "    @property\n",
    "    def bandeja(self):\n",
    "        # Código Aquí\n",
    "        \n",
    "    @bandeja.setter\n",
    "    def bandeja(self, nueva_bandeja):\n",
    "        # Código Aquí\n",
    "\n",
    "    def agregar_ingrediente(self, nueva_fruta):\n",
    "        # Código Aquí\n",
    "     \n",
    "    def listar_ingredientes(self):\n",
    "        # Código Aquí\n",
    "    \n",
    "    def preparar_jugo(self):\n",
    "        # Código Aquí\n",
    "        \n",
    "        return mensaje"
   ]
  }
 ],
 "metadata": {
  "colab": {
   "collapsed_sections": [],
   "name": "Copia de Lab1.ipynb",
   "provenance": []
  },
  "kernelspec": {
   "display_name": "Python 3",
   "language": "python",
   "name": "python3"
  },
  "language_info": {
   "codemirror_mode": {
    "name": "ipython",
    "version": 3
   },
   "file_extension": ".py",
   "mimetype": "text/x-python",
   "name": "python",
   "nbconvert_exporter": "python",
   "pygments_lexer": "ipython3",
   "version": "3.7.3"
  }
 },
 "nbformat": 4,
 "nbformat_minor": 5
}

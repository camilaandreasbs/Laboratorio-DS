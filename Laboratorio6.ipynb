{
  "nbformat": 4,
  "nbformat_minor": 0,
  "metadata": {
    "kernelspec": {
      "display_name": "Python 3",
      "language": "python",
      "name": "python3"
    },
    "language_info": {
      "codemirror_mode": {
        "name": "ipython",
        "version": 3
      },
      "file_extension": ".py",
      "mimetype": "text/x-python",
      "name": "python",
      "nbconvert_exporter": "python",
      "pygments_lexer": "ipython3",
      "version": "3.8.3"
    },
    "toc": {
      "base_numbering": 1,
      "nav_menu": {},
      "number_sections": true,
      "sideBar": true,
      "skip_h1_title": true,
      "title_cell": "Tabla de Contenidos",
      "title_sidebar": "Contenidos",
      "toc_cell": false,
      "toc_position": {
        "height": "calc(100% - 180px)",
        "left": "10px",
        "top": "150px",
        "width": "241.867px"
      },
      "toc_section_display": true,
      "toc_window_display": true
    },
    "varInspector": {
      "cols": {
        "lenName": 16,
        "lenType": 16,
        "lenVar": 40
      },
      "kernels_config": {
        "python": {
          "delete_cmd_postfix": "",
          "delete_cmd_prefix": "del ",
          "library": "var_list.py",
          "varRefreshCmd": "print(var_dic_list())"
        },
        "r": {
          "delete_cmd_postfix": ") ",
          "delete_cmd_prefix": "rm(",
          "library": "var_list.r",
          "varRefreshCmd": "cat(var_dic_list()) "
        }
      },
      "types_to_exclude": [
        "module",
        "function",
        "builtin_function_or_method",
        "instance",
        "_Feature"
      ],
      "window_display": false
    },
    "colab": {
      "name": "Laboratorio6.ipynb",
      "provenance": [],
      "collapsed_sections": [
        "Rcjs-dd1V-1u",
        "dkyp81nkBghF",
        "THmFfYs1AhAW"
      ],
      "toc_visible": true,
      "include_colab_link": true
    },
    "deepnote_notebook_id": "6bca2ca1-e14e-4a2d-8402-3bcc01d1af35",
    "deepnote": {},
    "deepnote_execution_queue": []
  },
  "cells": [
    {
      "cell_type": "markdown",
      "metadata": {
        "id": "view-in-github",
        "colab_type": "text"
      },
      "source": [
        "<a href=\"https://colab.research.google.com/github/camilaandreasbs/Laboratorio-DS/blob/main/Laboratorio6.ipynb\" target=\"_parent\"><img src=\"https://colab.research.google.com/assets/colab-badge.svg\" alt=\"Open In Colab\"/></a>"
      ]
    },
    {
      "cell_type": "markdown",
      "metadata": {
        "id": "XUZ1dFPHzAHl",
        "cell_id": "00000-d883b314-09da-429e-a3a3-57745182fbf1",
        "deepnote_cell_type": "markdown"
      },
      "source": [
        "<h1><center>Laboratorio 6: La desperación de Mr. Lepin 🐼</center></h1>\n",
        "\n",
        "<center><strong>MDS7202: Laboratorio de Programación Científica para Ciencia de Datos</strong></center>"
      ]
    },
    {
      "cell_type": "markdown",
      "metadata": {
        "id": "UD8X1uhGzAHq",
        "cell_id": "00001-311235ca-1e52-4b99-a8ed-ecc0efb3fddd",
        "deepnote_cell_type": "markdown"
      },
      "source": [
        "### Cuerpo Docente:\n",
        "\n",
        "- Profesor: Pablo Badilla\n",
        "- Auxiliar: Ignacio Meza D.\n",
        "- Ayudante: Constanza Peña"
      ]
    },
    {
      "cell_type": "markdown",
      "metadata": {
        "id": "tXflExjqzAHr",
        "cell_id": "00002-6c6c932b-c2ca-4e5c-8f35-4bcf76e99ae9",
        "deepnote_cell_type": "markdown"
      },
      "source": [
        "### Equipo: SUPER IMPORTANTE - notebooks sin nombre no serán revisados\n",
        "\n",
        "- Nombre de alumno 1: Camila Bergasa\n",
        "- Nombre de alumno 2: Sebastián García\n"
      ]
    },
    {
      "cell_type": "markdown",
      "metadata": {
        "id": "AD-V0bbZzAHr",
        "cell_id": "00003-78f31a0b-b9ea-415b-b6b1-c31406be9140",
        "deepnote_cell_type": "markdown"
      },
      "source": [
        "### **Link de repositorio de GitHub:** `https://github.com/camilaandreasbs/Laboratorio-DS/blob/main/Laboratorio6.ipynb`"
      ]
    },
    {
      "cell_type": "markdown",
      "metadata": {
        "id": "EcnsiQMkzAHr",
        "cell_id": "00004-813a4b9f-ec89-4439-9b6e-4d6558759415",
        "deepnote_cell_type": "markdown"
      },
      "source": [
        "### Indice \n",
        "\n",
        "1. [Temas a tratar](#Temas-a-tratar:)\n",
        "3. [Descripcción del laboratorio](#Descripción-del-laboratorio.)\n",
        "4. [Desarrollo](#Desarrollo)"
      ]
    },
    {
      "cell_type": "markdown",
      "metadata": {
        "id": "6uBLPj1PzAHs",
        "cell_id": "00005-30720d0a-a8ea-4112-8a56-7830fced4c1e",
        "deepnote_cell_type": "markdown"
      },
      "source": [
        "# Temas a tratar\n",
        "\n",
        "- Aplicar Pandas para obtener características de un DataFrame.\n",
        "- Aplicar Pipelines.\n",
        "- Aplicar Clusters sobre un conjunto de datos.\n",
        "\n",
        "## Reglas:\n",
        "\n",
        "- Fecha de entrega: 12/11/2021\n",
        "- **Grupos de 2 personas**\n",
        "- **Ausentes** deberán realizar la actividad solos. \n",
        "- Cualquier duda fuera del horario de clases al foro. Mensajes al equipo docente serán respondidos por este medio.\n",
        "- Prohibidas las copias. \n",
        "- Pueden usar cualquer matrial del curso que estimen conveniente.\n",
        "\n",
        "### Objetivos principales del laboratorio\n",
        "\n",
        "- Comprender y aprovechar las ventajas que nos ofrece la librería `pandas` con respecto a trabajar en Python 'puro'.\n",
        "- Crear nuevas características para entrenar un modelo de clustering.\n",
        "- Comprender como aplicar pipelines de Scikit-Learn para generar procesos más limpios.\n",
        "\n",
        "El laboratorio deberá ser desarrollado sin el uso indiscriminado de iteradores nativos de python (aka \"for\", \"while\"). La idea es que aprendan a exprimir al máximo las funciones optimizadas que nos entrega `numpy`, las cuales vale mencionar, son bastante más eficientes que los iteradores nativos sobre arreglos (*o tensores*)."
      ]
    },
    {
      "cell_type": "markdown",
      "metadata": {
        "id": "wrG4gYabzAHs",
        "cell_id": "00006-0d097eb1-85d1-4f26-8119-593d58e99a79",
        "deepnote_cell_type": "markdown"
      },
      "source": [
        "## Descripción del laboratorio."
      ]
    },
    {
      "cell_type": "markdown",
      "metadata": {
        "id": "MhISwri4zAHy",
        "cell_id": "00007-b3b99a7c-5696-433b-a20c-3c6acdd9eb76",
        "deepnote_cell_type": "markdown"
      },
      "source": [
        "### Importamos librerias utiles 😸"
      ]
    },
    {
      "cell_type": "code",
      "metadata": {
        "ExecuteTime": {
          "end_time": "2021-03-29T00:08:16.884674Z",
          "start_time": "2021-03-29T00:08:16.349846Z"
        },
        "id": "uyc33dKdzAHy",
        "colab": {
          "base_uri": "https://localhost:8080/"
        },
        "deepnote_to_be_reexecuted": false,
        "source_hash": "a3741fd5",
        "execution_start": 1635469788590,
        "execution_millis": 8517,
        "cell_id": "00008-147c370f-05a3-40e6-88ce-931f568c02ba",
        "deepnote_cell_type": "code",
        "outputId": "dd7db53c-072d-4b99-af65-0031e5aaa201"
      },
      "source": [
        "# Libreria Core del lab.\n",
        "import numpy as np\n",
        "import pandas as pd\n",
        "import datetime\n",
        "from IPython.display import HTML\n",
        "\n",
        "# Libreria para plotear (En colab esta desactualizado plotly)\n",
        "!pip install --upgrade plotly\n",
        "import plotly.express as px\n",
        "import plotly.graph_objects as go\n",
        "\n",
        "# Librerias utiles\n",
        "from sklearn.manifold import TSNE\n",
        "from sklearn.cluster import KMeans\n",
        "from sklearn.base import BaseEstimator, TransformerMixin\n",
        "from sklearn.model_selection import train_test_split \n",
        "from sklearn.pipeline import Pipeline\n",
        "from sklearn.compose import ColumnTransformer\n",
        "from sklearn.preprocessing import FunctionTransformer"
      ],
      "execution_count": 1,
      "outputs": [
        {
          "output_type": "stream",
          "name": "stdout",
          "text": [
            "Requirement already satisfied: plotly in /usr/local/lib/python3.7/dist-packages (4.4.1)\n",
            "Collecting plotly\n",
            "  Downloading plotly-5.4.0-py2.py3-none-any.whl (25.3 MB)\n",
            "\u001b[K     |████████████████████████████████| 25.3 MB 59 kB/s \n",
            "\u001b[?25hRequirement already satisfied: six in /usr/local/lib/python3.7/dist-packages (from plotly) (1.15.0)\n",
            "Collecting tenacity>=6.2.0\n",
            "  Downloading tenacity-8.0.1-py3-none-any.whl (24 kB)\n",
            "Installing collected packages: tenacity, plotly\n",
            "  Attempting uninstall: plotly\n",
            "    Found existing installation: plotly 4.4.1\n",
            "    Uninstalling plotly-4.4.1:\n",
            "      Successfully uninstalled plotly-4.4.1\n",
            "Successfully installed plotly-5.4.0 tenacity-8.0.1\n"
          ]
        }
      ]
    },
    {
      "cell_type": "code",
      "metadata": {
        "deepnote_to_be_reexecuted": false,
        "source_hash": "c60dc4a7",
        "execution_start": 1635165625274,
        "execution_millis": 7,
        "cell_id": "00009-8a73dd07-b0c0-471a-8db1-e539107fe785",
        "deepnote_cell_type": "code",
        "colab": {
          "base_uri": "https://localhost:8080/"
        },
        "id": "7vOs-VwDJgbg",
        "outputId": "007b5215-1bff-4f69-b5dd-28e4d95aadb1"
      },
      "source": [
        "# Si usted está utilizando Colabolatory le puede ser útil este código para cargar los archivos.\n",
        "try:\n",
        "    from google.colab import drive\n",
        "    drive.mount(\"/content/drive\")\n",
        "    path = '/content/drive/MyDrive/LaboratorioDS/Lab6/online_retail_II_cleaned.pickle'\n",
        "except: \n",
        "    print('Ignorando conexión drive-colab')"
      ],
      "execution_count": 2,
      "outputs": [
        {
          "output_type": "stream",
          "name": "stdout",
          "text": [
            "Mounted at /content/drive\n"
          ]
        }
      ]
    },
    {
      "cell_type": "markdown",
      "metadata": {
        "tags": [],
        "cell_id": "00010-56ea896a-98bf-4f18-b240-c17333fbccf3",
        "deepnote_cell_type": "markdown",
        "id": "ZMVoA4EmJQ_d"
      },
      "source": [
        "<p align=\"center\"><iframe width=\"560\" height=\"315\" src=\"https://www.youtube.com/embed/MW4d8_LLYp8?rel=0&amp;controls=0&amp;showinfo=0\" frameborder=\"1\" allowfullscreen></iframe></p>"
      ]
    },
    {
      "cell_type": "markdown",
      "metadata": {
        "id": "QDwIXTh7bK_A",
        "cell_id": "00011-44ff4b7f-0721-4a5a-91cf-0fed38291eb2",
        "deepnote_cell_type": "markdown"
      },
      "source": [
        "# Segmentación de Clientes en Tienda de Retail 🛍️"
      ]
    },
    {
      "cell_type": "markdown",
      "metadata": {
        "tags": [],
        "cell_id": "00012-3f997299-ad75-4cd4-80b4-839d33c07b2a",
        "deepnote_cell_type": "markdown",
        "id": "tswKvBORJQ_e"
      },
      "source": [
        "<p align=\"center\">\n",
        "  <img width=300 src=\"https://s1.eestatic.com/2018/04/14/social/la_jungla_-_social_299733421_73842361_854x640.jpg\">\n",
        "</p>"
      ]
    },
    {
      "cell_type": "markdown",
      "metadata": {
        "tags": [],
        "cell_id": "00013-21aecb33-d28d-4fcb-93db-67307326ab2b",
        "deepnote_cell_type": "markdown",
        "id": "q2OOHFfGJQ_e"
      },
      "source": [
        "## 1.1 Cargar Dataset"
      ]
    },
    {
      "cell_type": "markdown",
      "metadata": {
        "tags": [],
        "cell_id": "00014-bfeb4dba-666e-4613-af4b-c609a72df95e",
        "deepnote_cell_type": "markdown",
        "id": "vjQmR7-QJQ_f"
      },
      "source": [
        "Mr. Lepin, en una nueva reunión, le cuenta a ud y su equipo que los resultados derivados del análisis exploratorio de dato presentaron una gran utilidad para la empresa y que tiene un gran entusiasmo por continuar trabajando con ustedes.\n",
        "Es por esto, que Mr. Lepin les pide que cargue y visualicen algunas de las filas que componen el Dataset.\n",
        "A continuación un extracto de lo parlamentado en la reunión:\n",
        "\n",
        "    - Usted: Es un gran logro para nuestro equipo que usted haya encontrado excelente el EDA. ¿Qué tiene en mente ahora?\n",
        "    - Mr. Lepin: Resulta que hace algún tiempo, mientras tomaba un mojito en una reunión de gerentes en Panamá, oí a un *chato* acerca de **LRMFP**, que es un modelo que permite personificar a los clientes a través de la farbicación de distintos atributos que describen a los clientes. Lo encontré es-tu-pendo ñatito. \n",
        "    - Usted: Ehh bueno. Investigaremos acerca de este modelo y veremos lo que podemos hacer.\n",
        "\n",
        "Por ende, su siguiente tarea es calcular **LRMFP** sobre cada cliente y luego hacer un análisis de las características generadas. Para esto, el área de ventas les entrega un nuevo archivo llamado `online_retail_II_cleaned.pickle`, quien posee los datos del DataFrame original limpios y listos para obtener las características solicitadas por Mr. Lepin."
      ]
    },
    {
      "cell_type": "code",
      "metadata": {
        "deepnote_to_be_reexecuted": false,
        "source_hash": "d52b246c",
        "execution_start": 1635469797118,
        "execution_millis": 466,
        "cell_id": "00015-9f304f85-cc91-43d5-b9e0-e16decca6cd0",
        "deepnote_cell_type": "code",
        "id": "TGVbTbXzJ1Of"
      },
      "source": [
        "df_retail_all = pd.read_pickle(path)\n",
        "df_retail_all = df_retail_all.astype(\n",
        "    {\n",
        "        \"Invoice\": \"category\",\n",
        "        \"StockCode\": \"category\",\n",
        "        \"Description\": \"category\",\n",
        "        \"Description\": str,\n",
        "        \"Customer ID\": \"category\",\n",
        "        \"Country\": \"category\"\n",
        "    }\n",
        ")\n",
        "#df_retail.head(10)\n",
        "#df_retail.shape\n",
        "\n",
        "#df_retail = df_retail_all[0:10000]"
      ],
      "execution_count": 4,
      "outputs": []
    },
    {
      "cell_type": "markdown",
      "metadata": {
        "tags": [],
        "cell_id": "00016-245c3eeb-d33d-4da1-b738-a91d4e055fa1",
        "deepnote_cell_type": "markdown",
        "id": "Sprw0ui_JQ_f"
      },
      "source": [
        "## 1.2 Creación de nuevas Caracteristicas [2 Puntos] "
      ]
    },
    {
      "cell_type": "markdown",
      "metadata": {
        "tags": [],
        "cell_id": "00017-011b89ed-d830-4f8e-9e4d-2c8d156651c3",
        "deepnote_cell_type": "markdown",
        "id": "zQquwDOEJQ_f"
      },
      "source": [
        "Como ya se les comento, Mr. Lepin esta interesado en obtener las características **LRMFP**, para esto les señala que estas características se construyen en base a las siguientes definiciones:\n",
        "\n",
        "- **Length (L)**: Intervalo de tiempo, en días, entre la primera y la última visita del cliente. Mientras mas grande sea el valor, mas fiel es el cliente.\n",
        "- **Recency (R)**: Indica la actualidad de la interacción de un cliente con la empresa, y da información sobre la tendencia a repetir la compra. Se define como: \n",
        "$$Recency(n)=\\dfrac{1}{n} \\sum^n_{i=1} date\\_diff(t_{fecha final}, t_{m-i+1})$$\n",
        "\n",
        " Donde $date\\_diff$ representa la diferencia en días entre la fecha de finalización del periodo de observación ($t_{fecha final}$), y la fecha de una visita del cliente cercana a $t_{fecha final}$, $t_{m-i+1}; t_{m}$ es la última visita del cliente; y n es el número de visitas recientes del cliente consideradas.\n",
        "\n",
        "- **Monetary (M)**: El término \"monetario\" se refiere a la cantidad media de dinero gastada por cada visita del cliente durante el período de observación y refleja la contribución del cliente a los ingresos de la empresa.\n",
        "\n",
        "- **Frequency (F)**: Se refiere al número total de visitas del cliente durante el periodo de observación. Cuanto mayor sea la frecuencia, mayor será la fidelidad del cliente. \n",
        "\n",
        "- **Periodicity (P)**: Representa si los clientes visitan las tiendas con regularidad.\n",
        "\n",
        "$$Periodicity(n)=std(IVT_1, ..., IVT_n)$$\n",
        "\n",
        "&nbsp;&nbsp; &nbsp;&nbsp;&nbsp;&nbsp;&nbsp;&nbsp;Donde $IVT$ denota el tiempo entre visitas y n representa el número de valores de tiempo entre visitas de un cliente.\n",
        " \n",
        "\n",
        "$$IVT_i=date\\_diff(t_{i+1},t)$$\n",
        "\n",
        "En base a las definiciones señaladas, diseñe una función que permita obtener las características **LRMFP** recibiendo un DataFrame como entrada. Para esto, no estará permitido el uso de iteradores, utilice todas las herramientas que les ofrece `pandas` para realizar esto.\n",
        "\n",
        "Una referencia que le puede ser útil es el [documento original](https://www.researchgate.net/publication/315979555_LRFMP_model_for_customer_segmentation_in_the_grocery_retail_industry_a_case_study) en donde se propone este método.\n",
        "\n",
        "**Nota:** Para la $fechafinal$ utilice la fecha máxima del dataset más 1 día."
      ]
    },
    {
      "cell_type": "markdown",
      "metadata": {
        "tags": [],
        "cell_id": "00018-24bac8c8-bd63-41ac-8e0f-de55e02c56f0",
        "deepnote_cell_type": "markdown",
        "id": "p_JDMjNxJQ_g"
      },
      "source": [
        "**Ejemplo de Resultado Esperado:**\n",
        "\n",
        "| Customer ID | Length | Recency | Frequency | Monetary | Periodicity |\n",
        "|------------:|-------:|--------:|----------:|---------:|------------:|\n",
        "|   12346.0   |    294 |      67 |        46 |   -64.68 |        37.0 |\n",
        "|   12347.0   |     37 |       3 |        71 |  1323.32 |         0.0 |\n",
        "|   12349.0   |    327 |      43 |       107 |  2646.99 |        78.0 |\n",
        "|   12352.0   |     16 |      11 |        18 |   343.80 |         0.0 |\n",
        "|   12356.0   |     44 |      16 |        84 |  3562.25 |        12.0 |"
      ]
    },
    {
      "cell_type": "markdown",
      "metadata": {
        "tags": [],
        "cell_id": "00019-0bbd888f-87e7-49f7-a5d5-81564c13fe16",
        "deepnote_cell_type": "markdown",
        "id": "89o9fsqHJQ_g"
      },
      "source": [
        "**Respuesta:**"
      ]
    },
    {
      "cell_type": "code",
      "metadata": {
        "colab": {
          "base_uri": "https://localhost:8080/"
        },
        "id": "SgklwWJsJ7gC",
        "outputId": "3ab68ae5-9142-4a80-8f0b-e75c0a388236"
      },
      "source": [
        "df_retail_all.shape"
      ],
      "execution_count": 5,
      "outputs": [
        {
          "output_type": "execute_result",
          "data": {
            "text/plain": [
              "(400947, 8)"
            ]
          },
          "metadata": {},
          "execution_count": 5
        }
      ]
    },
    {
      "cell_type": "code",
      "metadata": {
        "id": "EdJom5AWJ_19"
      },
      "source": [
        "from datetime import timedelta"
      ],
      "execution_count": 6,
      "outputs": []
    },
    {
      "cell_type": "code",
      "metadata": {
        "colab": {
          "base_uri": "https://localhost:8080/"
        },
        "id": "I5Dt5HfEKCAX",
        "outputId": "628dc679-5cc6-42a3-da48-306bc3cd2176"
      },
      "source": [
        "print('{:,} rows; {:,} columns'\n",
        "      .format(df_retail_all.shape[0], df_retail_all.shape[1]))\n",
        "print('{:,} transactions don\\'t have a customer id'\n",
        "      .format(df_retail_all[df_retail_all['Customer ID'].isnull()].shape[0]))\n",
        "print('Transactions timeframe from {} to {}'.format(df_retail_all['InvoiceDate'].min(),\n",
        "                                    df_retail_all['InvoiceDate'].max()))"
      ],
      "execution_count": 7,
      "outputs": [
        {
          "output_type": "stream",
          "name": "stdout",
          "text": [
            "400,947 rows; 8 columns\n",
            "0 transactions don't have a customer id\n",
            "Transactions timeframe from 2009-12-01 07:45:00 to 2010-12-09 20:01:00\n"
          ]
        }
      ]
    },
    {
      "cell_type": "code",
      "metadata": {
        "colab": {
          "base_uri": "https://localhost:8080/"
        },
        "id": "iJWIKqldKGZK",
        "outputId": "84c014ee-f59a-4087-e0b2-e9ebed2905d5"
      },
      "source": [
        "customer_info = {\n",
        "    \n",
        "}\n",
        "for row in df_retail_all.iterrows():\n",
        "  print(row)\n",
        "  break"
      ],
      "execution_count": 8,
      "outputs": [
        {
          "output_type": "stream",
          "name": "stdout",
          "text": [
            "(0, Invoice                                     489434\n",
            "StockCode                                    85048\n",
            "Description    15CM CHRISTMAS GLASS BALL 20 LIGHTS\n",
            "Quantity                                        12\n",
            "InvoiceDate                    2009-12-01 07:45:00\n",
            "Price                                         6.95\n",
            "Customer ID                                  13085\n",
            "Country                             United Kingdom\n",
            "Name: 0, dtype: object)\n"
          ]
        }
      ]
    },
    {
      "cell_type": "code",
      "metadata": {
        "tags": [],
        "cell_id": "00020-1a24ff7c-fd2f-416e-8275-2107b7dc2a78",
        "deepnote_cell_type": "code",
        "id": "I1GYKqRrqsdI"
      },
      "source": [
        "def custom_features(dataframe_in):\n",
        "  max_date = dataframe_in['InvoiceDate'].max()\n",
        "  snapshot_date = dataframe_in['InvoiceDate'].max() + timedelta(days=1)\n",
        "  data = {}\n",
        "  for k, row in dataframe_in.iterrows():\n",
        "    # retrieve customer data dict\n",
        "    cust_id = row['Customer ID']\n",
        "    try:\n",
        "      cust_data = data[cust_id]\n",
        "    except:\n",
        "      cust_data = {}\n",
        "      data[cust_id] = cust_data\n",
        "\n",
        "    # retrieve invoice data dict\n",
        "    invoice_id = row['Invoice']\n",
        "    invoice_date = row['InvoiceDate']\n",
        "    try:\n",
        "      invoice_data = cust_data[invoice_id]\n",
        "    except:\n",
        "      invoice_data = {\n",
        "          'date' : invoice_date,\n",
        "          'monetary' : 0,\n",
        "          'items' : 0\n",
        "      }\n",
        "      cust_data[invoice_id] = invoice_data\n",
        "\n",
        "    # update invoice data\n",
        "    invoice_data['monetary'] += row['Price'] * row['Quantity']\n",
        "    \n",
        "  #fill in result dataframe\n",
        "  result_df = []\n",
        "  for cust_id, cust_data in data.items():\n",
        "    cust_dates = sorted([invoice_data['date'] for invoice_id, invoice_data in cust_data.items()], reverse=False)\n",
        "    row_data = {\n",
        "        'Customer ID' : cust_id,\n",
        "        'Length'      : (cust_dates[-1] - cust_dates[0]).days,\n",
        "        #'recency(1)'  : (max_date - cust_dates[-1]).days,\n",
        "        'Recency'     : (snapshot_date - cust_dates[-1]).days,\n",
        "        #'recency(5)'  : np.mean([(max_date - a_date).days for a_date in cust_dates[-5:]]),\n",
        "        'Frequency'   : len(cust_dates),\n",
        "        'Monetary'    : np.mean([invoice_data['monetary'] for invoice_id, invoice_data in cust_data.items()]),\n",
        "        'Periodicity' : np.std([(next_date - previous_date).days for previous_date, next_date in zip(cust_dates[:-1], cust_dates[1:])])\n",
        "    }\n",
        "    result_df.append(row_data)\n",
        "  result_df= pd.DataFrame(data = result_df)\n",
        "  #df_result = result_df.sort_values('Customer ID')\n",
        "  df_result = result_df.dropna()\n",
        "  return df_result"
      ],
      "execution_count": 9,
      "outputs": []
    },
    {
      "cell_type": "code",
      "metadata": {
        "colab": {
          "base_uri": "https://localhost:8080/",
          "height": 526
        },
        "id": "UiLdOu-4KQrZ",
        "outputId": "83663f50-b020-4ce5-e8f4-6dc9011c64c7"
      },
      "source": [
        "custom_features(df_retail_all)"
      ],
      "execution_count": 10,
      "outputs": [
        {
          "output_type": "stream",
          "name": "stderr",
          "text": [
            "/usr/local/lib/python3.7/dist-packages/numpy/core/_methods.py:234: RuntimeWarning: Degrees of freedom <= 0 for slice\n",
            "  keepdims=keepdims)\n",
            "/usr/local/lib/python3.7/dist-packages/numpy/core/_methods.py:195: RuntimeWarning: invalid value encountered in true_divide\n",
            "  arrmean, rcount, out=arrmean, casting='unsafe', subok=False)\n",
            "/usr/local/lib/python3.7/dist-packages/numpy/core/_methods.py:226: RuntimeWarning: invalid value encountered in double_scalars\n",
            "  ret = ret.dtype.type(ret / rcount)\n"
          ]
        },
        {
          "output_type": "execute_result",
          "data": {
            "text/html": [
              "<div>\n",
              "<style scoped>\n",
              "    .dataframe tbody tr th:only-of-type {\n",
              "        vertical-align: middle;\n",
              "    }\n",
              "\n",
              "    .dataframe tbody tr th {\n",
              "        vertical-align: top;\n",
              "    }\n",
              "\n",
              "    .dataframe thead th {\n",
              "        text-align: right;\n",
              "    }\n",
              "</style>\n",
              "<table border=\"1\" class=\"dataframe\">\n",
              "  <thead>\n",
              "    <tr style=\"text-align: right;\">\n",
              "      <th></th>\n",
              "      <th>Customer ID</th>\n",
              "      <th>Length</th>\n",
              "      <th>Recency</th>\n",
              "      <th>Frequency</th>\n",
              "      <th>Monetary</th>\n",
              "      <th>Periodicity</th>\n",
              "    </tr>\n",
              "  </thead>\n",
              "  <tbody>\n",
              "    <tr>\n",
              "      <th>0</th>\n",
              "      <td>13085.0</td>\n",
              "      <td>59</td>\n",
              "      <td>315</td>\n",
              "      <td>6</td>\n",
              "      <td>336.200000</td>\n",
              "      <td>22.213509</td>\n",
              "    </tr>\n",
              "    <tr>\n",
              "      <th>1</th>\n",
              "      <td>13078.0</td>\n",
              "      <td>372</td>\n",
              "      <td>2</td>\n",
              "      <td>32</td>\n",
              "      <td>528.265938</td>\n",
              "      <td>5.912473</td>\n",
              "    </tr>\n",
              "    <tr>\n",
              "      <th>2</th>\n",
              "      <td>15362.0</td>\n",
              "      <td>290</td>\n",
              "      <td>84</td>\n",
              "      <td>2</td>\n",
              "      <td>306.540000</td>\n",
              "      <td>0.000000</td>\n",
              "    </tr>\n",
              "    <tr>\n",
              "      <th>3</th>\n",
              "      <td>18102.0</td>\n",
              "      <td>373</td>\n",
              "      <td>1</td>\n",
              "      <td>89</td>\n",
              "      <td>3923.194944</td>\n",
              "      <td>7.192024</td>\n",
              "    </tr>\n",
              "    <tr>\n",
              "      <th>4</th>\n",
              "      <td>12682.0</td>\n",
              "      <td>373</td>\n",
              "      <td>1</td>\n",
              "      <td>23</td>\n",
              "      <td>510.682174</td>\n",
              "      <td>10.232423</td>\n",
              "    </tr>\n",
              "    <tr>\n",
              "      <th>...</th>\n",
              "      <td>...</td>\n",
              "      <td>...</td>\n",
              "      <td>...</td>\n",
              "      <td>...</td>\n",
              "      <td>...</td>\n",
              "      <td>...</td>\n",
              "    </tr>\n",
              "    <tr>\n",
              "      <th>4242</th>\n",
              "      <td>16893.0</td>\n",
              "      <td>9</td>\n",
              "      <td>2</td>\n",
              "      <td>2</td>\n",
              "      <td>124.945000</td>\n",
              "      <td>0.000000</td>\n",
              "    </tr>\n",
              "    <tr>\n",
              "      <th>4246</th>\n",
              "      <td>17722.0</td>\n",
              "      <td>9</td>\n",
              "      <td>2</td>\n",
              "      <td>2</td>\n",
              "      <td>1003.160000</td>\n",
              "      <td>0.000000</td>\n",
              "    </tr>\n",
              "    <tr>\n",
              "      <th>4251</th>\n",
              "      <td>17671.0</td>\n",
              "      <td>10</td>\n",
              "      <td>1</td>\n",
              "      <td>2</td>\n",
              "      <td>415.315000</td>\n",
              "      <td>0.000000</td>\n",
              "    </tr>\n",
              "    <tr>\n",
              "      <th>4259</th>\n",
              "      <td>17223.0</td>\n",
              "      <td>6</td>\n",
              "      <td>4</td>\n",
              "      <td>2</td>\n",
              "      <td>216.995000</td>\n",
              "      <td>0.000000</td>\n",
              "    </tr>\n",
              "    <tr>\n",
              "      <th>4291</th>\n",
              "      <td>17198.0</td>\n",
              "      <td>5</td>\n",
              "      <td>1</td>\n",
              "      <td>2</td>\n",
              "      <td>260.830000</td>\n",
              "      <td>0.000000</td>\n",
              "    </tr>\n",
              "  </tbody>\n",
              "</table>\n",
              "<p>2893 rows × 6 columns</p>\n",
              "</div>"
            ],
            "text/plain": [
              "      Customer ID  Length  Recency  Frequency     Monetary  Periodicity\n",
              "0         13085.0      59      315          6   336.200000    22.213509\n",
              "1         13078.0     372        2         32   528.265938     5.912473\n",
              "2         15362.0     290       84          2   306.540000     0.000000\n",
              "3         18102.0     373        1         89  3923.194944     7.192024\n",
              "4         12682.0     373        1         23   510.682174    10.232423\n",
              "...           ...     ...      ...        ...          ...          ...\n",
              "4242      16893.0       9        2          2   124.945000     0.000000\n",
              "4246      17722.0       9        2          2  1003.160000     0.000000\n",
              "4251      17671.0      10        1          2   415.315000     0.000000\n",
              "4259      17223.0       6        4          2   216.995000     0.000000\n",
              "4291      17198.0       5        1          2   260.830000     0.000000\n",
              "\n",
              "[2893 rows x 6 columns]"
            ]
          },
          "metadata": {},
          "execution_count": 10
        }
      ]
    },
    {
      "cell_type": "code",
      "metadata": {
        "colab": {
          "base_uri": "https://localhost:8080/"
        },
        "id": "XRR3VMneLn8G",
        "outputId": "214e3cd5-fbbf-421f-9b6a-9df1b85a4342"
      },
      "source": [
        "df_result = custom_features(df_retail_all)"
      ],
      "execution_count": 11,
      "outputs": [
        {
          "output_type": "stream",
          "name": "stderr",
          "text": [
            "/usr/local/lib/python3.7/dist-packages/numpy/core/_methods.py:234: RuntimeWarning: Degrees of freedom <= 0 for slice\n",
            "  keepdims=keepdims)\n",
            "/usr/local/lib/python3.7/dist-packages/numpy/core/_methods.py:195: RuntimeWarning: invalid value encountered in true_divide\n",
            "  arrmean, rcount, out=arrmean, casting='unsafe', subok=False)\n",
            "/usr/local/lib/python3.7/dist-packages/numpy/core/_methods.py:226: RuntimeWarning: invalid value encountered in double_scalars\n",
            "  ret = ret.dtype.type(ret / rcount)\n"
          ]
        }
      ]
    },
    {
      "cell_type": "code",
      "metadata": {
        "colab": {
          "base_uri": "https://localhost:8080/",
          "height": 419
        },
        "id": "MzwfUvfHLpGh",
        "outputId": "c274e662-2ec6-4ef9-b76a-755bb1b8fb0d"
      },
      "source": [
        "df_result"
      ],
      "execution_count": 12,
      "outputs": [
        {
          "output_type": "execute_result",
          "data": {
            "text/html": [
              "<div>\n",
              "<style scoped>\n",
              "    .dataframe tbody tr th:only-of-type {\n",
              "        vertical-align: middle;\n",
              "    }\n",
              "\n",
              "    .dataframe tbody tr th {\n",
              "        vertical-align: top;\n",
              "    }\n",
              "\n",
              "    .dataframe thead th {\n",
              "        text-align: right;\n",
              "    }\n",
              "</style>\n",
              "<table border=\"1\" class=\"dataframe\">\n",
              "  <thead>\n",
              "    <tr style=\"text-align: right;\">\n",
              "      <th></th>\n",
              "      <th>Customer ID</th>\n",
              "      <th>Length</th>\n",
              "      <th>Recency</th>\n",
              "      <th>Frequency</th>\n",
              "      <th>Monetary</th>\n",
              "      <th>Periodicity</th>\n",
              "    </tr>\n",
              "  </thead>\n",
              "  <tbody>\n",
              "    <tr>\n",
              "      <th>0</th>\n",
              "      <td>13085.0</td>\n",
              "      <td>59</td>\n",
              "      <td>315</td>\n",
              "      <td>6</td>\n",
              "      <td>336.200000</td>\n",
              "      <td>22.213509</td>\n",
              "    </tr>\n",
              "    <tr>\n",
              "      <th>1</th>\n",
              "      <td>13078.0</td>\n",
              "      <td>372</td>\n",
              "      <td>2</td>\n",
              "      <td>32</td>\n",
              "      <td>528.265938</td>\n",
              "      <td>5.912473</td>\n",
              "    </tr>\n",
              "    <tr>\n",
              "      <th>2</th>\n",
              "      <td>15362.0</td>\n",
              "      <td>290</td>\n",
              "      <td>84</td>\n",
              "      <td>2</td>\n",
              "      <td>306.540000</td>\n",
              "      <td>0.000000</td>\n",
              "    </tr>\n",
              "    <tr>\n",
              "      <th>3</th>\n",
              "      <td>18102.0</td>\n",
              "      <td>373</td>\n",
              "      <td>1</td>\n",
              "      <td>89</td>\n",
              "      <td>3923.194944</td>\n",
              "      <td>7.192024</td>\n",
              "    </tr>\n",
              "    <tr>\n",
              "      <th>4</th>\n",
              "      <td>12682.0</td>\n",
              "      <td>373</td>\n",
              "      <td>1</td>\n",
              "      <td>23</td>\n",
              "      <td>510.682174</td>\n",
              "      <td>10.232423</td>\n",
              "    </tr>\n",
              "    <tr>\n",
              "      <th>...</th>\n",
              "      <td>...</td>\n",
              "      <td>...</td>\n",
              "      <td>...</td>\n",
              "      <td>...</td>\n",
              "      <td>...</td>\n",
              "      <td>...</td>\n",
              "    </tr>\n",
              "    <tr>\n",
              "      <th>4242</th>\n",
              "      <td>16893.0</td>\n",
              "      <td>9</td>\n",
              "      <td>2</td>\n",
              "      <td>2</td>\n",
              "      <td>124.945000</td>\n",
              "      <td>0.000000</td>\n",
              "    </tr>\n",
              "    <tr>\n",
              "      <th>4246</th>\n",
              "      <td>17722.0</td>\n",
              "      <td>9</td>\n",
              "      <td>2</td>\n",
              "      <td>2</td>\n",
              "      <td>1003.160000</td>\n",
              "      <td>0.000000</td>\n",
              "    </tr>\n",
              "    <tr>\n",
              "      <th>4251</th>\n",
              "      <td>17671.0</td>\n",
              "      <td>10</td>\n",
              "      <td>1</td>\n",
              "      <td>2</td>\n",
              "      <td>415.315000</td>\n",
              "      <td>0.000000</td>\n",
              "    </tr>\n",
              "    <tr>\n",
              "      <th>4259</th>\n",
              "      <td>17223.0</td>\n",
              "      <td>6</td>\n",
              "      <td>4</td>\n",
              "      <td>2</td>\n",
              "      <td>216.995000</td>\n",
              "      <td>0.000000</td>\n",
              "    </tr>\n",
              "    <tr>\n",
              "      <th>4291</th>\n",
              "      <td>17198.0</td>\n",
              "      <td>5</td>\n",
              "      <td>1</td>\n",
              "      <td>2</td>\n",
              "      <td>260.830000</td>\n",
              "      <td>0.000000</td>\n",
              "    </tr>\n",
              "  </tbody>\n",
              "</table>\n",
              "<p>2893 rows × 6 columns</p>\n",
              "</div>"
            ],
            "text/plain": [
              "      Customer ID  Length  Recency  Frequency     Monetary  Periodicity\n",
              "0         13085.0      59      315          6   336.200000    22.213509\n",
              "1         13078.0     372        2         32   528.265938     5.912473\n",
              "2         15362.0     290       84          2   306.540000     0.000000\n",
              "3         18102.0     373        1         89  3923.194944     7.192024\n",
              "4         12682.0     373        1         23   510.682174    10.232423\n",
              "...           ...     ...      ...        ...          ...          ...\n",
              "4242      16893.0       9        2          2   124.945000     0.000000\n",
              "4246      17722.0       9        2          2  1003.160000     0.000000\n",
              "4251      17671.0      10        1          2   415.315000     0.000000\n",
              "4259      17223.0       6        4          2   216.995000     0.000000\n",
              "4291      17198.0       5        1          2   260.830000     0.000000\n",
              "\n",
              "[2893 rows x 6 columns]"
            ]
          },
          "metadata": {},
          "execution_count": 12
        }
      ]
    },
    {
      "cell_type": "markdown",
      "metadata": {
        "tags": [],
        "cell_id": "00021-7a165a57-848e-4404-870f-cdaba339a9d8",
        "deepnote_cell_type": "markdown",
        "id": "ieTLZX6zJQ_g"
      },
      "source": [
        "**Resúesta de Pauta:**"
      ]
    },
    {
      "cell_type": "markdown",
      "metadata": {
        "tags": [],
        "cell_id": "00024-d2150b7a-431a-4480-a6b3-801f31c9e464",
        "deepnote_cell_type": "markdown",
        "id": "ktGgv67bJQ_h"
      },
      "source": [
        "## 1.3 Pipelines 👷"
      ]
    },
    {
      "cell_type": "markdown",
      "metadata": {
        "tags": [],
        "cell_id": "00025-34c61ca0-c2da-4708-90a6-d8a6919da07b",
        "deepnote_cell_type": "markdown",
        "id": "u-R4sq-mJQ_h"
      },
      "source": [
        "Finalmente *Don Mora* le pregunta si seria posible realizar un pipeline para realizar una segmentación de los clientes con los nuevos datos generados, a lo que usted responde que **sí** y propone la utilización de k-means para la segmentación.\n",
        "\n",
        "A continuación siga los pasos requeridos para obtener la segmentación de clientes."
      ]
    },
    {
      "cell_type": "markdown",
      "metadata": {
        "tags": [],
        "cell_id": "00026-f8effaef-07fa-40a9-a9cc-1b2f7f4bc137",
        "deepnote_cell_type": "markdown",
        "id": "16LGdk_-JQ_h"
      },
      "source": [
        "### 1.3.1 Estandarizar Caracteristicas [0.5 puntos]"
      ]
    },
    {
      "cell_type": "markdown",
      "metadata": {
        "tags": [],
        "cell_id": "00027-278c72d0-3d92-448e-85a2-af5dab7d6d77",
        "deepnote_cell_type": "markdown",
        "id": "oYNhhgyoJQ_h"
      },
      "source": [
        "Construya una clase llamada ``MinMax()`` utilizando ``BaseEstimator`` y ``TransformerMixin`` para realizar una transformación de cada una de las columnas de un DataFrame utilizando ``ColumnTransformer()`` más tarde (tome como referencia el siguiente [enlace](https://sklearn-template.readthedocs.io/en/latest/user_guide.html#transformer)).\n",
        "\n",
        "\n",
        " Para esto considere que Min-Max escaler queda dada por la ecuación:\n",
        "\n",
        "$$MinMax = \\dfrac{x-min(x)}{max(x) - min(x)}$$\n",
        "\n",
        "Con esto buscamos que los valores que componen a las columnas se muevan en el rango de valores $[0, 1]$."
      ]
    },
    {
      "cell_type": "markdown",
      "metadata": {
        "tags": [],
        "cell_id": "00028-db77257b-6ecc-4dee-9f70-4f105e6aba42",
        "deepnote_cell_type": "markdown",
        "id": "X7UVJciSJQ_h"
      },
      "source": [
        "**Respuesta:**"
      ]
    },
    {
      "cell_type": "code",
      "metadata": {
        "id": "tEpnJVsswGwA"
      },
      "source": [
        "from sklearn.pipeline import Pipeline, TransformerMixin\n",
        "from sklearn.neighbors import LocalOutlierFactor\n",
        "from sklearn.base import BaseEstimator\n",
        "from sklearn.base import TransformerMixin\n",
        "\n",
        "# Hacer una funcion auxiliar a la que se le entregue una columna, le resta su minimo y lo divide por MinMax\n",
        "# Definir en la clase el \"transform\"\n",
        "\n",
        "class MyOwnEstimator(BaseEstimator):\n",
        "    pass\n",
        "\n",
        "class MinMax(BaseEstimator, TransformerMixin):\n",
        "  #X = df.columns\n",
        "  def fit(self, X, y=None):\n",
        "    return self\n",
        "  def transform(self, df):\n",
        "    MinMax = (df.loc[:] - df.loc[:].min())/(df.loc[:].max()- df.loc[:].min())\n",
        "\n",
        "\n",
        "    return MinMax\n",
        "    \n"
      ],
      "execution_count": 14,
      "outputs": []
    },
    {
      "cell_type": "code",
      "metadata": {
        "colab": {
          "base_uri": "https://localhost:8080/",
          "height": 670
        },
        "id": "j_E6078ML6PU",
        "outputId": "fce1bdd6-e3eb-45e4-c4e1-fb9197a739e5"
      },
      "source": [
        "transformed_data = MinMax().transform(df_result[:])\n",
        "transformed_data.head(20)"
      ],
      "execution_count": 20,
      "outputs": [
        {
          "output_type": "execute_result",
          "data": {
            "text/html": [
              "<div>\n",
              "<style scoped>\n",
              "    .dataframe tbody tr th:only-of-type {\n",
              "        vertical-align: middle;\n",
              "    }\n",
              "\n",
              "    .dataframe tbody tr th {\n",
              "        vertical-align: top;\n",
              "    }\n",
              "\n",
              "    .dataframe thead th {\n",
              "        text-align: right;\n",
              "    }\n",
              "</style>\n",
              "<table border=\"1\" class=\"dataframe\">\n",
              "  <thead>\n",
              "    <tr style=\"text-align: right;\">\n",
              "      <th></th>\n",
              "      <th>Customer ID</th>\n",
              "      <th>Length</th>\n",
              "      <th>Recency</th>\n",
              "      <th>Frequency</th>\n",
              "      <th>Monetary</th>\n",
              "      <th>Periodicity</th>\n",
              "    </tr>\n",
              "  </thead>\n",
              "  <tbody>\n",
              "    <tr>\n",
              "      <th>0</th>\n",
              "      <td>0.124390</td>\n",
              "      <td>0.158177</td>\n",
              "      <td>0.841823</td>\n",
              "      <td>0.019704</td>\n",
              "      <td>0.043511</td>\n",
              "      <td>0.123067</td>\n",
              "    </tr>\n",
              "    <tr>\n",
              "      <th>1</th>\n",
              "      <td>0.123212</td>\n",
              "      <td>0.997319</td>\n",
              "      <td>0.002681</td>\n",
              "      <td>0.147783</td>\n",
              "      <td>0.069195</td>\n",
              "      <td>0.032756</td>\n",
              "    </tr>\n",
              "    <tr>\n",
              "      <th>2</th>\n",
              "      <td>0.507659</td>\n",
              "      <td>0.777480</td>\n",
              "      <td>0.222520</td>\n",
              "      <td>0.000000</td>\n",
              "      <td>0.039545</td>\n",
              "      <td>0.000000</td>\n",
              "    </tr>\n",
              "    <tr>\n",
              "      <th>3</th>\n",
              "      <td>0.968860</td>\n",
              "      <td>1.000000</td>\n",
              "      <td>0.000000</td>\n",
              "      <td>0.428571</td>\n",
              "      <td>0.523179</td>\n",
              "      <td>0.039845</td>\n",
              "    </tr>\n",
              "    <tr>\n",
              "      <th>4</th>\n",
              "      <td>0.056556</td>\n",
              "      <td>1.000000</td>\n",
              "      <td>0.000000</td>\n",
              "      <td>0.103448</td>\n",
              "      <td>0.066843</td>\n",
              "      <td>0.056689</td>\n",
              "    </tr>\n",
              "    <tr>\n",
              "      <th>5</th>\n",
              "      <td>0.966336</td>\n",
              "      <td>0.962466</td>\n",
              "      <td>0.037534</td>\n",
              "      <td>0.064039</td>\n",
              "      <td>0.093994</td>\n",
              "      <td>0.160954</td>\n",
              "    </tr>\n",
              "    <tr>\n",
              "      <th>6</th>\n",
              "      <td>0.216967</td>\n",
              "      <td>0.793566</td>\n",
              "      <td>0.206434</td>\n",
              "      <td>0.004926</td>\n",
              "      <td>0.084499</td>\n",
              "      <td>0.739612</td>\n",
              "    </tr>\n",
              "    <tr>\n",
              "      <th>7</th>\n",
              "      <td>0.296920</td>\n",
              "      <td>0.812332</td>\n",
              "      <td>0.187668</td>\n",
              "      <td>0.093596</td>\n",
              "      <td>0.045068</td>\n",
              "      <td>0.055481</td>\n",
              "    </tr>\n",
              "    <tr>\n",
              "      <th>9</th>\n",
              "      <td>0.870729</td>\n",
              "      <td>0.991957</td>\n",
              "      <td>0.008043</td>\n",
              "      <td>0.039409</td>\n",
              "      <td>0.042220</td>\n",
              "      <td>0.122408</td>\n",
              "    </tr>\n",
              "    <tr>\n",
              "      <th>10</th>\n",
              "      <td>0.237670</td>\n",
              "      <td>0.997319</td>\n",
              "      <td>0.002681</td>\n",
              "      <td>0.039409</td>\n",
              "      <td>0.081815</td>\n",
              "      <td>0.275849</td>\n",
              "    </tr>\n",
              "    <tr>\n",
              "      <th>12</th>\n",
              "      <td>0.516243</td>\n",
              "      <td>0.126005</td>\n",
              "      <td>0.873995</td>\n",
              "      <td>0.014778</td>\n",
              "      <td>0.180383</td>\n",
              "      <td>0.044838</td>\n",
              "    </tr>\n",
              "    <tr>\n",
              "      <th>13</th>\n",
              "      <td>0.669079</td>\n",
              "      <td>0.300268</td>\n",
              "      <td>0.699732</td>\n",
              "      <td>0.000000</td>\n",
              "      <td>0.013991</td>\n",
              "      <td>0.000000</td>\n",
              "    </tr>\n",
              "    <tr>\n",
              "      <th>14</th>\n",
              "      <td>0.643158</td>\n",
              "      <td>0.868633</td>\n",
              "      <td>0.131367</td>\n",
              "      <td>0.014778</td>\n",
              "      <td>0.035624</td>\n",
              "      <td>0.399687</td>\n",
              "    </tr>\n",
              "    <tr>\n",
              "      <th>15</th>\n",
              "      <td>0.928968</td>\n",
              "      <td>0.970509</td>\n",
              "      <td>0.026810</td>\n",
              "      <td>0.118227</td>\n",
              "      <td>0.079743</td>\n",
              "      <td>0.074280</td>\n",
              "    </tr>\n",
              "    <tr>\n",
              "      <th>17</th>\n",
              "      <td>0.239185</td>\n",
              "      <td>0.989276</td>\n",
              "      <td>0.010724</td>\n",
              "      <td>0.182266</td>\n",
              "      <td>0.061369</td>\n",
              "      <td>0.064583</td>\n",
              "    </tr>\n",
              "    <tr>\n",
              "      <th>18</th>\n",
              "      <td>0.823430</td>\n",
              "      <td>0.983914</td>\n",
              "      <td>0.016086</td>\n",
              "      <td>0.073892</td>\n",
              "      <td>0.029881</td>\n",
              "      <td>0.139853</td>\n",
              "    </tr>\n",
              "    <tr>\n",
              "      <th>19</th>\n",
              "      <td>0.566571</td>\n",
              "      <td>0.962466</td>\n",
              "      <td>0.037534</td>\n",
              "      <td>0.024631</td>\n",
              "      <td>0.044402</td>\n",
              "      <td>0.195238</td>\n",
              "    </tr>\n",
              "    <tr>\n",
              "      <th>20</th>\n",
              "      <td>0.499074</td>\n",
              "      <td>1.000000</td>\n",
              "      <td>0.000000</td>\n",
              "      <td>0.586207</td>\n",
              "      <td>0.060378</td>\n",
              "      <td>0.015527</td>\n",
              "    </tr>\n",
              "    <tr>\n",
              "      <th>21</th>\n",
              "      <td>0.670426</td>\n",
              "      <td>0.833780</td>\n",
              "      <td>0.166220</td>\n",
              "      <td>0.009852</td>\n",
              "      <td>0.054213</td>\n",
              "      <td>0.422508</td>\n",
              "    </tr>\n",
              "    <tr>\n",
              "      <th>22</th>\n",
              "      <td>0.901195</td>\n",
              "      <td>0.957105</td>\n",
              "      <td>0.042895</td>\n",
              "      <td>0.039409</td>\n",
              "      <td>0.053986</td>\n",
              "      <td>0.112210</td>\n",
              "    </tr>\n",
              "  </tbody>\n",
              "</table>\n",
              "</div>"
            ],
            "text/plain": [
              "    Customer ID    Length   Recency  Frequency  Monetary  Periodicity\n",
              "0      0.124390  0.158177  0.841823   0.019704  0.043511     0.123067\n",
              "1      0.123212  0.997319  0.002681   0.147783  0.069195     0.032756\n",
              "2      0.507659  0.777480  0.222520   0.000000  0.039545     0.000000\n",
              "3      0.968860  1.000000  0.000000   0.428571  0.523179     0.039845\n",
              "4      0.056556  1.000000  0.000000   0.103448  0.066843     0.056689\n",
              "5      0.966336  0.962466  0.037534   0.064039  0.093994     0.160954\n",
              "6      0.216967  0.793566  0.206434   0.004926  0.084499     0.739612\n",
              "7      0.296920  0.812332  0.187668   0.093596  0.045068     0.055481\n",
              "9      0.870729  0.991957  0.008043   0.039409  0.042220     0.122408\n",
              "10     0.237670  0.997319  0.002681   0.039409  0.081815     0.275849\n",
              "12     0.516243  0.126005  0.873995   0.014778  0.180383     0.044838\n",
              "13     0.669079  0.300268  0.699732   0.000000  0.013991     0.000000\n",
              "14     0.643158  0.868633  0.131367   0.014778  0.035624     0.399687\n",
              "15     0.928968  0.970509  0.026810   0.118227  0.079743     0.074280\n",
              "17     0.239185  0.989276  0.010724   0.182266  0.061369     0.064583\n",
              "18     0.823430  0.983914  0.016086   0.073892  0.029881     0.139853\n",
              "19     0.566571  0.962466  0.037534   0.024631  0.044402     0.195238\n",
              "20     0.499074  1.000000  0.000000   0.586207  0.060378     0.015527\n",
              "21     0.670426  0.833780  0.166220   0.009852  0.054213     0.422508\n",
              "22     0.901195  0.957105  0.042895   0.039409  0.053986     0.112210"
            ]
          },
          "metadata": {},
          "execution_count": 20
        }
      ]
    },
    {
      "cell_type": "markdown",
      "metadata": {
        "tags": [],
        "cell_id": "00032-0ca1a5f5-1aab-4290-a8d4-b19be46f81ff",
        "deepnote_cell_type": "markdown",
        "id": "Hj_lxfGnJQ_i"
      },
      "source": [
        "### 1.3.2 `T-SNA` Pipeline [1.0 puntos]"
      ]
    },
    {
      "cell_type": "markdown",
      "metadata": {
        "tags": [],
        "cell_id": "00033-5056169a-b068-46d2-ad1b-8b7659ab956c",
        "deepnote_cell_type": "markdown",
        "id": "iPk_0a8qJQ_i"
      },
      "source": [
        "Para comenzar introduciéndose en el uso de pipeline, decide probar realizando un pipeline enfocado en la reducción de dimensionalidad y así hacer no decepcionar a Mr. Lepin con la clusterización del modelo. \n",
        "\n",
        "Configure un pipeline utilizando el algoritmo `T-SNE` sobre los datos **LRMFP**, donde, para la realización del pipeline considera los siguientes pasos:\n",
        "\n",
        "1. Como primer paso obtenga las características **LRMFP** desde el DataFrame ``df_retail_II_cleaned.pickle`` utilizando la función ``custom_features`` creada anteriormente, junto a ``FunctionTransformer()``. Considere esto como el primer paso de su pipeline.\n",
        "2. En segundo lugar usando ``ColumnTransformer()`` aplique el MinxMax scaler creado por usted sobre todas las columnas generadas en el paso anterior. \n",
        "3. Finalmente, aplique un último paso donde obtiene las 2 componentes más relevantes utilizando el algoritmo T-sne de sckit-learn.\n",
        "\n",
        "Tras aplicar las transformaciones sobre el dataset **LRMFP**, gráfique las componentes obtenidas en la reducción de dimensionalidad."
      ]
    },
    {
      "cell_type": "markdown",
      "metadata": {
        "tags": [],
        "cell_id": "00034-eb18fbe8-72dd-496b-9f30-16cfb3ab5558",
        "deepnote_cell_type": "markdown",
        "id": "TIK4mbVtJQ_i"
      },
      "source": [
        "**Respuesta:**"
      ]
    },
    {
      "cell_type": "code",
      "metadata": {
        "tags": [],
        "cell_id": "00035-8231e7d2-13c6-45ec-9b9d-e9ecc8c27d94",
        "deepnote_cell_type": "code",
        "colab": {
          "base_uri": "https://localhost:8080/",
          "height": 526
        },
        "id": "Kc-2BB2YJQ_i",
        "outputId": "32654109-08d7-4d16-8ccc-9085c3c0c205"
      },
      "source": [
        "# 1. Obtención de las características 'LRMFP' desde el dataframe solicitado utilizando\n",
        "# custom_freatures junto a FunctionTransformer()\n",
        "Funcion_Transformadora = FunctionTransformer(custom_features)\n",
        "Funcion_Transformadora.transform(df_retail_all)"
      ],
      "execution_count": 21,
      "outputs": [
        {
          "output_type": "stream",
          "name": "stderr",
          "text": [
            "/usr/local/lib/python3.7/dist-packages/numpy/core/_methods.py:234: RuntimeWarning: Degrees of freedom <= 0 for slice\n",
            "  keepdims=keepdims)\n",
            "/usr/local/lib/python3.7/dist-packages/numpy/core/_methods.py:195: RuntimeWarning: invalid value encountered in true_divide\n",
            "  arrmean, rcount, out=arrmean, casting='unsafe', subok=False)\n",
            "/usr/local/lib/python3.7/dist-packages/numpy/core/_methods.py:226: RuntimeWarning: invalid value encountered in double_scalars\n",
            "  ret = ret.dtype.type(ret / rcount)\n"
          ]
        },
        {
          "output_type": "execute_result",
          "data": {
            "text/html": [
              "<div>\n",
              "<style scoped>\n",
              "    .dataframe tbody tr th:only-of-type {\n",
              "        vertical-align: middle;\n",
              "    }\n",
              "\n",
              "    .dataframe tbody tr th {\n",
              "        vertical-align: top;\n",
              "    }\n",
              "\n",
              "    .dataframe thead th {\n",
              "        text-align: right;\n",
              "    }\n",
              "</style>\n",
              "<table border=\"1\" class=\"dataframe\">\n",
              "  <thead>\n",
              "    <tr style=\"text-align: right;\">\n",
              "      <th></th>\n",
              "      <th>Customer ID</th>\n",
              "      <th>Length</th>\n",
              "      <th>Recency</th>\n",
              "      <th>Frequency</th>\n",
              "      <th>Monetary</th>\n",
              "      <th>Periodicity</th>\n",
              "    </tr>\n",
              "  </thead>\n",
              "  <tbody>\n",
              "    <tr>\n",
              "      <th>0</th>\n",
              "      <td>13085.0</td>\n",
              "      <td>59</td>\n",
              "      <td>315</td>\n",
              "      <td>6</td>\n",
              "      <td>336.200000</td>\n",
              "      <td>22.213509</td>\n",
              "    </tr>\n",
              "    <tr>\n",
              "      <th>1</th>\n",
              "      <td>13078.0</td>\n",
              "      <td>372</td>\n",
              "      <td>2</td>\n",
              "      <td>32</td>\n",
              "      <td>528.265938</td>\n",
              "      <td>5.912473</td>\n",
              "    </tr>\n",
              "    <tr>\n",
              "      <th>2</th>\n",
              "      <td>15362.0</td>\n",
              "      <td>290</td>\n",
              "      <td>84</td>\n",
              "      <td>2</td>\n",
              "      <td>306.540000</td>\n",
              "      <td>0.000000</td>\n",
              "    </tr>\n",
              "    <tr>\n",
              "      <th>3</th>\n",
              "      <td>18102.0</td>\n",
              "      <td>373</td>\n",
              "      <td>1</td>\n",
              "      <td>89</td>\n",
              "      <td>3923.194944</td>\n",
              "      <td>7.192024</td>\n",
              "    </tr>\n",
              "    <tr>\n",
              "      <th>4</th>\n",
              "      <td>12682.0</td>\n",
              "      <td>373</td>\n",
              "      <td>1</td>\n",
              "      <td>23</td>\n",
              "      <td>510.682174</td>\n",
              "      <td>10.232423</td>\n",
              "    </tr>\n",
              "    <tr>\n",
              "      <th>...</th>\n",
              "      <td>...</td>\n",
              "      <td>...</td>\n",
              "      <td>...</td>\n",
              "      <td>...</td>\n",
              "      <td>...</td>\n",
              "      <td>...</td>\n",
              "    </tr>\n",
              "    <tr>\n",
              "      <th>4242</th>\n",
              "      <td>16893.0</td>\n",
              "      <td>9</td>\n",
              "      <td>2</td>\n",
              "      <td>2</td>\n",
              "      <td>124.945000</td>\n",
              "      <td>0.000000</td>\n",
              "    </tr>\n",
              "    <tr>\n",
              "      <th>4246</th>\n",
              "      <td>17722.0</td>\n",
              "      <td>9</td>\n",
              "      <td>2</td>\n",
              "      <td>2</td>\n",
              "      <td>1003.160000</td>\n",
              "      <td>0.000000</td>\n",
              "    </tr>\n",
              "    <tr>\n",
              "      <th>4251</th>\n",
              "      <td>17671.0</td>\n",
              "      <td>10</td>\n",
              "      <td>1</td>\n",
              "      <td>2</td>\n",
              "      <td>415.315000</td>\n",
              "      <td>0.000000</td>\n",
              "    </tr>\n",
              "    <tr>\n",
              "      <th>4259</th>\n",
              "      <td>17223.0</td>\n",
              "      <td>6</td>\n",
              "      <td>4</td>\n",
              "      <td>2</td>\n",
              "      <td>216.995000</td>\n",
              "      <td>0.000000</td>\n",
              "    </tr>\n",
              "    <tr>\n",
              "      <th>4291</th>\n",
              "      <td>17198.0</td>\n",
              "      <td>5</td>\n",
              "      <td>1</td>\n",
              "      <td>2</td>\n",
              "      <td>260.830000</td>\n",
              "      <td>0.000000</td>\n",
              "    </tr>\n",
              "  </tbody>\n",
              "</table>\n",
              "<p>2893 rows × 6 columns</p>\n",
              "</div>"
            ],
            "text/plain": [
              "      Customer ID  Length  Recency  Frequency     Monetary  Periodicity\n",
              "0         13085.0      59      315          6   336.200000    22.213509\n",
              "1         13078.0     372        2         32   528.265938     5.912473\n",
              "2         15362.0     290       84          2   306.540000     0.000000\n",
              "3         18102.0     373        1         89  3923.194944     7.192024\n",
              "4         12682.0     373        1         23   510.682174    10.232423\n",
              "...           ...     ...      ...        ...          ...          ...\n",
              "4242      16893.0       9        2          2   124.945000     0.000000\n",
              "4246      17722.0       9        2          2  1003.160000     0.000000\n",
              "4251      17671.0      10        1          2   415.315000     0.000000\n",
              "4259      17223.0       6        4          2   216.995000     0.000000\n",
              "4291      17198.0       5        1          2   260.830000     0.000000\n",
              "\n",
              "[2893 rows x 6 columns]"
            ]
          },
          "metadata": {},
          "execution_count": 21
        }
      ]
    },
    {
      "cell_type": "code",
      "metadata": {
        "id": "XXnJX69A3CuC"
      },
      "source": [
        "# 2. Usando ColumnTransformer() se aplica el MinxMax scaler creado sobre todas las columnas generadas en el paso anterior.\n",
        "from sklearn.pipeline import Pipeline\n",
        "\n",
        "preprocessing_transformer = ColumnTransformer(\n",
        "    [('Minmax', MinMax(), ['Customer ID','Length', 'Recency', 'Frequency','Monetary', 'Periodicity'])\n",
        "    ])"
      ],
      "execution_count": 22,
      "outputs": []
    },
    {
      "cell_type": "code",
      "metadata": {
        "id": "PePV7KAYMkf8"
      },
      "source": [
        "dfretail_pipeline = Pipeline([('Preprocessing', preprocessing_transformer)])"
      ],
      "execution_count": 23,
      "outputs": []
    },
    {
      "cell_type": "code",
      "metadata": {
        "colab": {
          "base_uri": "https://localhost:8080/"
        },
        "id": "Lcr9lV4xMzih",
        "outputId": "c4957b46-219d-4e07-b697-b4a49331ebe9"
      },
      "source": [
        "# Se obtienen las 2 componentes más relevantes utilizando el algoritmo T-sne de sckit-learn.\n",
        "# Creamos una instancia de tsne\n",
        "tsne = TSNE(n_components=2, random_state=42)\n",
        "\n",
        "# Transformamos los datos\n",
        "features_tsne_embedded = tsne.fit_transform(transformed_data)\n",
        "features_tsne_embedded"
      ],
      "execution_count": 24,
      "outputs": [
        {
          "output_type": "stream",
          "name": "stderr",
          "text": [
            "/usr/local/lib/python3.7/dist-packages/sklearn/manifold/_t_sne.py:783: FutureWarning: The default initialization in TSNE will change from 'random' to 'pca' in 1.2.\n",
            "  FutureWarning,\n",
            "/usr/local/lib/python3.7/dist-packages/sklearn/manifold/_t_sne.py:793: FutureWarning: The default learning rate in TSNE will change from 200.0 to 'auto' in 1.2.\n",
            "  FutureWarning,\n"
          ]
        },
        {
          "output_type": "execute_result",
          "data": {
            "text/plain": [
              "array([[-40.412758, -40.209503],\n",
              "       [-14.607146,  60.390675],\n",
              "       [ 15.567743,  26.682192],\n",
              "       ...,\n",
              "       [ 18.47466 , -57.899822],\n",
              "       [ 15.660233, -54.163086],\n",
              "       [ 15.37509 , -54.03375 ]], dtype=float32)"
            ]
          },
          "metadata": {},
          "execution_count": 24
        }
      ]
    },
    {
      "cell_type": "code",
      "metadata": {
        "id": "LMd_8exEM3t8"
      },
      "source": [
        "pipeline = Pipeline([('LRMFP', Funcion_Transformadora ),(('Preprocessing', preprocessing_transformer)),('tsne', tsne)])"
      ],
      "execution_count": 25,
      "outputs": []
    },
    {
      "cell_type": "code",
      "metadata": {
        "colab": {
          "base_uri": "https://localhost:8080/"
        },
        "id": "DYFKyaMmM4SI",
        "outputId": "67747dd0-59af-4873-ec3a-8c807c2fcb1b"
      },
      "source": [
        "proyeccion = pipeline.fit_transform(df_retail_all)"
      ],
      "execution_count": 26,
      "outputs": [
        {
          "output_type": "stream",
          "name": "stderr",
          "text": [
            "/usr/local/lib/python3.7/dist-packages/numpy/core/_methods.py:234: RuntimeWarning: Degrees of freedom <= 0 for slice\n",
            "  keepdims=keepdims)\n",
            "/usr/local/lib/python3.7/dist-packages/numpy/core/_methods.py:195: RuntimeWarning: invalid value encountered in true_divide\n",
            "  arrmean, rcount, out=arrmean, casting='unsafe', subok=False)\n",
            "/usr/local/lib/python3.7/dist-packages/numpy/core/_methods.py:226: RuntimeWarning: invalid value encountered in double_scalars\n",
            "  ret = ret.dtype.type(ret / rcount)\n",
            "/usr/local/lib/python3.7/dist-packages/sklearn/manifold/_t_sne.py:783: FutureWarning: The default initialization in TSNE will change from 'random' to 'pca' in 1.2.\n",
            "  FutureWarning,\n",
            "/usr/local/lib/python3.7/dist-packages/sklearn/manifold/_t_sne.py:793: FutureWarning: The default learning rate in TSNE will change from 200.0 to 'auto' in 1.2.\n",
            "  FutureWarning,\n"
          ]
        }
      ]
    },
    {
      "cell_type": "markdown",
      "metadata": {
        "tags": [],
        "cell_id": "00040-719e872a-f25c-422d-ac77-28a5cd88d28c",
        "deepnote_cell_type": "markdown",
        "id": "EiuOJDWaJQ_i"
      },
      "source": [
        "### 1.3.3 Clustering"
      ]
    },
    {
      "cell_type": "markdown",
      "metadata": {
        "tags": [],
        "cell_id": "00041-8ddce401-e8d1-498d-bd79-e6d3f11d9174",
        "deepnote_cell_type": "markdown",
        "id": "ZPyXV-UcJQ_i"
      },
      "source": [
        "#### 1.3.3.1 Método del Codo [1 puntos]"
      ]
    },
    {
      "cell_type": "markdown",
      "metadata": {
        "tags": [],
        "cell_id": "00042-b4254feb-88f4-4a6c-8556-e11b1b5911d0",
        "deepnote_cell_type": "markdown",
        "id": "fKmtrWXzJQ_j"
      },
      "source": [
        "Utilizando la clase creada para escalamiento, aplique el método del codo para visualizar cual es el número de clusters que mejor se ajustan a los datos. Realice esto utilizando el algoritmo K-means dentro de un pipeline para un $k \\in [1,20]$, donde k representa el número de clusters del k-means. Para la realización de esta sección y la próxima (1.3.3.2), considere los mismos pasos utilizados para el t-sne, pero permutando el algoritmo de reducción de dimensionalidad por k-means.\n",
        "\n",
        "A través del grafico obtenido, comente y justifique que valor de k escogería para realizar el k-means."
      ]
    },
    {
      "cell_type": "markdown",
      "metadata": {
        "tags": [],
        "cell_id": "00035-bbbef3bf-d15b-48e5-a4bb-cd9234b57e0f",
        "deepnote_cell_type": "markdown",
        "id": "Au0A6jSdJQ_j"
      },
      "source": [
        "**Respuesta:**"
      ]
    },
    {
      "cell_type": "code",
      "metadata": {
        "tags": [],
        "cell_id": "00035-f3c2ae6a-fc69-41da-b714-076734e1845e",
        "deepnote_cell_type": "code",
        "colab": {
          "base_uri": "https://localhost:8080/",
          "height": 281
        },
        "id": "qa61aMUfJQ_j",
        "outputId": "e24469fa-290e-4de1-9b91-26121561a131"
      },
      "source": [
        "import matplotlib.pyplot as plt\n",
        "sse = []\n",
        "\n",
        "clusters = list(range(1, 20))\n",
        "for k in clusters:\n",
        "    kmeans = KMeans(n_clusters=k).fit(df_result)\n",
        "    sse.append(kmeans.inertia_)\n",
        "\n",
        "plt.plot(clusters, sse, marker=\"o\")\n",
        "plt.title(\"Metodo del codo de 1 a 20 clusters\")\n",
        "plt.grid(True)\n",
        "plt.show()"
      ],
      "execution_count": 27,
      "outputs": [
        {
          "output_type": "display_data",
          "data": {
            "image/png": "[encoded data removed]",
            "text/plain": [
              "<Figure size 432x288 with 1 Axes>"
            ]
          },
          "metadata": {
            "needs_background": "light"
          }
        }
      ]
    },
    {
      "cell_type": "code",
      "metadata": {
        "id": "VSTF582nNC7G"
      },
      "source": [
        "pipeline_kmeans = Pipeline([('LRMFP', Funcion_Transformadora ),(('Preprocessing', preprocessing_transformer)),('cluster', KMeans(n_clusters=3))])"
      ],
      "execution_count": 28,
      "outputs": []
    },
    {
      "cell_type": "code",
      "metadata": {
        "colab": {
          "base_uri": "https://localhost:8080/"
        },
        "id": "oz9jtt7FNDTL",
        "outputId": "e8d989d2-1b13-4132-f762-9557b96032df"
      },
      "source": [
        "pipeline_kmeans.fit_predict(df_retail_all)"
      ],
      "execution_count": 29,
      "outputs": [
        {
          "output_type": "stream",
          "name": "stderr",
          "text": [
            "/usr/local/lib/python3.7/dist-packages/numpy/core/_methods.py:234: RuntimeWarning: Degrees of freedom <= 0 for slice\n",
            "  keepdims=keepdims)\n",
            "/usr/local/lib/python3.7/dist-packages/numpy/core/_methods.py:195: RuntimeWarning: invalid value encountered in true_divide\n",
            "  arrmean, rcount, out=arrmean, casting='unsafe', subok=False)\n",
            "/usr/local/lib/python3.7/dist-packages/numpy/core/_methods.py:226: RuntimeWarning: invalid value encountered in double_scalars\n",
            "  ret = ret.dtype.type(ret / rcount)\n"
          ]
        },
        {
          "output_type": "execute_result",
          "data": {
            "text/plain": [
              "array([1, 2, 2, ..., 1, 1, 1], dtype=int32)"
            ]
          },
          "metadata": {},
          "execution_count": 29
        }
      ]
    },
    {
      "cell_type": "markdown",
      "metadata": {
        "tags": [],
        "cell_id": "00044-df589bc4-557f-423c-9487-748b15b95e60",
        "deepnote_cell_type": "markdown",
        "id": "jW_PteqyJQ_j"
      },
      "source": [
        "#### 1.3.3.2 Segmentación de Clientes con K-Means 🎁 [1 punto]"
      ]
    },
    {
      "cell_type": "markdown",
      "metadata": {
        "tags": [],
        "cell_id": "00045-eb892d43-2d7d-49a0-8002-164dcb56e1e1",
        "deepnote_cell_type": "markdown",
        "id": "PGHldYiUJQ_j"
      },
      "source": [
        "En base a la elección de k realizada en la sección anterior, utilice este valor escogido y entrene un modelo de K-means utilizando el mismo pipeline de scikit-learn utilizado anteriormente.\n",
        "\n",
        "Una vez ajustado los datos, genere una tabla con los promedios (o medianas) para cada uno de los atributos, agrupando estos por el clúster que pertenecen. ¿Es posible observar agrupaciones coherentes?, ¿Qué tipo de clientes posee el retail?, Justifique su respuesta y no decepcione a Mr. Lepin.\n"
      ]
    },
    {
      "cell_type": "markdown",
      "metadata": {
        "tags": [],
        "cell_id": "00046-e66d7746-b52e-4c05-b1b4-b89934c4c92c",
        "deepnote_cell_type": "markdown",
        "id": "fhDCcylmJQ_j"
      },
      "source": [
        "**Respuesta:**"
      ]
    },
    {
      "cell_type": "code",
      "metadata": {
        "colab": {
          "base_uri": "https://localhost:8080/"
        },
        "id": "xTKTkpCJNT7B",
        "outputId": "ffffe690-d801-4696-ec1e-398e0fc8fc6d"
      },
      "source": [
        "clusters_ = pipeline_kmeans.fit_predict(df_retail_all)"
      ],
      "execution_count": 30,
      "outputs": [
        {
          "output_type": "stream",
          "name": "stderr",
          "text": [
            "/usr/local/lib/python3.7/dist-packages/numpy/core/_methods.py:234: RuntimeWarning: Degrees of freedom <= 0 for slice\n",
            "  keepdims=keepdims)\n",
            "/usr/local/lib/python3.7/dist-packages/numpy/core/_methods.py:195: RuntimeWarning: invalid value encountered in true_divide\n",
            "  arrmean, rcount, out=arrmean, casting='unsafe', subok=False)\n",
            "/usr/local/lib/python3.7/dist-packages/numpy/core/_methods.py:226: RuntimeWarning: invalid value encountered in double_scalars\n",
            "  ret = ret.dtype.type(ret / rcount)\n"
          ]
        }
      ]
    },
    {
      "cell_type": "code",
      "metadata": {
        "id": "NB1f1ylDNUlT"
      },
      "source": [
        "transformed_data['Cluster'] = clusters_"
      ],
      "execution_count": 31,
      "outputs": []
    },
    {
      "cell_type": "code",
      "metadata": {
        "colab": {
          "base_uri": "https://localhost:8080/",
          "height": 204
        },
        "id": "JDtoRXiWNWxm",
        "outputId": "0da9d680-1097-459c-e1f0-30c3f60fcbaa"
      },
      "source": [
        "transformed_data.head()"
      ],
      "execution_count": 32,
      "outputs": [
        {
          "output_type": "execute_result",
          "data": {
            "text/html": [
              "<div>\n",
              "<style scoped>\n",
              "    .dataframe tbody tr th:only-of-type {\n",
              "        vertical-align: middle;\n",
              "    }\n",
              "\n",
              "    .dataframe tbody tr th {\n",
              "        vertical-align: top;\n",
              "    }\n",
              "\n",
              "    .dataframe thead th {\n",
              "        text-align: right;\n",
              "    }\n",
              "</style>\n",
              "<table border=\"1\" class=\"dataframe\">\n",
              "  <thead>\n",
              "    <tr style=\"text-align: right;\">\n",
              "      <th></th>\n",
              "      <th>Customer ID</th>\n",
              "      <th>Length</th>\n",
              "      <th>Recency</th>\n",
              "      <th>Frequency</th>\n",
              "      <th>Monetary</th>\n",
              "      <th>Periodicity</th>\n",
              "      <th>Cluster</th>\n",
              "    </tr>\n",
              "  </thead>\n",
              "  <tbody>\n",
              "    <tr>\n",
              "      <th>0</th>\n",
              "      <td>0.124390</td>\n",
              "      <td>0.158177</td>\n",
              "      <td>0.841823</td>\n",
              "      <td>0.019704</td>\n",
              "      <td>0.043511</td>\n",
              "      <td>0.123067</td>\n",
              "      <td>0</td>\n",
              "    </tr>\n",
              "    <tr>\n",
              "      <th>1</th>\n",
              "      <td>0.123212</td>\n",
              "      <td>0.997319</td>\n",
              "      <td>0.002681</td>\n",
              "      <td>0.147783</td>\n",
              "      <td>0.069195</td>\n",
              "      <td>0.032756</td>\n",
              "      <td>1</td>\n",
              "    </tr>\n",
              "    <tr>\n",
              "      <th>2</th>\n",
              "      <td>0.507659</td>\n",
              "      <td>0.777480</td>\n",
              "      <td>0.222520</td>\n",
              "      <td>0.000000</td>\n",
              "      <td>0.039545</td>\n",
              "      <td>0.000000</td>\n",
              "      <td>1</td>\n",
              "    </tr>\n",
              "    <tr>\n",
              "      <th>3</th>\n",
              "      <td>0.968860</td>\n",
              "      <td>1.000000</td>\n",
              "      <td>0.000000</td>\n",
              "      <td>0.428571</td>\n",
              "      <td>0.523179</td>\n",
              "      <td>0.039845</td>\n",
              "      <td>2</td>\n",
              "    </tr>\n",
              "    <tr>\n",
              "      <th>4</th>\n",
              "      <td>0.056556</td>\n",
              "      <td>1.000000</td>\n",
              "      <td>0.000000</td>\n",
              "      <td>0.103448</td>\n",
              "      <td>0.066843</td>\n",
              "      <td>0.056689</td>\n",
              "      <td>1</td>\n",
              "    </tr>\n",
              "  </tbody>\n",
              "</table>\n",
              "</div>"
            ],
            "text/plain": [
              "   Customer ID    Length   Recency  Frequency  Monetary  Periodicity  Cluster\n",
              "0     0.124390  0.158177  0.841823   0.019704  0.043511     0.123067        0\n",
              "1     0.123212  0.997319  0.002681   0.147783  0.069195     0.032756        1\n",
              "2     0.507659  0.777480  0.222520   0.000000  0.039545     0.000000        1\n",
              "3     0.968860  1.000000  0.000000   0.428571  0.523179     0.039845        2\n",
              "4     0.056556  1.000000  0.000000   0.103448  0.066843     0.056689        1"
            ]
          },
          "metadata": {},
          "execution_count": 32
        }
      ]
    },
    {
      "cell_type": "markdown",
      "metadata": {
        "tags": [],
        "cell_id": "00053-4802e3b0-f4e2-4235-909a-43e607f46997",
        "deepnote_cell_type": "markdown",
        "id": "akMKMU24JQ_k"
      },
      "source": [
        "**Respuesta Esperada:**\n",
        "\n",
        "|         | Length  | Recency   | Frequency | Monetary | Periodicity |       |\n",
        "|---------|---------|-----------|----------|-------------|-------|-------|\n",
        "| Cluster |         |           |          |             |       |       |\n",
        "|    0    |   258.8 |      45.2 |     76.1 |      1107.7 | 107.6 |   449 |\n",
        "|    1    |    76.1 |     217.6 |     45.5 |       791.7 |  14.1 |   466 |\n",
        "|    2    |   368.5 |       4.8 |   2715.0 |    226621.6 |   4.2 |     4 |\n",
        "|    3    |    85.3 |      45.7 |     65.8 |      1047.0 |  10.5 |   987 |\n",
        "|    4    |   347.2 |      15.9 |   1658.0 |     35829.3 |   8.0 |    25 |\n",
        "|    5    |   298.0 |      29.8 |    183.8 |      3639.9 |  32.0 |  1188 |"
      ]
    },
    {
      "cell_type": "markdown",
      "metadata": {
        "tags": [],
        "cell_id": "00042-95fcbe7f-ad2e-4116-92da-49ae755a4311",
        "deepnote_cell_type": "markdown",
        "id": "jQvYcjnAJQ_k"
      },
      "source": [
        "#### 1.3.3.3 Plot de K-Means 📈 [0.5 puntos]\n",
        "\n"
      ]
    },
    {
      "cell_type": "markdown",
      "metadata": {
        "tags": [],
        "cell_id": "00043-33a035f7-7aaf-4aad-98a2-0c4295fa136f",
        "deepnote_cell_type": "markdown",
        "id": "WP9oQq-tJQ_k"
      },
      "source": [
        "Por último, Mr. Lepin, impaciente de no entender lo que usted intenta explicarle, le solicita que por favor muestre algún resultado \"visual\" de los grupos encontrados.\n",
        "\n",
        "Para esto, grafique nuevamente las características encontradas usando `T-SNE` (no calcule de nuevo, simplemente utilice las proyecciones encontradas) y agregue las labels calculadas con kmeans como el argumento `color`.   \n",
        "\n",
        "Comente: ¿Se separan bien los distintos clusters en la visualización?\n"
      ]
    },
    {
      "cell_type": "markdown",
      "metadata": {
        "tags": [],
        "cell_id": "00044-d04e1a07-81ac-4440-9cf0-65f9f8dd6a8c",
        "deepnote_cell_type": "markdown",
        "id": "f_bqrFwsJQ_k"
      },
      "source": [
        "**Respuesta:**"
      ]
    },
    {
      "cell_type": "code",
      "metadata": {
        "tags": [],
        "cell_id": "00043-f95cb727-b787-474b-845d-b3d85199bea9",
        "deepnote_cell_type": "code",
        "colab": {
          "base_uri": "https://localhost:8080/",
          "height": 542
        },
        "id": "SWltkcvEJQ_k",
        "outputId": "094dfc16-15f2-4540-c09b-7034e58618bc"
      },
      "source": [
        "px.scatter(x = proyeccion[:,0], y = proyeccion[:,1], color = clusters_)"
      ],
      "execution_count": 33,
      "outputs": [
        {
          "output_type": "display_data",
          "data": {
            "text/html": [
              "<html>\n",
              "<head><meta charset=\"utf-8\" /></head>\n",
              "<body>\n",
              "    <div>            <script src=\"https://cdnjs.cloudflare.com/ajax/libs/mathjax/2.7.5/MathJax.js?config=TeX-AMS-MML_SVG\"></script><script type=\"text/javascript\">if (window.MathJax) {MathJax.Hub.Config({SVG: {font: \"STIX-Web\"}});}</script>                <script type=\"text/javascript\">window.PlotlyConfig = {MathJaxConfig: 'local'};</script>\n",
              "        <script src=\"https://cdn.plot.ly/plotly-2.6.3.min.js\"></script>                <div id=\"c6a8c14c-38b4-4f45-b287-953df78b698f\" class=\"plotly-graph-div\" style=\"height:525px; width:100%;\"></div>            <script type=\"text/javascript\">                                    window.PLOTLYENV=window.PLOTLYENV || {};                                    if (document.getElementById(\"c6a8c14c-38b4-4f45-b287-953df78b698f\")) {                    Plotly.newPlot(                        \"c6a8c14c-38b4-4f45-b287-953df78b698f\",                        [{\"hovertemplate\":\"x=%{x}<br>y=%{y}<br>color=%{marker.color}<extra></extra>\",\"legendgroup\":\"\",\"marker\":{\"color\":[0,1,1,2,1,2,1,1,2,1,0,0,2,2,1,2,2,2,2,2,1,2,1,0,2,1,1,2,2,1,1,1,1,2,1,1,2,2,1,2,0,2,2,0,1,2,2,1,1,1,2,2,1,1,2,2,0,2,1,1,1,2,1,2,2,1,0,1,2,1,2,0,2,2,1,0,2,2,2,0,1,0,1,2,2,1,1,1,0,2,1,1,2,2,2,2,2,1,1,2,2,2,1,2,2,1,1,2,1,2,1,1,2,2,1,2,1,2,2,1,2,2,1,2,0,1,2,1,0,0,2,0,2,2,1,2,1,2,2,2,2,2,1,1,1,1,1,2,2,0,1,1,2,0,2,2,2,2,1,2,1,1,1,1,2,2,2,1,1,2,0,1,1,1,1,0,1,0,1,2,0,2,2,2,2,2,2,1,1,2,2,1,1,2,2,2,1,2,2,2,1,2,2,2,1,1,2,1,2,1,1,0,2,2,1,2,2,1,2,2,2,2,1,1,1,1,1,2,1,0,0,2,1,1,1,1,2,1,2,1,1,2,2,2,2,2,2,2,2,2,2,1,2,1,1,2,1,1,1,1,1,1,0,1,1,1,2,1,1,1,1,2,1,2,2,0,2,1,2,0,1,2,2,1,1,2,2,2,0,2,2,2,2,1,1,2,1,1,2,2,0,2,1,1,1,2,1,1,2,2,0,2,2,1,2,1,1,1,2,2,2,0,0,1,0,2,1,1,1,0,2,1,1,1,2,0,1,1,1,2,1,1,1,2,1,2,2,2,1,1,2,1,2,1,2,1,2,2,0,2,1,1,1,0,2,1,1,2,2,1,2,2,2,2,1,2,1,0,1,2,2,1,1,2,1,2,1,2,2,0,2,2,1,1,0,2,1,2,2,1,1,1,1,2,2,2,1,1,1,1,2,2,2,0,2,0,2,2,1,1,2,1,2,1,1,1,1,2,2,1,1,2,2,2,1,2,0,2,2,2,2,1,1,2,0,1,1,1,2,2,1,2,1,2,1,1,2,0,2,2,1,2,0,1,2,0,2,1,0,2,2,1,1,2,2,1,2,2,2,1,2,1,1,0,1,1,1,1,1,1,0,0,2,1,1,0,1,2,2,1,2,1,1,2,0,1,1,1,2,1,0,1,1,1,1,2,2,2,2,0,2,1,1,0,1,1,0,2,2,0,0,0,2,1,1,1,2,2,0,1,1,2,0,1,1,2,2,1,2,2,2,0,1,1,1,2,1,2,0,2,1,1,2,1,2,2,2,0,1,2,1,2,2,2,1,2,2,2,1,2,1,0,2,1,1,0,2,1,1,1,2,2,0,2,1,2,2,1,1,2,2,1,1,2,0,2,1,2,2,1,2,2,2,2,0,0,1,1,0,1,1,2,2,2,2,1,1,2,1,1,2,1,1,1,2,2,1,2,1,2,0,1,1,0,1,0,1,1,1,1,2,2,0,2,2,1,2,2,1,1,2,2,2,1,0,1,2,2,2,1,1,2,2,2,0,1,0,1,1,1,1,2,2,2,1,0,2,2,2,2,1,2,1,2,1,2,1,1,2,2,1,1,2,1,2,2,2,2,1,2,2,0,2,2,2,2,1,2,2,2,2,2,2,2,2,1,1,2,0,1,2,1,2,1,1,2,2,2,1,2,2,2,0,0,0,0,1,1,2,1,1,2,2,1,2,0,2,2,1,1,2,1,2,1,1,1,1,1,1,1,1,2,0,2,0,2,1,1,2,1,2,1,1,1,1,2,2,2,1,0,0,1,1,1,1,2,1,2,2,1,2,1,1,1,2,0,0,2,0,2,2,2,0,1,1,2,1,1,0,2,1,1,1,1,2,0,2,1,2,1,0,2,2,1,2,2,1,1,1,2,1,1,2,1,1,2,2,1,0,1,1,0,1,0,1,2,2,1,1,2,2,1,1,2,2,2,1,1,2,1,1,1,2,1,2,2,0,2,2,1,2,0,2,2,1,1,1,0,1,0,1,1,2,1,2,0,2,1,2,1,1,1,1,2,1,1,2,0,0,2,1,0,1,2,2,2,0,1,2,0,0,1,2,2,1,1,2,1,1,1,2,0,2,1,1,2,1,1,1,0,0,2,1,2,2,1,1,1,2,1,2,1,2,2,1,0,1,0,2,1,1,1,1,0,2,0,1,1,0,0,1,2,1,2,2,0,1,2,1,1,2,2,2,1,2,2,2,1,0,2,1,1,1,2,2,2,1,1,0,1,2,2,2,1,2,1,1,2,2,1,1,2,1,1,1,2,2,1,1,1,2,0,1,2,0,0,1,1,1,2,1,2,1,1,1,1,0,1,2,1,2,1,1,1,0,0,2,0,2,0,1,1,1,2,1,1,1,2,2,2,0,2,1,0,1,2,0,1,2,2,2,0,2,1,2,1,1,2,2,2,2,1,2,1,0,0,1,0,1,2,2,2,1,2,1,0,2,1,0,1,1,1,2,2,1,0,2,0,1,2,0,2,2,1,2,0,1,1,2,0,1,0,1,1,0,2,1,2,2,2,1,0,2,1,2,1,0,1,2,0,0,1,2,2,2,2,1,0,2,2,1,1,1,1,1,1,1,0,0,0,2,2,0,2,1,2,1,2,1,1,1,1,2,1,2,0,1,1,0,1,1,0,2,2,0,2,1,1,0,2,2,2,0,2,1,2,1,1,2,2,1,2,1,2,0,1,1,0,2,2,0,2,1,2,0,2,1,1,1,0,2,1,0,2,2,2,2,1,1,2,2,1,2,2,2,2,0,1,2,1,0,0,1,2,1,2,2,2,2,2,1,1,2,0,2,2,1,1,2,1,2,0,1,0,2,2,0,0,1,1,2,0,1,1,0,1,2,1,1,0,0,0,1,0,1,2,0,1,0,0,0,0,1,1,1,0,2,1,2,0,1,1,2,2,0,1,1,2,1,2,0,0,1,2,2,0,2,1,2,0,2,2,1,2,2,2,0,1,1,1,0,1,2,0,1,0,1,1,1,2,0,2,2,2,2,0,1,0,2,2,0,1,1,1,1,1,2,1,0,2,1,1,2,1,1,2,1,0,2,0,1,0,1,0,1,1,1,2,1,1,2,0,1,2,0,0,1,1,1,2,0,1,1,2,0,1,0,1,2,2,2,1,0,0,0,1,1,1,1,2,2,0,2,0,0,1,2,1,1,2,1,2,2,1,1,1,1,2,1,1,0,2,1,2,1,2,1,2,1,1,2,0,2,1,0,2,0,0,1,2,0,2,2,1,0,0,0,2,0,0,1,1,0,2,0,1,2,0,2,2,1,2,2,2,1,1,1,2,0,1,2,2,1,1,0,1,2,0,1,1,1,2,1,2,0,2,1,2,1,2,2,0,1,1,0,2,1,1,0,1,1,0,1,2,2,2,1,0,2,2,2,0,0,1,1,0,2,1,1,0,1,1,1,1,1,2,1,1,1,0,2,2,2,1,1,1,2,0,0,2,0,1,1,0,2,2,0,1,2,1,2,2,0,1,1,2,2,0,1,2,0,2,2,1,0,2,0,2,2,2,0,2,2,2,2,2,0,2,2,1,0,2,0,2,2,2,1,1,1,1,0,2,1,0,0,2,1,2,2,1,2,1,0,1,0,0,2,2,2,1,1,1,1,2,2,1,2,2,2,1,0,1,2,1,2,1,1,1,0,2,1,0,2,0,2,2,1,2,0,2,1,2,2,0,2,2,1,1,0,0,2,1,1,2,2,2,2,2,2,1,1,2,2,2,1,0,2,1,1,1,0,2,0,1,2,2,2,1,1,2,0,0,1,1,0,1,0,2,2,2,0,0,1,1,1,1,0,2,0,0,1,1,1,2,0,1,0,1,0,1,1,2,0,1,0,1,1,1,0,1,2,2,2,2,2,2,1,1,1,0,1,0,2,0,1,2,2,1,1,2,1,0,1,2,2,1,1,1,0,2,0,1,2,2,2,2,0,2,0,2,2,0,2,2,2,0,1,0,0,0,1,1,1,0,2,0,0,2,2,1,2,2,0,2,1,0,2,2,0,1,0,1,1,1,2,1,1,2,1,1,1,2,2,0,1,1,1,1,1,1,2,0,1,0,0,1,0,1,1,1,1,1,0,0,2,2,1,2,0,0,2,1,1,1,1,1,2,0,2,1,1,2,2,1,0,2,0,1,2,1,2,0,2,0,1,0,1,2,1,0,0,1,1,1,0,0,0,2,0,0,2,2,0,1,0,2,0,2,0,1,0,2,2,0,0,0,1,0,1,0,2,1,1,1,1,2,1,1,2,1,0,0,2,0,1,0,2,1,1,0,2,1,0,1,0,0,0,0,2,2,0,0,2,1,1,1,0,1,0,0,0,0,2,1,0,2,0,1,0,2,0,1,0,1,1,0,0,1,1,0,1,0,1,2,1,1,0,0,2,2,2,1,1,2,1,0,2,2,1,2,1,0,1,0,0,1,2,1,2,2,1,2,2,1,2,1,2,1,0,2,1,0,1,0,1,2,1,1,0,2,2,0,2,0,0,2,1,0,0,2,1,1,0,1,0,0,0,2,1,1,0,1,1,0,0,1,0,2,0,0,1,2,0,0,1,2,0,2,2,2,0,2,0,1,2,1,2,1,1,0,1,1,1,0,0,1,2,0,0,1,0,2,1,0,1,2,1,1,1,2,2,0,2,0,1,0,0,2,0,0,1,1,1,1,0,1,0,1,0,2,2,0,0,0,2,2,0,2,0,2,0,2,0,1,0,0,0,2,1,0,2,2,0,0,0,0,1,2,0,0,1,0,0,2,2,0,0,1,1,0,0,2,0,1,2,2,2,0,0,0,1,2,0,0,0,2,0,0,0,0,0,0,0,2,0,0,1,2,2,2,1,0,0,0,0,0,0,0,0,2,2,2,1,1,2,0,0,0,2,0,1,2,2,0,1,0,0,0,0,0,0,2,0,0,1,0,2,0,0,0,2,0,0,1,2,0,0,0,2,0,0,0,0,2,0,0,0,1,1,0,2,1,2,0,0,0,2,1,0,2,2,2,2,0,0,1,2,1,0,1,2,1,0,0,0,0,1,0,0,0,0,0,0,1,1,2,0,0,1,0,2,0,2,0,0,0,0,0,2,2,2,1,2,1,2,1,0,0,0,0,0,2,0,0,0,1,0,0,0,2,0,1,2,1,2,0,0,0,1,0,0,0,0,0,0,0,2,0,0,0,0,0,2,0,0,0,0,0,0,0,0,0,0,0,1,0,0,0,0,1,1,0,2,0,2,0,2,1,0,1,0,2,2,0,2,1,0,0,1,0,1,0,0,0,0,1,0,0,0,0,1,0,0,1,0,1,0,0,1,1,0,0,0,2,0,0,0,0,0,0,0,0,0,0,0,1,2,0,0,2,0,0,0,0,0,0,0,2,0,0,0,0,0,0,2,2,0,0,0,1,1,1,2,0,2,0,0,0,0,0,0,0,0,0,0,0,0,1,1,0,1,0,0,0,0,0,0,0,0,0,0,0,2,0,0,1,0,0,0,0,2,0,0,0,0,0,0,0,1,0,0,0,0,0,0,0,1,0,1,2,2,0,0,0,0,0,0,0,0,0,0,0,0,0,0,0,0,0,0,0,0,0,0,0,0,0,0,0,0,0,0,0,0,0,0,2,0,0,0,0,0,0,0,0,0,0,0,1,0,0,0,0,0,0,0,0,0,0,0,0,0,0,0,0,0,0,0,0,0,0,0,0,0,0,0,0,0,0,0,0,0,0,0,0,0,1,0,0,0,0,0,0,0,0,0,0,0,0,0,0,0,0,0,0,0,0,0,0,0,0,0,0,0,0,0,0,0,0,0,0,0,0,0,0,0,0,0,0,0,0,0,0,0,0,0,0,0,0,0,0,0,0,0,0,0,0,0,0,0,0,0,0,0,0,0,0,0,0,0,0,0,0,0,0,0,0,0,0,0,0,0,0,0,0,0,0,0,0,0,0,0,0,0,0,0,0,0,0,0,0,0,0,0,0,0,0,0,0,0,0,0,0,0,0,0,0,0,0,0,0,0,0,0,0,0,0,0,0,0,0,0,0,0,0,0,0,0,0,0,0,0,0,0,0,0,0,0,0,0,0,0,0,0,0,0,0,0,0,0,0,0,0,0,0,0,0,0,0,0,0,0,0,0,0,0,0,0,0,0,0,0,0,0,0,0,0,0,0,0,0,0,0,0,0,0,0,0,0,0,0,0,0,0,0,0,0,0,0,0,0,0,0,0,0,0,0,0,0,0,0,0,0,0,0,0,0,0,0,0,0,0,0,0,0,0,0,0,0,0,0,0,0,0,0,0,0,0,0,0,0,0,0,0,0,0,0,0,0,0,0,0,0,0,0,0,0,0,0,0,0,0,0,0,0,0,0,0,0,0,0,0,0,0,0,0,0,0,0,0,0,0,0,0,0,0,0,0,0,0,0,0,0,0,0,0,0,0,0,0,0,0,0,0,0,0,0,0,0,0,0,0,0,0],\"coloraxis\":\"coloraxis\",\"symbol\":\"circle\"},\"mode\":\"markers\",\"name\":\"\",\"showlegend\":false,\"x\":[-40.412757873535156,-14.607146263122559,15.567743301391602,55.97631072998047,-18.144550323486328,47.5713996887207,3.5511937141418457,-8.759222030639648,47.49233627319336,-6.112753391265869,-36.318965911865234,-17.497987747192383,25.729333877563477,52.38936233520508,-12.11602783203125,46.157127380371094,16.060707092285156,1.0940619707107544,25.569259643554688,49.262874603271484,0.6896376609802246,19.44424057006836,-15.313196182250977,-38.80730438232422,34.270790100097656,-3.1120121479034424,-13.083843231201172,19.43084144592285,22.359148025512695,-6.716958999633789,-12.225767135620117,1.0774093866348267,-10.917415618896484,48.57240295410156,-0.32749077677726746,-9.124563217163086,35.937129974365234,18.235685348510742,-19.850954055786133,15.059679985046387,-40.66505813598633,29.7584228515625,50.335174560546875,-22.455930709838867,2.420442819595337,18.746660232543945,50.06491470336914,7.487240791320801,-17.061975479125977,-9.14052677154541,19.80165672302246,49.65260314941406,-15.162038803100586,5.495871067047119,26.128875732421875,44.51333236694336,-18.69948959350586,13.37192153930664,-25.75151824951172,-18.829530715942383,4.916939735412598,37.74249267578125,-27.384214401245117,54.784915924072266,16.333417892456055,-26.832351684570312,-39.32855224609375,-14.009757995605469,53.66041946411133,7.7540130615234375,34.935760498046875,-38.26664733886719,18.84677505493164,45.31913757324219,4.923990249633789,-22.601226806640625,14.757370948791504,48.43099594116211,9.927791595458984,17.875591278076172,-2.787992477416992,-39.919010162353516,-8.222679138183594,37.423683166503906,34.57215881347656,-19.81789779663086,-1.3858696222305298,-3.027738094329834,-36.86765670776367,14.693657875061035,-11.652061462402344,-12.746996879577637,35.828651428222656,26.81170082092285,50.075801849365234,9.309703826904297,27.78802490234375,5.635016918182373,15.165679931640625,28.559362411499023,43.20591354370117,55.89810562133789,-5.109094619750977,55.212745666503906,44.057125091552734,-19.145648956298828,4.860739707946777,23.995731353759766,-6.39526891708374,25.16639518737793,-12.113072395324707,-3.4498488903045654,38.80717086791992,16.743085861206055,-12.686832427978516,14.116544723510742,1.5841236114501953,50.72211837768555,8.470947265625,1.832318663597107,16.824302673339844,15.935068130493164,-11.757847785949707,31.681224822998047,-41.01192855834961,4.282792568206787,54.36018753051758,2.5223805904388428,-39.790855407714844,14.057214736938477,22.191728591918945,-24.9381046295166,15.550783157348633,31.737030029296875,4.756828308105469,21.46979331970215,-10.633625030517578,37.743255615234375,21.827680587768555,49.77228546142578,45.36510467529297,44.91458511352539,-8.112586975097656,-18.89797019958496,-7.521677494049072,1.8949477672576904,5.016852378845215,32.60796356201172,46.8469123840332,-23.224336624145508,7.663862228393555,-1.3215099573135376,20.45037269592285,-12.926713943481445,13.602470397949219,17.737266540527344,31.718002319335938,55.483978271484375,-0.7807785272598267,24.278600692749023,-27.085660934448242,-21.692955017089844,5.677638530731201,-0.570335328578949,23.99380874633789,20.271577835083008,49.85369110107422,-13.077178001403809,-8.419905662536621,6.685605525970459,-24.09590721130371,14.340435028076172,-2.8077962398529053,-18.917036056518555,6.591921329498291,-34.50619125366211,-5.057610511779785,16.062885284423828,8.715408325195312,13.927789688110352,10.387556076049805,24.94593620300293,43.87330627441406,22.32741928100586,17.82372283935547,30.94550895690918,11.33004379272461,-5.801710605621338,-6.642529487609863,50.50274658203125,2.4892098903656006,-27.425048828125,9.83907413482666,34.709693908691406,34.591896057128906,11.52649974822998,-1.7678979635238647,54.84765625,49.537715911865234,20.875885009765625,0.9284997582435608,46.5957145690918,50.70317840576172,45.70812225341797,-27.759937286376953,-4.016312122344971,37.79499435424805,-25.55138397216797,49.49251174926758,-13.176615715026855,-8.784761428833008,-12.44601058959961,17.247278213500977,19.29204750061035,3.233497381210327,34.03157424926758,48.940956115722656,6.485358715057373,46.56541061401367,43.59912872314453,34.89921951293945,24.373565673828125,-7.3127031326293945,-2.7919178009033203,7.7444539070129395,-6.209527969360352,-26.425310134887695,36.25538635253906,-15.7608003616333,-24.066938400268555,-10.035723686218262,21.867107391357422,-19.935216903686523,0.7126692533493042,6.568652629852295,4.708606243133545,41.72642135620117,6.201780796051025,51.31683349609375,-17.5695743560791,4.2321085929870605,51.543540954589844,22.24173355102539,39.029563903808594,40.0713005065918,43.46928787231445,16.371658325195312,44.09746170043945,48.82127380371094,26.041290283203125,37.25505447387695,5.032416343688965,43.039180755615234,3.140096664428711,-17.73771095275879,18.306350708007812,-2.606138229370117,0.26830944418907166,-12.818114280700684,-5.506848335266113,-13.282791137695312,-21.357988357543945,16.48003578186035,-14.796540260314941,-13.249227523803711,-18.716218948364258,47.0631103515625,-2.243818521499634,3.8330719470977783,8.019969940185547,6.526081085205078,51.766361236572266,12.75635814666748,49.642215728759766,40.76252365112305,-36.03524398803711,33.92415237426758,-2.413088321685791,51.43636703491211,-22.814632415771484,3.5340194702148438,46.80537033081055,40.97490692138672,-8.426155090332031,-7.40644645690918,34.835792541503906,45.73923110961914,39.77690887451172,-23.061321258544922,30.037487030029297,42.25020980834961,40.15757369995117,42.18381881713867,-26.75558090209961,-15.19491195678711,11.047029495239258,-24.511240005493164,3.4765851497650146,35.993614196777344,41.678714752197266,16.33355712890625,33.258201599121094,-0.5086237788200378,-17.577407836914062,-18.45317268371582,36.35094451904297,-12.254701614379883,-3.632873296737671,31.058107376098633,33.87997817993164,7.346262454986572,50.736209869384766,12.460260391235352,-27.55728530883789,51.69869613647461,-0.7555619478225708,-14.20435905456543,-28.32513999938965,35.296974182128906,33.58321762084961,30.710969924926758,-37.08089065551758,-22.697336196899414,-12.475247383117676,17.949174880981445,56.238311767578125,-8.633174896240234,-6.712953567504883,-5.398219108581543,-37.681365966796875,16.985164642333984,-21.699302673339844,-17.66160774230957,9.2913179397583,13.561559677124023,-21.369831085205078,5.890435218811035,-2.7820403575897217,4.74130392074585,43.12855911254883,-27.68472671508789,-24.207523345947266,-22.322912216186523,53.32828903198242,-4.192595958709717,28.534170150756836,40.78860855102539,29.783740997314453,13.471412658691406,-19.704458236694336,15.866374015808105,-3.25662899017334,12.228424072265625,-8.800827026367188,47.05769348144531,7.480832576751709,29.009361267089844,29.653921127319336,-20.78987693786621,15.714216232299805,-14.09260082244873,2.898859739303589,4.410093784332275,-10.857527732849121,9.622077941894531,-13.307358741760254,1.9562561511993408,32.72642135620117,10.980233192443848,2.5389833450317383,50.812984466552734,44.39456558227539,16.043758392333984,45.32917785644531,6.51764440536499,40.98560333251953,-3.59503173828125,12.148094177246094,-13.710492134094238,42.47446060180664,9.725131034851074,-3.4820308685302734,-10.999829292297363,19.256772994995117,-11.705819129943848,51.371707916259766,14.239471435546875,38.51603317260742,18.911476135253906,-16.5390567779541,22.362869262695312,45.55649948120117,-11.89491081237793,-17.96434211730957,-23.231948852539062,17.516633987426758,-16.22820281982422,50.10004806518555,42.35487747192383,-2.409109592437744,7.371570110321045,-7.625895977020264,-26.373157501220703,43.96821975708008,48.74577331542969,41.27734375,-4.337191581726074,-3.474766492843628,-29.990209579467773,-4.929630756378174,14.511003494262695,48.83509826660156,42.447181701660156,-24.308347702026367,49.0037956237793,-39.805267333984375,16.806995391845703,55.91202926635742,2.7552709579467773,-0.473697692155838,48.8314323425293,-18.371768951416016,37.7142448425293,-19.108694076538086,-19.52163314819336,-16.34819984436035,3.2138710021972656,22.046981811523438,24.944047927856445,-7.954667568206787,-31.207901000976562,47.670326232910156,11.074783325195312,50.65133285522461,-16.592823028564453,48.33320999145508,-36.552494049072266,15.16551685333252,37.761478424072266,48.01831817626953,34.453243255615234,-13.977005004882812,-20.266258239746094,41.617088317871094,-30.255149841308594,-2.797142744064331,7.284424304962158,-21.354461669921875,33.14828872680664,40.981746673583984,-10.397063255310059,38.42714309692383,-1.4688966274261475,9.97436809539795,-1.1729979515075684,-3.903502941131592,20.656856536865234,-36.53060531616211,49.35951614379883,30.83652114868164,7.960483074188232,20.880083084106445,13.346468925476074,-2.222154140472412,40.561119079589844,-10.478692054748535,30.14190673828125,4.499339580535889,10.615531921386719,45.068973541259766,37.75029754638672,12.267268180847168,-8.400035858154297,30.053071975708008,18.890392303466797,-10.759795188903809,35.530670166015625,40.57600784301758,52.49565124511719,-16.824377059936523,33.01356887817383,8.637152671813965,-6.013595104217529,17.425315856933594,0.9886258244514465,-5.794288635253906,-32.97114181518555,-20.564369201660156,0.3029833436012268,-26.647043228149414,17.01688575744629,24.967790603637695,8.613982200622559,-11.465036392211914,-12.12952995300293,14.686656951904297,-26.528413772583008,13.805685043334961,19.18377113342285,3.5035016536712646,28.8282470703125,-11.42948055267334,-12.816923141479492,24.53179168701172,1.7324140071868896,9.970768928527832,-11.323345184326172,14.512845039367676,40.96207046508789,-8.099329948425293,-40.27350997924805,-0.5944275259971619,-18.583431243896484,4.189973831176758,-16.397621154785156,39.87208938598633,43.7585334777832,38.74475860595703,45.049171447753906,12.007802963256836,32.913673400878906,-14.647257804870605,0.9104412198066711,-36.545047760009766,-11.251133918762207,3.965703248977661,-11.031603813171387,39.27592086791992,43.54002380371094,-34.783206939697266,-19.466238021850586,-23.604616165161133,36.88916778564453,-15.879440307617188,-19.873947143554688,-6.596395492553711,31.733375549316406,40.935115814208984,16.736696243286133,-13.569726943969727,-13.376317024230957,38.51266098022461,-35.852264404296875,-2.474463701248169,3.111170530319214,8.399901390075684,37.59754943847656,-13.453246116638184,34.487876892089844,20.710918426513672,50.74945831298828,11.576874732971191,-7.272773265838623,0.025776859372854233,-9.711090087890625,24.981718063354492,-3.8372790813446045,15.441118240356445,11.741897583007812,21.22303009033203,5.315412521362305,6.175799369812012,50.073734283447266,3.763634443283081,34.92448425292969,18.37765884399414,41.54084014892578,-41.09733200073242,-6.185936450958252,16.9508056640625,1.404441237449646,33.099491119384766,25.594585418701172,39.463314056396484,-11.864750862121582,18.463449478149414,27.355180740356445,29.99087905883789,-26.713346481323242,41.70441436767578,-7.73353385925293,-21.553367614746094,16.768339157104492,8.119897842407227,-3.1715962886810303,-22.589616775512695,19.723634719848633,-7.485418796539307,3.6016061305999756,10.841490745544434,37.756439208984375,25.6103458404541,18.217863082885742,18.581195831298828,-28.049888610839844,53.43918228149414,15.158793449401855,1.9583500623703003,-0.355893611907959,51.12895584106445,46.27468490600586,-3.340871572494507,-3.588367462158203,49.34915542602539,16.85895538330078,40.80028533935547,-11.411470413208008,41.00907516479492,15.978157043457031,5.339632034301758,38.32415008544922,27.345012664794922,17.761417388916016,53.624202728271484,13.757668495178223,-37.013145446777344,-17.15569305419922,-12.003304481506348,-24.745223999023438,-30.514137268066406,6.503001689910889,42.16305923461914,36.78563690185547,28.132003784179688,22.173383712768555,-12.714813232421875,-30.50439453125,7.931338787078857,-13.351258277893066,-5.199465751647949,26.43523597717285,-26.536563873291016,-9.922186851501465,4.601563930511475,43.64257049560547,19.389724731445312,5.62501859664917,31.812101364135742,-32.92408752441406,41.79993438720703,-17.154685974121094,-15.19342041015625,15.071090698242188,-20.74697494506836,13.849817276000977,-24.072988510131836,-31.398935317993164,8.871167182922363,-17.946537017822266,-2.030522584915161,43.07376480102539,24.941869735717773,11.47330093383789,25.521940231323242,33.5677604675293,-7.714454650878906,25.124305725097656,39.471031188964844,-6.714522361755371,-18.98659324645996,43.38249969482422,17.024059295654297,24.025157928466797,-8.166675567626953,-36.52152633666992,-13.128133773803711,15.570096015930176,44.14912796020508,38.58659362792969,-5.540588855743408,1.8722842931747437,32.050472259521484,50.1806526184082,26.019445419311523,-13.213729858398438,-30.975875854492188,-41.454254150390625,-2.575272560119629,-27.730697631835938,-16.433202743530273,-20.379947662353516,25.239309310913086,41.44811248779297,29.39866065979004,-1.9831106662750244,25.626291275024414,9.981401443481445,48.903297424316406,22.197040557861328,27.611934661865234,-20.779020309448242,51.34286117553711,-8.364991188049316,19.84830093383789,-3.8614325523376465,41.80891036987305,-0.1744387447834015,4.850539207458496,19.10319709777832,20.605974197387695,-24.532636642456055,-29.785337448120117,41.36355209350586,-8.041678428649902,49.34419250488281,15.183465957641602,21.29183578491211,38.8323860168457,-18.439443588256836,17.605894088745117,42.417335510253906,-38.713809967041016,39.174461364746094,50.32114791870117,43.16429901123047,31.831066131591797,-4.850830554962158,39.34540557861328,45.880332946777344,41.55365753173828,42.51609420776367,41.47917175292969,43.781761169433594,46.86327362060547,17.22408103942871,7.242841720581055,7.700986862182617,47.35956954956055,13.240365028381348,-26.20574188232422,42.36056900024414,-6.498377799987793,14.383249282836914,-16.430068969726562,-8.018994331359863,32.5212516784668,36.3914794921875,18.650211334228516,5.068916320800781,19.658170700073242,34.34476089477539,19.005260467529297,-24.354114532470703,15.053492546081543,-30.11993980407715,-40.77024459838867,-15.155457496643066,-4.908964157104492,10.609381675720215,3.1045517921447754,4.128950119018555,10.603127479553223,49.979591369628906,-4.000466346740723,24.963924407958984,14.098148345947266,41.68659591674805,52.26881408691406,-16.81235694885254,5.252830505371094,11.422683715820312,-30.36871910095215,27.923635482788086,-8.171660423278809,13.894102096557617,3.0019123554229736,-19.124488830566406,3.190762758255005,7.211819171905518,-20.36553382873535,-3.3353941440582275,51.17415237426758,-16.708967208862305,48.931697845458984,-34.12400817871094,50.263214111328125,8.652742385864258,-3.6866209506988525,45.623435974121094,0.31757882237434387,45.9489631652832,-19.69396209716797,-4.137355804443359,-6.376115322113037,-20.728899002075195,14.466039657592773,15.183894157409668,45.75852966308594,-24.8005428314209,-6.401708126068115,-20.26613998413086,-8.19213581085205,-18.563974380493164,-25.456710815429688,-0.7413028478622437,36.686431884765625,-9.074257850646973,15.890631675720215,50.35492706298828,-3.4544363021850586,37.713687896728516,-26.572711944580078,-16.01658821105957,10.339744567871094,21.475173950195312,23.599952697753906,15.532536506652832,46.81968688964844,-30.395050048828125,23.573284149169922,49.1693229675293,27.528600692749023,-5.78997278213501,-18.962799072265625,-11.224481582641602,26.802021026611328,-1.6972076892852783,3.819683790206909,-17.775712966918945,43.12755584716797,-3.502413511276245,-27.377365112304688,-7.115886211395264,-22.271867752075195,31.424158096313477,15.904881477355957,12.541512489318848,0.6234467625617981,45.09286880493164,-13.192634582519531,-35.12242126464844,40.231815338134766,21.58323097229004,-4.377193450927734,11.727737426757812,43.66537094116211,-12.521376609802246,-20.220035552978516,1.0430692434310913,15.49509048461914,-8.984513282775879,-16.988210678100586,43.328697204589844,-0.4731791913509369,5.9069085121154785,52.45989227294922,54.762611389160156,-31.530208587646484,12.790472984313965,-26.091629028320312,9.615876197814941,-37.67303466796875,-29.36663246154785,-37.029335021972656,4.327500343322754,36.38652801513672,46.56208801269531,-5.887189865112305,-7.994020938873291,43.20875549316406,38.57677459716797,-10.435352325439453,-11.214494705200195,19.361146926879883,41.13930130004883,24.9409122467041,-29.137990951538086,-29.320327758789062,16.090669631958008,-13.220587730407715,-28.459341049194336,-5.087801456451416,34.60806655883789,-12.691886901855469,52.8476448059082,30.24440574645996,12.936114311218262,39.091304779052734,53.02811813354492,-9.898122787475586,8.879364967346191,23.880769729614258,27.379724502563477,22.48598289489746,8.144563674926758,-8.99931526184082,-19.006752014160156,8.170296669006348,-28.0056209564209,-20.85363006591797,-4.338616371154785,-1.1303675174713135,21.66141128540039,-7.997602939605713,23.85913848876953,-19.518980026245117,11.189682006835938,-1.7336474657058716,44.1364860534668,-14.225590705871582,-31.94687271118164,0.12557324767112732,-6.047951698303223,41.18594741821289,8.432085037231445,-9.362274169921875,46.859352111816406,-35.46040725708008,-35.202857971191406,52.8658561706543,-21.899757385253906,-38.69112777709961,-11.878538131713867,36.7022590637207,41.94072341918945,37.62216567993164,14.717987060546875,-24.099821090698242,48.00871658325195,11.131896018981934,-30.843523025512695,-32.174354553222656,45.749629974365234,7.502625465393066,1.7334638833999634,-21.221607208251953,33.50728225708008,-27.93107032775879,0.3113711178302765,-22.246498107910156,39.45206069946289,-8.556538581848145,9.550162315368652,6.7028422355651855,-30.734718322753906,21.58540916442871,-10.843982696533203,-14.294595718383789,-3.0691332817077637,-23.364063262939453,-16.278854370117188,14.489343643188477,-22.1563777923584,26.032405853271484,53.90449905395508,-2.938727617263794,-12.109743118286133,-27.011680603027344,53.40486526489258,-24.487407684326172,32.312740325927734,-2.7312490940093994,25.528200149536133,24.9757080078125,-12.90719985961914,12.922236442565918,-29.793563842773438,16.38697052001953,23.898435592651367,-29.069385528564453,-7.310977458953857,-5.037380695343018,-22.888084411621094,-34.9987678527832,37.592769622802734,12.003133773803711,-14.369268417358398,-33.44767761230469,-22.046701431274414,-14.912140846252441,-21.08346176147461,37.676025390625,-30.257644653320312,47.258934020996094,40.014404296875,6.72344446182251,-31.847829818725586,14.357020378112793,-11.399248123168945,-23.86487579345703,41.18315505981445,28.560426712036133,35.89131164550781,-11.51244831085205,27.4316463470459,26.457290649414062,21.802541732788086,-14.976763725280762,-35.52391052246094,51.55595779418945,-25.27173614501953,-12.42691421508789,-5.103686332702637,21.89337921142578,8.356181144714355,37.85394287109375,-12.355108261108398,-16.10643768310547,12.342669486999512,10.329634666442871,36.996795654296875,20.809053421020508,49.77983856201172,-10.189669609069824,27.65013313293457,3.2801482677459717,-28.578699111938477,46.43553924560547,47.711429595947266,-5.9022321701049805,-29.27737045288086,26.598087310791016,-12.09618854522705,-21.724027633666992,4.4315571784973145,47.08042526245117,37.89202117919922,-24.3902530670166,-27.544370651245117,-22.375757217407227,27.963207244873047,-33.78812789916992,-11.722315788269043,33.82508850097656,16.939857482910156,-8.669262886047363,17.32836151123047,-12.246346473693848,-12.72358226776123,25.160791397094727,-9.979520797729492,28.970792770385742,-1.5764634609222412,-29.374160766601562,-0.828961968421936,-10.370347023010254,-25.01567268371582,-9.537859916687012,15.795443534851074,-23.525957107543945,22.926179885864258,-12.042381286621094,3.7289490699768066,-16.055883407592773,-38.86153030395508,-19.43790626525879,39.46013259887695,-22.288700103759766,38.69938278198242,-39.60581970214844,-29.469970703125,9.76637077331543,-11.993165016174316,48.698421478271484,-3.9991283416748047,-9.007901191711426,-5.6360182762146,39.5953369140625,45.99850845336914,48.91190719604492,-7.701431751251221,46.363014221191406,-29.724300384521484,-40.83821105957031,-27.11173439025879,21.909297943115234,-19.5245304107666,0.6496913433074951,24.527957916259766,46.92430877685547,32.5703125,-33.66764450073242,26.756277084350586,-29.493606567382812,7.518736839294434,2.398301124572754,-11.439688682556152,46.75182342529297,24.913330078125,9.927518844604492,20.350433349609375,12.749299049377441,39.15441131591797,1.3277966976165771,-23.703868865966797,-21.01799774169922,-11.57863712310791,-7.974640369415283,-24.969053268432617,31.038434982299805,47.46694564819336,10.806398391723633,0.7185354828834534,22.12700653076172,-30.169055938720703,-23.983495712280273,46.93708801269531,-9.27659797668457,6.729082107543945,-12.207590103149414,-33.790714263916016,10.627936363220215,23.066274642944336,44.43867874145508,3.9224588871002197,-38.86658477783203,26.34052085876465,-37.833885192871094,-34.647464752197266,45.84756088256836,-19.259544372558594,45.406131744384766,44.24329376220703,-26.951932907104492,2.1315579414367676,-12.763994216918945,-33.16830825805664,2.729412794113159,35.0041618347168,1.5736572742462158,3.5467560291290283,-36.38444519042969,-21.135608673095703,-30.535730361938477,-19.296619415283203,8.285964012145996,1.4045747518539429,39.36579132080078,3.8931169509887695,27.607484817504883,-29.721378326416016,-19.039228439331055,21.036996841430664,-29.48970603942871,45.68265151977539,-27.478126525878906,-31.396324157714844,-34.992130279541016,35.87541961669922,-23.002426147460938,-20.829566955566406,-0.32447344064712524,24.868858337402344,21.579957962036133,51.65392303466797,41.939815521240234,-20.251319885253906,-22.04930305480957,46.821144104003906,10.548306465148926,7.768470764160156,-9.79578685760498,-1.3596934080123901,-28.543663024902344,5.323340892791748,-25.24320411682129,-10.673480987548828,25.01723861694336,-34.69487762451172,-12.89987850189209,49.4158821105957,29.251157760620117,-1.1366678476333618,38.30289840698242,1.1252613067626953,15.580707550048828,4.45980978012085,13.813362121582031,-23.86566925048828,-24.908445358276367,-1.6813161373138428,-29.786792755126953,31.693603515625,-20.856958389282227,52.144989013671875,18.758615493774414,-25.103973388671875,-13.791949272155762,-33.94190216064453,-14.386868476867676,-31.343860626220703,-39.87065505981445,17.25385093688965,45.447425842285156,-16.09267807006836,14.141096115112305,0.8171401023864746,3.284942150115967,-9.280228614807129,16.745988845825195,41.44806671142578,47.280460357666016,1.5024969577789307,18.758642196655273,-31.192785263061523,37.848575592041016,-23.159305572509766,19.942684173583984,40.67563247680664,21.71512222290039,-2.083331346511841,36.25450897216797,-18.2396240234375,36.98396301269531,-17.74532127380371,-24.538734436035156,6.507710933685303,-35.20165252685547,40.60650634765625,42.18937683105469,-14.785676956176758,27.25030517578125,-10.742891311645508,30.981273651123047,-32.87384796142578,36.16705322265625,-30.449989318847656,10.33161735534668,-21.802112579345703,-20.20798110961914,21.484251022338867,-29.064680099487305,-40.532806396484375,51.58247756958008,48.6006965637207,27.855661392211914,26.712757110595703,-27.892724990844727,3.3948440551757812,42.081024169921875,36.495384216308594,-30.7177677154541,48.69648361206055,31.88951301574707,3.4987332820892334,21.550392150878906,-30.42857551574707,-29.590944290161133,25.749074935913086,-19.592283248901367,-14.028048515319824,2.0909535884857178,-7.324233531951904,21.86556053161621,2.572608232498169,21.91907501220703,20.404870986938477,14.527325630187988,31.909870147705078,28.706932067871094,-31.763225555419922,-10.639034271240234,43.92565155029297,-14.501473426818848,36.55713653564453,46.87519073486328,-16.454692840576172,-8.357356071472168,24.23969078063965,-18.349090576171875,16.571212768554688,-29.077960968017578,-31.950960159301758,-36.06248092651367,3.000497579574585,51.34663391113281,-9.200331687927246,-8.565142631530762,-22.235807418823242,-30.404695510864258,49.45683670043945,-41.065616607666016,-27.41972541809082,-10.583877563476562,-7.665171146392822,-28.61888885498047,38.16619110107422,-23.669742584228516,-21.8895320892334,16.987171173095703,-6.588940620422363,-30.976593017578125,-25.384056091308594,-15.955227851867676,-17.85338020324707,34.34259033203125,-40.7803840637207,-29.0399112701416,-32.925010681152344,16.80070686340332,-37.525047302246094,26.255842208862305,-24.398059844970703,-31.300376892089844,-22.67485237121582,-30.662700653076172,42.21721649169922,-10.557568550109863,46.33060836791992,-37.514793395996094,-23.541873931884766,-25.3626651763916,49.47612762451172,15.17241382598877,-9.895565032958984,-26.388015747070312,-28.251062393188477,29.747596740722656,-21.239439010620117,36.60511779785156,-19.86717987060547,-33.71882629394531,-28.504913330078125,40.672523498535156,49.122222900390625,-23.532970428466797,19.67003631591797,-23.438289642333984,46.759124755859375,-7.472330093383789,43.126407623291016,4.396395683288574,-27.854612350463867,17.090164184570312,20.84485626220703,3.9315152168273926,-18.60434341430664,-30.422746658325195,-1.1686091423034668,0.07254300266504288,-7.812839984893799,-22.9604549407959,51.06173324584961,18.739486694335938,-5.581035614013672,17.31789207458496,-35.0954475402832,-13.44184398651123,-35.39481735229492,22.37411117553711,25.313587188720703,36.64280700683594,45.91948699951172,44.8985710144043,49.12297058105469,-20.56015968322754,-18.966320037841797,-34.975345611572266,24.65888786315918,21.6216983795166,-34.65949630737305,-9.383153915405273,4.710056781768799,-29.431949615478516,-28.044706344604492,-27.824377059936523,49.97005844116211,-14.901124000549316,-9.658787727355957,30.48877716064453,1.1047178506851196,-26.597484588623047,48.79658889770508,-29.130451202392578,0.8039918541908264,35.81644821166992,-7.148204803466797,-15.1010103225708,51.14315414428711,12.68982219696045,1.1274508237838745,-33.040645599365234,-25.45575523376465,-37.915164947509766,-30.771150588989258,-26.01496696472168,-34.7984619140625,27.798511505126953,-3.2507717609405518,-18.48874282836914,50.82020568847656,-7.998044967651367,-32.96615982055664,41.43218994140625,-3.5687437057495117,-15.455131530761719,2.515329599380493,-26.188138961791992,-12.135416984558105,28.028297424316406,26.54682731628418,-20.22710418701172,-27.399812698364258,38.301483154296875,-27.172767639160156,9.758655548095703,-18.04664421081543,2.601471185684204,30.870454788208008,23.77070426940918,36.44301223754883,-26.852720260620117,17.508602142333984,-14.82701301574707,-11.741621971130371,-30.857446670532227,-29.513591766357422,-20.682613372802734,-32.051448822021484,27.195987701416016,38.015472412109375,8.015592575073242,42.980613708496094,2.6533288955688477,-17.878849029541016,-26.338848114013672,35.84946823120117,-31.74550437927246,-36.31523513793945,37.94021224975586,-32.095218658447266,4.502033233642578,33.423789978027344,-29.007862091064453,-21.64460563659668,-4.633984088897705,-22.025983810424805,23.4251651763916,4.071990966796875,6.14686918258667,-39.46845245361328,16.76146697998047,-28.726762771606445,20.024709701538086,-30.427457809448242,14.287537574768066,1.738129734992981,28.54444122314453,-9.841351509094238,-29.3225040435791,27.63751220703125,-31.99888038635254,33.41621017456055,-8.131354331970215,16.5783748626709,50.45149230957031,-35.19699478149414,-27.328655242919922,-3.913323402404785,27.284103393554688,-35.84357833862305,28.54500961303711,37.50497817993164,-2.733931541442871,-1.5200389623641968,26.476486206054688,-9.462294578552246,5.513065338134766,17.80602264404297,-0.6823936700820923,-27.496355056762695,-18.455827713012695,-9.91816234588623,3.9292941093444824,-22.811019897460938,11.870265007019043,35.51294708251953,8.392874717712402,9.562636375427246,27.003662109375,-25.698680877685547,25.573509216308594,26.806835174560547,50.47228240966797,1.36375093460083,-31.837234497070312,-31.357900619506836,24.524564743041992,-17.750850677490234,-28.997596740722656,23.418161392211914,29.040359497070312,-17.183534622192383,-15.066202163696289,18.515716552734375,-40.78813934326172,36.96907424926758,-6.881944179534912,-25.09337043762207,-24.052738189697266,-9.240808486938477,34.43226623535156,-34.011962890625,11.320600509643555,-38.684326171875,6.659123420715332,-25.1679630279541,34.454071044921875,-1.414013147354126,34.66884231567383,24.007875442504883,18.98286247253418,-19.718975067138672,-24.032625198364258,-14.142291069030762,21.29097557067871,-28.80668067932129,-23.639848709106445,-32.639060974121094,-22.6007080078125,0.874412477016449,-26.551916122436523,-27.586990356445312,43.07767868041992,8.857819557189941,49.62257385253906,12.25323486328125,-29.84174919128418,39.31084060668945,46.333988189697266,34.2518196105957,16.272424697875977,17.924503326416016,-9.855927467346191,-19.096569061279297,23.60996437072754,20.205341339111328,0.9415103197097778,1.5925503969192505,23.593345642089844,-30.182558059692383,-32.01543426513672,-2.066073179244995,-23.73533058166504,-43.218666076660156,51.26246643066406,-12.95319652557373,-23.934776306152344,-32.14180374145508,-0.4129502475261688,34.4608154296875,26.398508071899414,20.429306030273438,-5.902430534362793,-21.323226928710938,-27.91939353942871,20.598602294921875,-33.72978210449219,-28.330034255981445,11.125309944152832,-2.619060516357422,-12.447792053222656,-9.760272979736328,-34.106197357177734,37.065120697021484,49.03893280029297,17.015361785888672,-27.617691040039062,27.985179901123047,-31.551971435546875,33.794368743896484,27.171646118164062,18.999908447265625,-30.76687240600586,-9.861560821533203,19.64829444885254,47.8203239440918,-18.017507553100586,-34.45005416870117,49.07542419433594,-34.08470916748047,44.583831787109375,53.0305061340332,-28.52764129638672,-8.324491500854492,49.96035385131836,17.633832931518555,28.47114372253418,43.883155822753906,27.013261795043945,15.843504905700684,28.247455596923828,51.09329605102539,34.81230545043945,36.99016571044922,18.861032485961914,22.24262046813965,21.121036529541016,38.157859802246094,-18.924680709838867,-30.776260375976562,29.10161590576172,-38.73036193847656,9.594515800476074,34.389984130859375,29.586442947387695,-34.67775344848633,-9.209797859191895,-26.090137481689453,-26.90447998046875,-13.969278335571289,35.43428039550781,-25.140104293823242,-32.52456283569336,-32.76473617553711,29.00283432006836,-21.56947898864746,31.20345687866211,48.337059020996094,-14.925950050354004,24.053281784057617,-24.007848739624023,-4.773376941680908,4.653713226318359,-1.0556824207305908,-9.122983932495117,44.31443405151367,48.3493766784668,30.87060546875,-20.60041046142578,0.8379366993904114,-24.373584747314453,-3.108027219772339,16.763362884521484,23.17689323425293,-28.115705490112305,47.10459899902344,8.405774116516113,30.449676513671875,1.921163558959961,-32.50944900512695,17.525379180908203,49.76435089111328,-9.501274108886719,29.08360481262207,-0.07134892046451569,5.940188407897949,17.595651626586914,7.403389930725098,46.53470230102539,-0.9094559550285339,-31.678131103515625,44.69683837890625,-4.421774387359619,33.8956184387207,29.45095443725586,-27.655698776245117,26.228759765625,-35.151214599609375,27.473491668701172,-32.37021255493164,20.624418258666992,30.38321304321289,-30.196382522583008,25.929187774658203,10.053498268127441,-9.26539134979248,-11.261210441589355,-28.963817596435547,0.43372640013694763,26.09592628479004,-31.18238067626953,-31.490453720092773,32.639076232910156,10.991028785705566,35.010623931884766,42.3584098815918,30.376480102539062,27.888568878173828,-33.65591049194336,-32.6110725402832,50.290069580078125,49.113609313964844,26.94831085205078,-10.742596626281738,-38.67094802856445,48.52071762084961,-31.661170959472656,-10.095088005065918,-31.15269660949707,-17.887264251708984,28.855852127075195,25.884050369262695,-23.79922866821289,34.64089584350586,21.856157302856445,33.863853454589844,-26.509397506713867,-37.3181266784668,47.969303131103516,-17.101058959960938,-41.77993392944336,-11.779158592224121,-8.580062866210938,-27.682518005371094,-17.93744659423828,-32.26439666748047,21.546545028686523,48.27609634399414,9.073033332824707,-8.808432579040527,-30.94676399230957,-14.474390029907227,-28.29031753540039,-24.410018920898438,3.845296859741211,-28.537601470947266,28.41868019104004,-29.13604164123535,-17.76487159729004,-18.971607208251953,1.1444636583328247,-22.457796096801758,37.080081939697266,23.005107879638672,-23.287738800048828,19.514596939086914,-24.770923614501953,-41.2966194152832,-33.868499755859375,1.87959623336792,35.76580047607422,-5.039187431335449,-33.7586784362793,-41.87873077392578,-24.696950912475586,-9.923392295837402,-29.772035598754883,16.192785263061523,-24.26552963256836,9.858044624328613,33.428829193115234,29.907752990722656,41.397464752197266,15.605671882629395,28.324569702148438,-33.58090591430664,-43.2520866394043,1.320074439048767,19.724653244018555,-6.286775588989258,-30.3443546295166,16.926759719848633,-0.06788742542266846,-9.713479995727539,36.058197021484375,35.79767608642578,-32.5394287109375,-9.041571617126465,32.728633880615234,-12.455392837524414,-29.510602951049805,0.9239848852157593,7.460946559906006,29.742259979248047,-22.529441833496094,-13.511704444885254,-9.949751853942871,-32.544944763183594,28.111812591552734,-2.8203835487365723,-33.70705795288086,24.46306610107422,17.515878677368164,49.50361633300781,29.252534866333008,-10.67876148223877,34.38874435424805,-41.84860610961914,20.629596710205078,10.990466117858887,25.189523696899414,29.30548667907715,24.574350357055664,48.2666130065918,-40.455841064453125,-35.13261032104492,-19.569368362426758,19.095746994018555,-25.534297943115234,-6.359375,-9.547361373901367,-8.541351318359375,-28.695703506469727,35.737892150878906,-37.26118850708008,25.0715274810791,38.0065803527832,22.669950485229492,-32.89680862426758,32.241451263427734,28.769533157348633,1.1211121082305908,26.797731399536133,-35.625152587890625,19.080230712890625,25.95914077758789,15.20706558227539,-4.368344783782959,-23.35098648071289,-38.11393737792969,-34.14638900756836,2.1035056114196777,-26.178918838500977,38.36626434326172,2.0574259757995605,-33.75747299194336,11.294848442077637,-13.334607124328613,-21.06248664855957,-12.272597312927246,21.54952049255371,26.0341796875,-25.14552116394043,-9.623088836669922,-34.82638168334961,1.1778700351715088,-11.581745147705078,-19.913284301757812,-32.95148849487305,29.582366943359375,-17.548620223999023,-13.793201446533203,-28.548385620117188,-39.957401275634766,-38.77779769897461,-5.160890579223633,2.6483869552612305,-22.75950050354004,-11.014669418334961,-33.26222610473633,-22.597064971923828,-0.04234107956290245,-10.609179496765137,11.22120189666748,45.27200698852539,-9.747735977172852,29.677541732788086,-27.80218505859375,-5.501971244812012,20.14204978942871,-6.844013214111328,1.888869047164917,-35.61725997924805,1.1598246097564697,-10.030651092529297,29.804656982421875,19.666109085083008,3.259500503540039,-7.087275981903076,-6.603105068206787,10.488021850585938,19.60331153869629,-33.30118179321289,6.89501953125,33.3486213684082,15.325276374816895,-11.00308895111084,29.43761444091797,-31.4764347076416,27.05582046508789,-29.56200408935547,21.12691307067871,-6.577280044555664,-8.055296897888184,-24.758922576904297,-34.62668991088867,3.4581665992736816,-11.42137622833252,-4.982807636260986,-31.301971435546875,-8.39836311340332,-35.28595733642578,-8.047503471374512,-40.26176834106445,6.915069580078125,1.0434764623641968,20.552392959594727,-9.184009552001953,-3.5356857776641846,20.90312385559082,20.30030059814453,26.479597091674805,-9.244684219360352,14.126315116882324,26.216156005859375,-37.18669128417969,4.179695129394531,-10.164717674255371,-10.145474433898926,-26.446712493896484,39.238006591796875,22.533777236938477,30.285554885864258,-12.111474990844727,-31.438955307006836,-33.97394943237305,-38.445735931396484,-35.755409240722656,-27.001998901367188,34.6608772277832,-32.76124572753906,-33.330623626708984,1.2706292867660522,0.9620773792266846,25.919076919555664,-9.892838478088379,-40.37148666381836,48.131378173828125,-12.732260704040527,28.33696174621582,9.232604026794434,24.38541030883789,15.89631175994873,0.8386386036872864,-29.393295288085938,49.47993469238281,-35.2449951171875,-35.21168899536133,1.1813507080078125,33.08112716674805,-39.04166793823242,-14.855223655700684,-8.816774368286133,-14.152350425720215,15.77542781829834,-6.324865341186523,-6.90139102935791,19.826961517333984,34.976097106933594,-12.095081329345703,14.863429069519043,23.305009841918945,-31.401519775390625,-38.85261154174805,-23.33401870727539,-31.466630935668945,-38.54877471923828,-38.355621337890625,-38.22895431518555,16.130401611328125,2.2495334148406982,24.653705596923828,-9.309523582458496,-17.37468719482422,45.4701042175293,-35.7396354675293,-5.865540981292725,-10.54140853881836,30.43136978149414,7.094209671020508,-39.04939651489258,-27.294538497924805,-19.26833724975586,-34.92561340332031,3.166227102279663,-13.344161033630371,-11.525837898254395,-7.1497416496276855,-25.181020736694336,1.9397454261779785,-36.4539680480957,-10.71451187133789,27.132314682006836,-39.50615692138672,-22.53907585144043,-40.35483932495117,-9.403986930847168,22.128490447998047,-5.183520317077637,18.882043838500977,-32.48178482055664,-33.44208526611328,18.80615997314453,-12.112080574035645,-8.399560928344727,30.260700225830078,48.38743591308594,-20.123624801635742,28.03343963623047,-41.95219421386719,14.483437538146973,-16.85688018798828,15.555815696716309,-24.76044273376465,-39.48479080200195,21.04599952697754,-41.06739044189453,31.532255172729492,48.9229850769043,-32.69547653198242,27.794776916503906,13.13841438293457,-32.766963958740234,22.40846824645996,2.282296657562256,34.03841018676758,-42.139312744140625,-4.624302387237549,29.47093391418457,-35.64939880371094,19.8602294921875,-41.70518112182617,23.30698585510254,-0.5400553941726685,17.258527755737305,-32.542823791503906,-5.787640571594238,1.4217474460601807,-3.8251211643218994,-3.614168882369995,-39.19400405883789,32.206581115722656,-8.593425750732422,-28.22921371459961,23.76698875427246,-32.49686813354492,-27.273216247558594,-27.022132873535156,33.56285095214844,-12.736265182495117,1.3625953197479248,8.15247917175293,-40.165035247802734,-30.786300659179688,6.247756481170654,-13.764566421508789,30.40129280090332,-41.9510383605957,-18.844980239868164,-7.291019439697266,-45.37907409667969,-35.662208557128906,-30.712547302246094,-37.07771682739258,-21.99724769592285,20.97665786743164,25.90559959411621,-2.699606418609619,-11.43559455871582,-21.66347312927246,31.156057357788086,-36.918357849121094,23.288230895996094,-17.99859619140625,48.015933990478516,-11.762420654296875,-4.218053340911865,48.87847137451172,31.691884994506836,22.127212524414062,16.49793243408203,-41.11659622192383,-39.68138885498047,34.212928771972656,-36.70335006713867,32.655662536621094,-6.420648574829102,-41.05821228027344,13.16452407836914,-39.56271743774414,-13.203558921813965,-23.64681625366211,25.984376907348633,-13.933801651000977,-8.052433013916016,30.243061065673828,-2.6895666122436523,-26.733196258544922,-32.999515533447266,23.258668899536133,50.048126220703125,-6.443771839141846,-35.04640579223633,-19.56987190246582,31.338516235351562,-7.319182395935059,-42.168190002441406,-42.16073989868164,15.855525016784668,16.28768539428711,6.011340618133545,22.264392852783203,-14.706313133239746,-40.980072021484375,26.014873504638672,24.722204208374023,36.940818786621094,15.147439956665039,-14.445032119750977,-18.800329208374023,-18.940954208374023,-40.33869552612305,-13.02385139465332,-7.052979469299316,-7.434483528137207,-36.46582794189453,-7.157776832580566,-40.008644104003906,26.908458709716797,31.659568786621094,29.29589080810547,2.1466376781463623,-23.35957145690918,32.909645080566406,23.2163143157959,-30.463008880615234,22.458681106567383,-16.677968978881836,16.303791046142578,1.954267978668213,31.979969024658203,1.4134795665740967,-46.80350875854492,-7.8672027587890625,-20.99711036682129,-29.556140899658203,34.48421859741211,-7.446657180786133,26.193735122680664,26.334026336669922,20.48726463317871,-10.566139221191406,-30.426227569580078,26.452314376831055,-35.616634368896484,-45.173683166503906,30.224580764770508,-41.064842224121094,-6.030458927154541,-46.91777038574219,-15.036892890930176,-12.06967830657959,17.28461456298828,-3.662810802459717,30.09299659729004,-9.872879028320312,-42.10368728637695,-41.89579772949219,-11.5673246383667,-23.627782821655273,34.32273483276367,-0.06336972117424011,-45.52805709838867,30.777788162231445,28.959228515625,15.593708038330078,-14.872428894042969,7.2889628410339355,-30.17407989501953,-17.636812210083008,21.580202102661133,-18.98443603515625,-11.492673873901367,13.221435546875,15.462285995483398,22.41719627380371,-7.63112211227417,-35.93166732788086,6.45813512802124,-27.07887077331543,14.168839454650879,6.2061333656311035,18.190561294555664,1.4884861707687378,-28.66265296936035,-19.809608459472656,31.010679244995117,32.1348762512207,36.55506896972656,-0.5747310519218445,-11.1107816696167,13.205994606018066,-11.373495101928711,22.202293395996094,-36.593894958496094,7.688595294952393,7.961481094360352,13.40006160736084,21.463977813720703,24.050241470336914,4.034973621368408,-42.80750274658203,-42.619537353515625,35.99956130981445,-1.250495433807373,-26.782001495361328,-11.670391082763672,25.568357467651367,-12.218452453613281,-7.70689582824707,20.86087417602539,28.827571868896484,12.038750648498535,-42.073482513427734,-1.5041701793670654,7.7027974128723145,-16.128631591796875,-17.80191421508789,-14.015427589416504,15.597620010375977,35.22940444946289,-38.606468200683594,-5.935688495635986,0.17426079511642456,12.735981941223145,32.38774490356445,11.273655891418457,9.962081909179688,5.14655876159668,28.648189544677734,-15.613679885864258,-36.35956573486328,-47.07953643798828,16.97516441345215,-4.235929012298584,-29.954360961914062,14.287249565124512,33.699092864990234,-11.800966262817383,-40.72869873046875,-23.38054656982422,23.47686004638672,37.04550552368164,-7.573012351989746,-21.283836364746094,-15.335164070129395,-17.464414596557617,-46.27103042602539,-41.545047760009766,27.521835327148438,-46.87657928466797,34.43295669555664,9.256863594055176,2.8550338745117188,1.9389452934265137,29.68225860595703,0.08829981833696365,-28.071008682250977,34.539817810058594,35.574989318847656,16.70267677307129,21.661930084228516,-21.71708869934082,-29.097003936767578,-50.0774040222168,35.4075927734375,-42.30891418457031,9.554340362548828,-42.55191421508789,36.36214065551758,-15.772504806518555,-1.103318691253662,12.329643249511719,-39.262691497802734,10.359707832336426,-43.28994369506836,-5.977540493011475,7.935185432434082,1.3108183145523071,9.02132511138916,-27.47526741027832,6.510642051696777,-49.5279541015625,-44.65442657470703,29.0800838470459,-35.20207977294922,15.069342613220215,-48.674072265625,-26.983577728271484,4.430356502532959,-19.891456604003906,34.573360443115234,-43.36759567260742,-32.72997283935547,-15.071935653686523,-22.97187614440918,5.93665075302124,28.906103134155273,33.012290954589844,24.59825897216797,-0.20690877735614777,33.76023864746094,-43.62134552001953,15.504141807556152,-48.33149337768555,-14.105299949645996,6.262646198272705,-43.0986442565918,-21.65224838256836,23.31100082397461,15.643088340759277,11.967362403869629,-5.7897233963012695,-8.542691230773926,-49.66841125488281,-5.793711185455322,-12.278589248657227,-7.090635299682617,32.30324172973633,27.05342674255371,0.7746075987815857,31.507572174072266,-46.97821044921875,26.978729248046875,-10.339192390441895,-7.632726669311523,26.48231315612793,-49.48685836791992,-13.36716365814209,-14.463153839111328,-41.46827697753906,-10.940595626831055,-33.49440002441406,30.640180587768555,-12.045368194580078,21.021692276000977,-12.665552139282227,-34.102169036865234,-22.78042221069336,-21.298917770385742,-9.107507705688477,36.103912353515625,7.914290904998779,-42.225914001464844,1.3899197578430176,-43.222049713134766,-42.62345886230469,29.320823669433594,-34.714229583740234,-42.26042556762695,-41.97419357299805,-42.832176208496094,-13.49386978149414,-45.140140533447266,8.859551429748535,-14.301203727722168,1.3129850625991821,-0.6566253900527954,-18.017576217651367,-19.32655906677246,-42.196102142333984,26.24172019958496,8.938323974609375,34.54133605957031,0.6033533811569214,25.307125091552734,-47.45130157470703,-43.64264678955078,-43.2164306640625,-0.19604377448558807,27.91163444519043,25.42985725402832,-18.469154357910156,34.59961700439453,-49.665977478027344,-18.669292449951172,-3.9946906566619873,-44.85879135131836,-11.63811206817627,-44.34761047363281,29.38030242919922,-12.7294921875,7.645204544067383,3.2183685302734375,-47.603973388671875,-16.72165298461914,11.865326881408691,-0.6024025678634644,-14.229198455810547,-49.82710647583008,-22.52419662475586,-6.57172966003418,-43.67609405517578,-41.1958122253418,-47.44278335571289,-42.21919250488281,10.265642166137695,-47.23651885986328,-45.426204681396484,-43.883365631103516,1.6686967611312866,-2.208462953567505,16.03223991394043,24.826629638671875,-33.77848815917969,-40.330257415771484,-7.166380405426025,0.6240314841270447,-13.862936973571777,27.270694732666016,24.752368927001953,3.3097574710845947,28.97511100769043,-8.596314430236816,-44.411319732666016,35.33717727661133,-0.0797741636633873,-7.64639949798584,34.253353118896484,-2.971600294113159,-20.8328914642334,32.13355255126953,-41.545833587646484,3.3307440280914307,-19.799606323242188,-9.293364524841309,32.03594207763672,-4.241009712219238,1.6810169219970703,9.149996757507324,-13.842461585998535,-48.23857498168945,27.59733772277832,26.36847686767578,32.78849411010742,-12.367005348205566,1.1134394407272339,-1.4959484338760376,-49.705806732177734,-47.746028900146484,-44.04622268676758,34.101383209228516,24.126056671142578,32.479515075683594,-6.841859817504883,-48.23271942138672,0.312534362077713,-16.227333068847656,0.9097716808319092,15.366912841796875,-44.78228759765625,-19.99441146850586,27.385896682739258,-42.97721862792969,-43.69898223876953,-44.42190170288086,-47.07308578491211,-45.89727020263672,-13.523097038269043,-49.44286346435547,-10.696980476379395,-9.861282348632812,-7.347448348999023,-45.032257080078125,-43.249969482421875,-44.25640869140625,26.583209991455078,-9.246195793151855,-3.321171998977661,-6.962247371673584,-4.391565322875977,33.83828353881836,-43.43116760253906,0.9936026930809021,-48.878971099853516,2.106090545654297,-21.113265991210938,1.5400062799453735,24.353290557861328,33.30662155151367,-10.133411407470703,-23.935192108154297,-45.53694534301758,-48.39918899536133,-22.295698165893555,-8.029928207397461,32.10495376586914,-46.22608947753906,-49.34932327270508,1.0212057828903198,-16.42716407775879,3.3361799716949463,-19.9537296295166,-6.145547866821289,-1.5403225421905518,-46.15898513793945,-4.891456127166748,-45.69868087768555,32.2712516784668,33.526283264160156,3.2059426307678223,24.4976749420166,-6.5084733963012695,32.85471725463867,-48.69277572631836,-15.335701942443848,-11.924498558044434,3.0505778789520264,-20.623363494873047,-49.265625,-17.00461769104004,3.201737642288208,-12.460906028747559,-46.53327178955078,-11.833978652954102,31.704662322998047,-17.033172607421875,-10.899369239807129,2.7479546070098877,-2.588874578475952,3.6652023792266846,32.70985794067383,-13.990448951721191,-51.728519439697266,23.56160545349121,1.4642305374145508,-6.100369930267334,-16.56386375427246,-19.943988800048828,3.7671287059783936,-9.262155532836914,-43.286800384521484,-18.85927963256836,-20.87220001220703,26.43650245666504,24.624784469604492,-46.31536102294922,2.2256877422332764,-1.5941215753555298,4.183518409729004,-8.779467582702637,3.6010351181030273,-16.05352210998535,-3.645352363586426,20.26055335998535,-46.31930160522461,-50.5356330871582,-50.43924331665039,-16.149518966674805,-51.255393981933594,24.21825408935547,19.945924758911133,-24.33992576599121,0.5757929086685181,2.3470330238342285,-24.321279525756836,-50.55387496948242,-18.37705421447754,-13.945028305053711,1.6711348295211792,-5.894740104675293,-15.2782564163208,-20.92706871032715,-15.126952171325684,2.950289011001587,32.97483444213867,-0.4643130898475647,-13.906527519226074,-47.62920379638672,-51.18360137939453,-14.14637565612793,20.920902252197266,-50.65202713012695,-50.94148635864258,-4.9065680503845215,-43.651798248291016,-4.369564056396484,-8.7797269821167,-43.5297966003418,2.1044886112213135,-43.62632751464844,-20.944984436035156,-0.5068284869194031,0.7933635711669922,-50.558746337890625,-20.89728546142578,-46.53924560546875,-51.62532043457031,-47.58926010131836,-0.8527226448059082,-50.612510681152344,-2.949479818344116,-47.67685317993164,-51.80739212036133,19.8576602935791,-14.299782752990723,23.31861686706543,20.123310089111328,4.515291213989258,-14.412999153137207,-2.363415002822876,-0.5775862336158752,-1.2795960903167725,-14.371864318847656,21.03230094909668,26.509010314941406,-47.8598747253418,-48.41010284423828,23.670284271240234,-11.690583229064941,-18.296812057495117,15.1541109085083,21.374420166015625,-1.47853684425354,-48.26784133911133,-1.2268595695495605,-2.3473002910614014,-1.512414574623108,19.51729965209961,-7.725421905517578,-48.54037094116211,-7.377996444702148,-8.804082870483398,-10.23978042602539,-8.065860748291016,19.771936416625977,-47.12211990356445,-48.91739273071289,-5.823241710662842,-13.506376266479492,19.813556671142578,-3.9071638584136963,-3.210655927658081,23.72855567932129,20.156770706176758,20.40191650390625,20.309267044067383,-1.971347689628601,-48.44602584838867,-4.100531101226807,-15.687492370605469,-52.70857620239258,-0.566495954990387,24.025653839111328,-5.364593505859375,0.12485719472169876,16.193439483642578,-0.9125346541404724,18.856212615966797,0.9342371821403503,23.318580627441406,-0.6154277920722961,-0.8378599286079407,-12.867571830749512,22.053537368774414,20.03495216369629,-49.63782501220703,-54.492591857910156,21.49860191345215,-3.3323991298675537,4.858819961547852,-15.808158874511719,27.49980354309082,-49.12529373168945,-19.893932342529297,-7.901637077331543,-49.28610610961914,-14.11703872680664,-16.443754196166992,-48.98747253417969,-14.69162654876709,5.032094478607178,-13.041458129882812,-15.067825317382812,-13.921550750732422,-0.29875901341438293,-49.05205154418945,-18.304330825805664,-14.645489692687988,-52.58340835571289,-6.631570816040039,-12.9452486038208,-1.8622132539749146,-49.98323440551758,-53.29066467285156,-15.993077278137207,-52.44953536987305,-0.37154290080070496,-17.694028854370117,20.153989791870117,-48.66209030151367,-8.38197135925293,22.348848342895508,-6.056967735290527,-0.8516390919685364,-49.40016174316406,17.297290802001953,-7.801966667175293,-49.16135025024414,0.6191261410713196,-4.9182000160217285,18.40843391418457,-9.113845825195312,19.550857543945312,-19.58489418029785,-17.43743324279785,-7.814445495605469,-4.823122978210449,-10.707326889038086,-20.12622833251953,-16.08826446533203,18.95771598815918,-17.621335983276367,-6.338057518005371,19.46462059020996,-0.5471054315567017,-13.133663177490234,18.223485946655273,-1.538654088973999,19.650188446044922,-16.670024871826172,-46.79432678222656,5.450100898742676,-52.922096252441406,1.0695754289627075,-10.476223945617676,-49.43802261352539,0.5167637467384338,-18.19957733154297,22.244342803955078,-8.56312084197998,-51.52040100097656,-14.358039855957031,-4.861072540283203,-19.033611297607422,-9.02800464630127,-15.327698707580566,-10.621932029724121,-1.5485490560531616,-49.084346771240234,-21.046489715576172,-54.122100830078125,-14.403846740722656,-51.076026916503906,-3.605144739151001,15.039939880371094,-11.288110733032227,-48.351173400878906,-49.664939880371094,-15.190383911132812,19.61719512939453,-53.03105545043945,-53.272499084472656,23.67070198059082,-1.7976332902908325,-10.602410316467285,-8.429009437561035,23.43637466430664,21.962156295776367,-5.701506614685059,23.58768653869629,-9.543654441833496,-14.164584159851074,-50.269466400146484,16.302978515625,20.340463638305664,23.5836181640625,-10.214377403259277,15.652880668640137,-10.61235237121582,-56.0123176574707,-56.406898498535156,20.707660675048828,-4.826786041259766,-12.1085786819458,-51.85304641723633,-12.946223258972168,-1.633644461631775,-0.5042250752449036,-53.85287857055664,-13.83442497253418,15.994495391845703,17.567354202270508,23.19478988647461,-16.38254737854004,-13.295750617980957,-15.344331741333008,-18.055675506591797,22.924102783203125,-50.1724967956543,-15.799413681030273,21.740840911865234,-8.577373504638672,-9.376312255859375,16.715665817260742,15.599279403686523,-0.8191863298416138,22.591243743896484,-51.064456939697266,-20.263763427734375,-53.57677459716797,-1.8839325904846191,24.11836051940918,-50.422698974609375,-2.8599460124969482,-4.396918773651123,-0.19424910843372345,-1.4445204734802246,22.76384162902832,16.894683837890625,14.523881912231445,-15.237732887268066,-5.880313396453857,-1.8867790699005127,16.772403717041016,-14.395493507385254,-3.628305196762085,-52.708770751953125,-9.785890579223633,-53.56123733520508,13.977529525756836,-53.55238342285156,-2.9020371437072754,-2.1565093994140625,21.330236434936523,-53.98947525024414,21.978086471557617,15.851503372192383,-7.960373401641846,-50.55048370361328,-19.843732833862305,-3.109276294708252,-48.94076156616211,-14.29161548614502,-50.244720458984375,15.618441581726074,-51.6204719543457,-51.953712463378906,17.72664451599121,-48.49616241455078,-51.08855438232422,-51.44833755493164,0.0011102245189249516,-3.6794886589050293,-20.219038009643555,19.183849334716797,-50.55232620239258,14.765347480773926,-2.348968029022217,-50.58658218383789,-20.567855834960938,-8.652617454528809,15.94284439086914,14.995259284973145,-3.492063522338867,-50.88440704345703,17.862382888793945,-2.5557568073272705,18.39029312133789,-19.548583984375,19.259756088256836,-12.497119903564453,-7.210123538970947,-53.97541046142578,-11.052423477172852,15.25626277923584,-52.09893035888672,-54.18284225463867,-52.81064987182617,-9.985692977905273,16.457969665527344,-51.33757400512695,17.873605728149414,15.505904197692871,20.231775283813477,-19.008838653564453,-56.523746490478516,-3.3772459030151367,-10.14554214477539,14.932433128356934,-53.35839080810547,-6.016012668609619,-6.955933094024658,19.75708770751953,-2.9505019187927246,18.24424171447754,-11.54949951171875,19.434045791625977,-54.06866455078125,-9.419511795043945,18.5508975982666,-8.553956985473633,-20.466123580932617,13.720056533813477,19.6530704498291,15.476903915405273,19.857120513916016,-19.398000717163086,20.916629791259766,18.616792678833008,-4.150124549865723,-18.540916442871094,-18.503597259521484,19.188030242919922,20.523923873901367,-4.717088222503662,-11.33525562286377,14.997138023376465,17.378896713256836,18.474660873413086,15.660232543945312,15.375089645385742],\"xaxis\":\"x\",\"y\":[-40.209503173828125,60.39067459106445,26.682191848754883,33.97768783569336,58.63966369628906,23.91645050048828,32.63148498535156,27.718761444091797,29.207456588745117,47.91936111450195,-45.7299919128418,-57.37519073486328,25.04839324951172,29.0709171295166,61.048831939697266,30.63666534423828,50.42997360229492,64.89485168457031,24.158395767211914,27.54388427734375,66.00369262695312,50.281856536865234,61.83635330200195,-36.126365661621094,19.16794204711914,10.995697975158691,54.56406784057617,53.56460952758789,50.7827033996582,58.650569915771484,48.07539749145508,64.23481750488281,34.88542556762695,26.07712173461914,64.3914566040039,51.456539154052734,36.1378059387207,55.98858642578125,56.16852951049805,49.09934997558594,-42.794246673583984,18.468544006347656,16.851978302001953,-55.55672836303711,46.84133529663086,51.302547454833984,17.04507064819336,53.357486724853516,54.29435729980469,51.78063201904297,55.465606689453125,36.656497955322266,60.58564758300781,59.06870651245117,29.035655975341797,15.990400314331055,-59.09773254394531,50.76258850097656,42.54005813598633,54.51704406738281,61.08163070678711,33.697025299072266,38.76198959350586,30.697202682495117,55.817848205566406,-3.942103147506714,-40.57016372680664,54.456546783447266,31.22774314880371,36.05043411254883,24.795949935913086,-40.99891662597656,57.51932144165039,30.26209831237793,34.87548828125,-53.664241790771484,49.61393356323242,30.271020889282227,33.4510612487793,-31.353548049926758,22.15887451171875,-43.215431213378906,45.30800247192383,36.61928176879883,38.40248489379883,50.68949508666992,36.976531982421875,51.95877456665039,-44.66522979736328,50.58956527709961,61.1703987121582,33.951602935791016,27.194190979003906,30.24966812133789,35.9576301574707,5.322986125946045,29.597904205322266,58.71143341064453,27.509183883666992,37.382450103759766,36.29555130004883,34.75666427612305,59.42174530029297,30.978612899780273,37.358585357666016,53.89326095581055,32.39482879638672,31.192638397216797,47.03630447387695,-25.278209686279297,52.138431549072266,10.689409255981445,28.119827270507812,14.97088623046875,60.72773361206055,-10.284339904785156,63.67343521118164,35.424095153808594,34.02579879760742,48.83475112915039,53.00758743286133,57.20128631591797,36.66337966918945,18.98416519165039,-42.03329086303711,60.79442596435547,31.103683471679688,53.37632751464844,-41.26089096069336,-37.54020309448242,55.48722457885742,-55.80181121826172,47.87893295288086,23.72763442993164,58.997249603271484,50.644073486328125,35.48161697387695,33.27500915527344,54.70481491088867,18.688539505004883,28.535667419433594,37.298255920410156,49.07820129394531,46.89636993408203,26.695201873779297,47.505001068115234,33.653106689453125,24.24103355407715,25.26435661315918,-58.33623504638672,34.40031814575195,37.482357025146484,49.450923919677734,-63.665042877197266,54.71601867675781,56.584434509277344,12.436638832092285,30.990285873413086,65.55776977539062,53.9393196105957,8.000311851501465,54.88520431518555,51.56691360473633,63.80009460449219,29.770784378051758,50.41054153442383,21.81279182434082,49.39752197265625,50.25699234008789,44.650699615478516,-53.49455261230469,27.72224998474121,42.53751754760742,37.25440216064453,54.38431930541992,-36.43638610839844,45.509578704833984,-32.55618667602539,51.616458892822266,57.89778518676758,-35.975955963134766,29.38668441772461,26.767709732055664,-26.124908447265625,51.591495513916016,19.61311912536621,5.875665187835693,54.52431106567383,55.764991760253906,35.51606369018555,-4.381880283355713,44.66606903076172,55.2945442199707,25.902803421020508,37.46125030517578,48.69680404663086,51.79079055786133,3.058098554611206,29.676578521728516,58.065731048583984,64.62239074707031,30.69831657409668,22.825105667114258,37.04783248901367,1.0645920038223267,53.53998565673828,27.568796157836914,15.574443817138672,16.414997100830078,60.651878356933594,48.57069778442383,-63.506553649902344,50.92390441894531,57.46699905395508,26.568157196044922,38.68267822265625,19.319669723510742,55.576087951660156,23.451797485351562,26.716493606567383,18.863300323486328,30.758216857910156,47.479469299316406,44.35280990600586,58.08089828491211,60.47023010253906,15.977294921875,28.185571670532227,54.505889892578125,-56.671287536621094,-64.36632537841797,-24.66066551208496,52.40004348754883,37.59721755981445,54.69552230834961,43.28327941894531,14.737205505371094,57.0876579284668,30.135255813598633,52.62337112426758,52.10688400268555,25.677074432373047,-26.63719367980957,15.536247253417969,34.57637023925781,36.83123016357422,25.599363327026367,28.26934051513672,32.05857849121094,28.396482467651367,25.277437210083008,57.49553680419922,36.09947967529297,35.160247802734375,57.20233917236328,55.29277420043945,57.20327377319336,37.74973678588867,45.746639251708984,25.779666900634766,61.39747619628906,58.60682678222656,-29.74111557006836,61.74542236328125,47.05636215209961,37.74262237548828,33.117061614990234,43.760841369628906,48.857540130615234,53.79188537597656,58.86097717285156,26.84467887878418,58.028141021728516,30.801292419433594,32.34205627441406,-34.56990051269531,25.040382385253906,37.53681182861328,24.32074737548828,-51.447959899902344,61.733192443847656,24.21478843688965,33.42550277709961,48.14450454711914,53.90741729736328,38.74794387817383,36.32006072998047,-5.014089584350586,-56.276885986328125,37.4248161315918,-2.021972894668579,34.161746978759766,35.08034133911133,16.726673126220703,54.40736389160156,51.48298645019531,13.07811164855957,34.99778747558594,18.594125747680664,15.85808277130127,-30.38256072998047,14.521203994750977,64.78291320800781,38.153804779052734,37.87360763549805,18.57510757446289,50.89319610595703,43.91577911376953,19.336681365966797,39.10895538330078,-4.110239028930664,26.846784591674805,48.91304397583008,2.4866209030151367,25.91730499267578,65.86456298828125,59.78928756713867,1.6217867136001587,26.03492546081543,19.66340446472168,21.86766242980957,-42.31619644165039,-55.465110778808594,49.967735290527344,-30.687210083007812,31.08425521850586,26.78847312927246,58.14743423461914,46.918270111083984,-40.1048698425293,40.85649871826172,44.242156982421875,52.05544662475586,50.07115936279297,-10.299695014953613,-49.626895904541016,57.82990264892578,18.221437454223633,53.38005447387695,14.765748023986816,0.596822202205658,14.570796966552734,53.54448699951172,29.722848892211914,34.85075378417969,37.45600891113281,28.23984718322754,19.03030776977539,57.40245056152344,57.03998565673828,56.77249526977539,36.69287109375,48.34883499145508,47.708717346191406,34.072078704833984,55.25282287597656,26.12129783630371,36.70897674560547,-50.47860336303711,49.62615203857422,43.955604553222656,47.159385681152344,48.551544189453125,-64.16803741455078,34.745426177978516,22.498682022094727,52.97418975830078,25.843801498413086,6.5178399085998535,52.51504898071289,17.430627822875977,26.11800193786621,54.75779724121094,28.83769989013672,34.60158157348633,-8.78776741027832,11.341936111450195,-38.59543991088867,60.307518005371094,-1.9273778200149536,5.368814468383789,45.49190139770508,49.076576232910156,46.10279846191406,46.684669494628906,27.654874801635742,27.695419311523438,34.7279052734375,46.25920867919922,-60.131507873535156,-26.777942657470703,27.776512145996094,56.893836975097656,56.78458023071289,-50.51495361328125,25.554391860961914,60.834312438964844,27.957582473754883,36.99418258666992,21.929903030395508,57.176509857177734,48.880958557128906,12.599477767944336,22.459064483642578,28.51000213623047,37.04886245727539,48.320926666259766,44.28866958618164,-5.664259910583496,13.835111618041992,57.3646240234375,26.572755813598633,32.1210823059082,-52.16661071777344,17.643531799316406,-40.525352478027344,52.053321838378906,34.94748306274414,50.07448959350586,51.27407455444336,24.53468894958496,57.23733901977539,-14.711109161376953,55.929134368896484,56.12873458862305,51.698883056640625,47.000858306884766,50.268524169921875,53.49867630004883,27.44599151611328,30.86989402770996,28.33963966369629,54.61240005493164,25.166465759277344,53.474239349365234,31.253196716308594,-34.91349411010742,50.365386962890625,28.57073402404785,32.38574981689453,36.80393600463867,55.79033660888672,56.759193420410156,-4.6261491775512695,-9.265726089477539,52.37187957763672,6.291628837585449,57.7089958190918,19.202747344970703,2.7426741123199463,36.505043029785156,35.825706481933594,44.00471878051758,34.14410400390625,36.498779296875,35.9514045715332,58.228145599365234,-42.65584945678711,25.35588264465332,12.369524002075195,50.90855407714844,58.70454025268555,-38.10969161987305,38.91317367553711,1.3294681310653687,-63.99870300292969,26.91429901123047,47.79814910888672,-35.421600341796875,22.023738861083984,36.978092193603516,57.525123596191406,50.41774368286133,18.522144317626953,44.85822296142578,55.912940979003906,34.30811309814453,-2.407510757446289,24.813232421875,38.142677307128906,19.559228897094727,48.633853912353516,55.4326286315918,-31.802804946899414,35.23072052001953,39.99879455566406,-3.671398878097534,59.59096145629883,41.80580520629883,1.220269799232483,-31.124670028686523,-24.960189819335938,36.18787384033203,55.83757400512695,61.96491241455078,-37.047569274902344,11.644091606140137,56.92047119140625,43.44414138793945,52.12221908569336,36.1185302734375,36.63623809814453,37.132774353027344,53.7961540222168,-5.076387405395508,55.652408599853516,47.4631462097168,27.131776809692383,-2.3643875122070312,47.703922271728516,-42.8564338684082,52.065853118896484,56.37884521484375,53.824554443359375,52.38517761230469,36.64558410644531,21.443788528442383,-2.6329355239868164,36.4637451171875,-38.791133880615234,14.942852973937988,49.25986862182617,-5.428672790527344,-41.488670349121094,34.83231735229492,45.69861602783203,-62.2216911315918,34.40663528442383,22.523542404174805,-37.161476135253906,-57.168819427490234,-53.58791732788086,39.409584045410156,53.33713150024414,58.797996520996094,55.06595230102539,19.55553436279297,25.157493591308594,-32.250057220458984,20.505203247070312,45.85293960571289,-2.9218571186065674,-37.727664947509766,36.3497200012207,55.12544631958008,34.55232620239258,32.14390563964844,53.96377182006836,25.48696517944336,52.9285888671875,23.859092712402344,-39.135467529296875,54.602535247802734,-4.23459529876709,56.711570739746094,28.53801727294922,55.45475387573242,53.9083366394043,-37.894039154052734,53.78208541870117,44.59974670410156,34.82328414916992,24.215736389160156,61.99002456665039,38.81039810180664,53.361228942871094,14.502206802368164,-42.469120025634766,56.010807037353516,49.99008560180664,35.261756896972656,13.517579078674316,29.756559371948242,36.14500045776367,50.30397415161133,49.591243743896484,36.12673568725586,20.09644317626953,43.8333740234375,33.257049560546875,27.172101974487305,-56.36055374145508,41.29730224609375,56.87766647338867,55.88956832885742,-51.0207405090332,46.369449615478516,54.977195739746094,55.27850341796875,51.447418212890625,35.03219985961914,30.88885498046875,-30.293739318847656,56.6049690246582,2.419935464859009,30.34105682373047,47.80827713012695,35.22073745727539,43.010440826416016,28.473251342773438,21.089420318603516,50.61357498168945,46.29164505004883,15.891718864440918,-30.944122314453125,1.0879993438720703,56.611270904541016,33.198665618896484,13.482030868530273,57.0644416809082,26.158355712890625,30.361703872680664,59.021575927734375,28.046085357666016,-36.79026412963867,-43.52255630493164,38.49219512939453,49.472660064697266,-56.23419952392578,-5.438460826873779,33.458770751953125,14.751208305358887,34.35209274291992,29.964433670043945,51.05686569213867,54.35517883300781,-6.660696506500244,33.507972717285156,33.44807815551758,61.23811721801758,17.27435302734375,13.618267059326172,55.868446350097656,50.90626907348633,23.563690185546875,55.867130279541016,34.48188400268555,19.033124923706055,-3.041635751724243,35.39287567138672,-56.818363189697266,53.00739288330078,26.803688049316406,-50.25076675415039,30.09778594970703,-51.536781311035156,-0.30470746755599976,54.92827606201172,55.017948150634766,51.46076583862305,-2.2828378677368164,15.961987495422363,-36.551666259765625,27.34774398803711,24.40320587158203,25.283384323120117,28.995269775390625,25.84073257446289,50.27375793457031,58.58667755126953,23.06202507019043,54.460140228271484,29.29073143005371,25.75946807861328,-43.89757537841797,48.377044677734375,25.854469299316406,23.4379825592041,37.394222259521484,40.82276153564453,50.857032775878906,24.870712280273438,23.223621368408203,23.75364875793457,-63.45649337768555,-4.261433124542236,-39.948150634765625,35.332115173339844,0.4095954895019531,55.58782958984375,57.83639907836914,17.160634994506836,13.377866744995117,39.22618865966797,43.93942642211914,-26.818567276000977,52.95887756347656,25.448680877685547,54.2323112487793,36.92906188964844,54.16481399536133,26.915302276611328,26.351078033447266,51.423091888427734,34.9913330078125,15.458574295043945,-5.374238967895508,50.345924377441406,55.20841979980469,54.25235366821289,15.162651062011719,-7.397443771362305,-8.553848266601562,46.57749557495117,20.787282943725586,55.13505554199219,53.85688400268555,36.99796676635742,53.831581115722656,59.726531982421875,24.4132022857666,-48.74626159667969,27.187105178833008,35.86520004272461,35.23640823364258,22.70825958251953,14.276711463928223,26.952482223510742,20.8323974609375,1.2470355033874512,-3.277034044265747,13.325797080993652,36.120582580566406,27.686708450317383,24.704317092895508,33.83161163330078,50.08876037597656,23.083545684814453,-32.944976806640625,8.786145210266113,19.57444953918457,46.43156433105469,30.21404266357422,57.14366149902344,54.5374870300293,19.50920295715332,38.333866119384766,50.12302017211914,44.00733947753906,45.482460021972656,24.307762145996094,43.407535552978516,-57.906883239746094,-36.22697448730469,-9.342768669128418,-40.43474578857422,59.58681869506836,38.006046295166016,46.971622467041016,44.694435119628906,54.88602828979492,48.866546630859375,28.482303619384766,55.61344528198242,29.818227767944336,-31.478675842285156,-8.900586128234863,29.725038528442383,55.42866516113281,45.7595100402832,5.532896041870117,-2.9804232120513916,38.390323638916016,55.23117446899414,29.978944778442383,35.09917068481445,49.801414489746094,51.675167083740234,6.523621082305908,51.871559143066406,58.09353256225586,34.84782028198242,-58.14857864379883,18.059709548950195,-35.70600128173828,26.265668869018555,56.365081787109375,58.11250686645508,32.78646469116211,-5.033934116363525,22.559295654296875,50.385780334472656,51.188777923583984,57.05186080932617,51.74484634399414,-10.265721321105957,55.714088439941406,28.888629913330078,41.96040344238281,-62.28105545043945,-56.8877067565918,56.82570266723633,46.78086853027344,43.013877868652344,39.175575256347656,18.596904754638672,50.12482833862305,49.04983901977539,28.554929733276367,58.56237030029297,18.97511100769043,13.270467758178711,52.436946868896484,46.57976531982422,53.25074768066406,-25.108854293823242,-33.58138656616211,28.324289321899414,-8.396191596984863,28.709142684936523,36.92700958251953,37.94135665893555,-61.89448547363281,56.78859329223633,45.972347259521484,17.88956069946289,51.021541595458984,46.58106994628906,-58.042545318603516,20.741857528686523,38.20611572265625,38.75904846191406,56.93975067138672,53.6829833984375,25.094728469848633,-32.89858627319336,53.62268829345703,22.497047424316406,29.17444610595703,55.95104217529297,-35.957271575927734,35.71718978881836,-28.19700050354004,40.31111145019531,48.3757209777832,-3.283750057220459,22.990116119384766,55.554718017578125,51.14486312866211,-11.042159080505371,49.53551483154297,39.0821647644043,-2.078406810760498,-5.281130313873291,32.917503356933594,26.84119415283203,3.0232770442962646,30.197370529174805,-37.15110397338867,42.89494323730469,27.83038902282715,-42.87305450439453,15.507735252380371,-35.908241271972656,33.438499450683594,32.29995346069336,14.1234769821167,18.048782348632812,23.87550926208496,21.6894588470459,-1.9297972917556763,41.51288604736328,27.67047882080078,42.663368225097656,-10.777486801147461,23.26169776916504,34.3096923828125,-6.944127559661865,24.58717155456543,41.01434326171875,12.836978912353516,56.960166931152344,15.062637329101562,30.254220962524414,0.9245262145996094,12.341516494750977,-37.227378845214844,-14.555401802062988,3.6865766048431396,23.757503509521484,32.86511993408203,-25.312320709228516,17.32070541381836,44.39860534667969,33.45206832885742,22.73039436340332,46.81415557861328,-5.148416519165039,17.705472946166992,-55.462867736816406,56.35593032836914,31.414968490600586,45.2636833190918,56.293025970458984,43.249481201171875,-49.36191940307617,5.090290069580078,40.31113815307617,20.71021842956543,32.4376335144043,-1.5773124694824219,40.79214096069336,37.12446975708008,10.33182144165039,57.96784591674805,24.729124069213867,3.9913711547851562,-39.3375244140625,-36.78755569458008,-1.4713696241378784,49.764923095703125,-48.506507873535156,41.27228927612305,-10.516030311584473,-10.888869285583496,-3.7300233840942383,-32.91852951049805,11.288444519042969,6.89931058883667,-38.40629196166992,-8.170292854309082,-0.2170640081167221,13.469406127929688,14.021232604980469,40.07639694213867,45.332576751708984,13.57602596282959,-3.8136343955993652,-5.905823707580566,50.91155242919922,-1.7834463119506836,-64.26416015625,32.51471710205078,46.06309127807617,36.39570236206055,59.096160888671875,20.571762084960938,45.79336166381836,40.126556396484375,-52.7442741394043,-56.68965530395508,55.02394104003906,55.99380874633789,-26.007402420043945,27.316987991333008,39.99679183959961,22.450349807739258,41.85384750366211,26.827634811401367,8.812911987304688,1.6982425451278687,22.10153579711914,26.824037551879883,15.679380416870117,2.347715139389038,-38.60591506958008,16.21156883239746,-34.15532684326172,28.12032127380371,33.59381103515625,23.006601333618164,36.93842315673828,52.96489715576172,-45.325714111328125,-14.705081939697266,-36.75920104980469,47.69947814941406,-3.7809903621673584,-57.354957580566406,-58.57576370239258,34.55939865112305,14.746320724487305,23.38124656677246,9.670494079589844,-7.320359230041504,-5.2263593673706055,-2.7236738204956055,24.92791748046875,29.57207489013672,-5.6795878410339355,-10.390192031860352,24.676090240478516,32.6978759765625,26.77587890625,-7.207799434661865,-7.126863956451416,7.396875858306885,32.75825119018555,-35.33647155761719,34.95115661621094,45.24479675292969,29.049100875854492,17.688812255859375,44.04555130004883,13.23231029510498,14.662829399108887,28.605852127075195,21.510799407958984,-36.473873138427734,26.86928367614746,-2.280467987060547,-33.092994689941406,6.721104145050049,21.1882381439209,25.23154640197754,23.4072322845459,3.2012979984283447,12.832523345947266,12.621403694152832,16.653146743774414,17.149599075317383,24.976354598999023,40.82952880859375,45.6351203918457,31.784698486328125,4.868931770324707,-13.86379623413086,12.105840682983398,19.533964157104492,50.451778411865234,22.950279235839844,-39.92803955078125,30.2205753326416,12.818408012390137,-33.99654006958008,-63.840782165527344,14.746482849121094,27.872783660888672,2.0951056480407715,38.637420654296875,41.18684005737305,24.369159698486328,17.432483673095703,26.884050369262695,39.916534423828125,26.130783081054688,-7.054842948913574,24.053415298461914,24.00887680053711,24.287294387817383,43.17616271972656,21.490188598632812,18.54340934753418,20.43301010131836,-38.98128890991211,-55.626522064208984,24.089513778686523,-49.53096389770508,-0.7564889192581177,-39.49502182006836,-6.492747783660889,26.466413497924805,30.03538703918457,8.698180198669434,38.72085952758789,23.824451446533203,16.45392417907715,-6.835136413574219,12.463275909423828,3.861083745956421,-63.52328872680664,9.241487503051758,22.560985565185547,-38.65620803833008,41.94402313232422,38.39476013183594,-52.1796875,22.80068588256836,44.355743408203125,7.808494567871094,3.049088954925537,-40.027732849121094,16.805091857910156,-4.734647750854492,13.858040809631348,31.677141189575195,20.736263275146484,2.979759931564331,38.797245025634766,32.03525161743164,37.206119537353516,28.300180435180664,-9.974325180053711,20.550151824951172,-5.802572250366211,-52.7890739440918,40.811832427978516,-63.30405044555664,9.574006080627441,22.089305877685547,9.908007621765137,3.0054707527160645,23.533645629882812,42.77126693725586,28.492572784423828,-6.139176845550537,9.48343563079834,39.521629333496094,-5.375342845916748,21.648818969726562,-5.993331432342529,26.401920318603516,44.75941467285156,-3.5396223068237305,7.184263706207275,-38.664886474609375,-6.637868404388428,-34.407630920410156,-0.06494206190109253,9.264723777770996,-49.395042419433594,9.210315704345703,12.421907424926758,27.072025299072266,-6.862207889556885,-62.401676177978516,-2.010136842727661,24.4940242767334,13.223736763000488,-7.2674880027771,23.41525650024414,-37.00690460205078,34.52653121948242,35.29043197631836,-55.57044982910156,-4.547919750213623,25.08953094482422,0.9438974857330322,22.90655517578125,24.665653228759766,27.5097713470459,-54.831634521484375,7.16796350479126,-3.893282651901245,-3.6167409420013428,4.018172264099121,-15.365797996520996,13.17737102508545,14.702195167541504,-48.276763916015625,-48.79202651977539,31.20323371887207,39.59477996826172,43.561973571777344,7.653377056121826,-11.310529708862305,29.311506271362305,-48.902042388916016,13.138463973999023,3.6141650676727295,45.77671813964844,20.47007942199707,33.42918395996094,33.480953216552734,18.00589942932129,45.92662048339844,21.558656692504883,-23.919086456298828,-39.32661437988281,-60.80527114868164,6.5996928215026855,23.922710418701172,-8.434383392333984,-0.026682095602154732,25.11944007873535,23.009845733642578,24.7030086517334,24.30012321472168,47.38419723510742,10.055997848510742,39.91738510131836,4.299798011779785,-3.373422861099243,45.826820373535156,4.247952938079834,-33.126678466796875,8.200552940368652,9.110692977905273,-7.181466102600098,29.07927131652832,14.185098648071289,-36.68785858154297,14.222421646118164,6.518768787384033,-56.13152313232422,24.160905838012695,40.29601287841797,33.726707458496094,-63.13505172729492,13.423910140991211,-11.10723876953125,3.267401695251465,-7.052966594696045,13.613892555236816,-13.52741527557373,-4.686104774475098,7.989179611206055,38.67172622680664,-6.537520885467529,8.284100532531738,32.74734115600586,12.871003150939941,24.559816360473633,-3.659127712249756,-53.71110153198242,46.5453987121582,8.338509559631348,-44.89179611206055,9.895527839660645,8.360512733459473,-57.463294982910156,25.704940795898438,25.433799743652344,17.976696014404297,-17.423004150390625,16.0894718170166,29.96844482421875,26.201082229614258,34.232032775878906,-54.9696159362793,38.27136993408203,27.817251205444336,-37.38575744628906,7.601085186004639,5.228767395019531,2.05439829826355,22.686098098754883,-2.0399255752563477,28.043209075927734,8.11382007598877,-3.429415464401245,23.98797607421875,3.6539721488952637,1.5439192056655884,22.91202735900879,37.50431442260742,-12.796608924865723,22.440649032592773,22.074003219604492,29.300384521484375,-58.20055389404297,-7.471615314483643,16.684053421020508,43.44956970214844,31.760231018066406,42.578125,38.28791427612305,23.60420799255371,-3.283822774887085,1.8942919969558716,35.70829772949219,25.071409225463867,7.288716793060303,-58.59912109375,14.356913566589355,5.8328728675842285,21.501800537109375,38.789432525634766,43.07499313354492,24.898700714111328,-11.834578514099121,-8.826549530029297,1.5639886856079102,-36.46772766113281,21.65498924255371,7.363542079925537,-62.636985778808594,-63.10299301147461,45.718528747558594,31.966903686523438,-1.4871809482574463,-38.30707931518555,19.876848220825195,24.837804794311523,-61.87853240966797,18.561973571777344,-0.3873078525066376,49.591407775878906,24.70911979675293,-22.7530460357666,-60.882205963134766,-14.656124114990234,9.93716812133789,-55.79222106933594,25.149940490722656,-2.6416022777557373,-37.46129608154297,30.30049705505371,-7.801057815551758,-37.0078125,-34.080501556396484,-24.57290267944336,47.7555046081543,35.060691833496094,46.52059555053711,-14.86074447631836,7.198769569396973,19.70186424255371,11.994155883789062,-33.32476806640625,21.93450927734375,10.790194511413574,6.503337860107422,22.755891799926758,-62.29619216918945,28.89944839477539,29.699739456176758,2.1693360805511475,28.94502067565918,-4.4812116622924805,-48.99143600463867,-7.095359802246094,26.867176055908203,-6.64052152633667,3.173948287963867,-57.591766357421875,37.762840270996094,45.344810485839844,2.1789114475250244,-62.97255325317383,6.289255619049072,6.7281084060668945,28.433757781982422,-12.687342643737793,37.27727508544922,16.8551025390625,-49.633731842041016,13.040934562683105,17.055118560791016,-6.714930057525635,-60.73115921020508,23.11069107055664,4.154944896697998,-33.626312255859375,5.040210723876953,-37.375179290771484,13.265482902526855,28.798948287963867,13.253514289855957,14.183625221252441,-23.811664581298828,-5.7263970375061035,4.513330936431885,5.95928955078125,-0.798934280872345,-53.24355697631836,31.76336669921875,-43.47306442260742,39.11268615722656,5.9073357582092285,-33.8914680480957,18.193588256835938,16.470314025878906,30.663528442382812,-3.487060070037842,19.16952896118164,-2.254148006439209,29.042484283447266,-60.68952560424805,-4.811844348907471,17.057218551635742,28.12890625,-1.4158774614334106,13.058988571166992,25.29306411743164,-13.497844696044922,15.990537643432617,-56.79994583129883,4.9219584465026855,-39.75053024291992,27.495893478393555,-43.893428802490234,33.5981559753418,-33.762691497802734,14.107038497924805,26.766767501831055,-0.9913299679756165,1.2285068035125732,33.00284194946289,23.394506454467773,-3.113931655883789,-62.62675476074219,-0.1391182690858841,-11.925780296325684,-9.90221881866455,-56.04655456542969,28.756389617919922,18.73508644104004,19.322479248046875,-6.160059928894043,-24.109926223754883,24.05306625366211,27.228778839111328,12.896164894104004,-5.916448593139648,25.310604095458984,-52.96857833862305,16.93114471435547,-3.7714600563049316,-1.0262809991836548,-4.579390525817871,5.112206935882568,-34.706298828125,-56.34354019165039,-60.886634826660156,13.098339080810547,19.41303253173828,24.75499153137207,24.394479751586914,21.851587295532227,2.8579912185668945,-5.821868896484375,8.664679527282715,-7.715619087219238,-48.732418060302734,22.514297485351562,12.588624000549316,3.637742280960083,0.03169940784573555,-12.222168922424316,2.0113039016723633,16.84682273864746,5.992161750793457,22.24005889892578,22.863004684448242,4.77567195892334,7.088597297668457,38.87548828125,30.663326263427734,16.65174102783203,-34.57636642456055,-12.28384780883789,-4.793411731719971,14.793122291564941,26.437091827392578,23.328144073486328,17.34379768371582,1.2676235437393188,16.34514617919922,31.676227569580078,15.068958282470703,-16.84474754333496,4.864774703979492,15.29765510559082,-36.38360595703125,0.008733351714909077,-18.562084197998047,-8.381855010986328,32.89628601074219,16.333375930786133,-39.61008071899414,-5.659992218017578,-11.603890419006348,32.88226318359375,-8.576744079589844,-26.068660736083984,-61.56588363647461,15.628040313720703,-21.561357498168945,-9.72221565246582,-5.50545597076416,23.227371215820312,-61.57338333129883,16.54411506652832,-57.301780700683594,23.344797134399414,15.346168518066406,-6.105289459228516,0.7216761112213135,-23.444669723510742,29.437856674194336,-6.1337432861328125,12.993955612182617,-1.4122225046157837,19.57408332824707,14.277519226074219,34.08841323852539,11.677440643310547,-52.784481048583984,21.605792999267578,14.741209983825684,4.728102207183838,23.45090675354004,18.210311889648438,-35.406131744384766,10.137438774108887,5.099215030670166,-60.07238006591797,6.234027862548828,45.19601821899414,4.605228900909424,10.069375991821289,-5.061344623565674,-0.8132299780845642,-33.878116607666016,16.64754295349121,29.83970069885254,6.761200904846191,32.310203552246094,-12.403571128845215,-1.343863606452942,-34.82630157470703,23.199203491210938,46.20875930786133,-56.89076614379883,6.047368049621582,29.319705963134766,21.11995506286621,-16.8808536529541,33.884437561035156,29.99381446838379,-7.683816909790039,32.249603271484375,5.628960132598877,2.9218361377716064,-2.79836368560791,23.53423309326172,-14.724518775939941,-15.834508895874023,-5.91439151763916,3.5354042053222656,-37.47923278808594,-36.96403121948242,17.67892837524414,31.722116470336914,-33.90662384033203,7.5047383308410645,17.823169708251953,16.850170135498047,-32.86619186401367,15.94629192352295,35.11030960083008,32.13129425048828,22.895225524902344,11.139453887939453,-2.091496229171753,9.325273513793945,20.199865341186523,3.2922749519348145,-9.690717697143555,10.331854820251465,13.940303802490234,-8.312946319580078,4.9161272048950195,6.5613112449646,4.898791313171387,7.994363307952881,-41.65792465209961,-6.05909538269043,-1.852975845336914,-9.590176582336426,16.62969398498535,-3.467907428741455,-33.50920486450195,0.702114462852478,0.30160781741142273,-35.605003356933594,30.067947387695312,-1.3563523292541504,24.062583923339844,-2.5887410640716553,-5.709333419799805,-35.25138854980469,17.422260284423828,15.821403503417969,12.902799606323242,1.9348728656768799,-51.787960052490234,-2.775430202484131,1.3561805486679077,-7.736169338226318,-6.9091925621032715,4.730140209197998,23.361427307128906,-61.9726448059082,2.292590856552124,-36.937469482421875,-5.144317150115967,5.120214939117432,14.931586265563965,-22.311708450317383,-6.8091511726379395,-2.278491258621216,-13.306638717651367,-11.975883483886719,-8.50650691986084,-34.321014404296875,14.302356719970703,12.593122482299805,22.393753051757812,-13.982147216796875,-6.429378509521484,-32.971641540527344,1.9039548635482788,4.218222141265869,-4.576664447784424,-4.230586051940918,15.976303100585938,21.998701095581055,33.12744140625,-56.331661224365234,-13.46440315246582,6.362825870513916,-44.05196762084961,-41.31180191040039,0.7951398491859436,24.738094329833984,-0.6574004888534546,1.176016092300415,17.74884605407715,11.167015075683594,30.992395401000977,-9.449745178222656,22.941909790039062,-10.155384063720703,-61.1827507019043,4.76783561706543,-3.319359302520752,2.4992029666900635,22.50917625427246,16.442171096801758,31.99709701538086,32.02345657348633,-13.651515007019043,-6.548073768615723,30.96506690979004,-4.945359230041504,3.337014675140381,-23.48702049255371,7.158199310302734,-40.25307846069336,13.640862464904785,-3.7077231407165527,14.389421463012695,0.8395917415618896,7.479705333709717,15.742676734924316,13.098885536193848,-7.2681121826171875,-4.426669120788574,24.541213989257812,-8.168418884277344,-6.84373140335083,-9.64128589630127,-2.402982234954834,-5.651217460632324,32.96474838256836,-34.73905944824219,-18.469369888305664,-1.537654161453247,3.741442918777466,8.760552406311035,-1.0776562690734863,-16.206626892089844,12.755311965942383,1.062203049659729,14.246992111206055,-1.1392953395843506,-8.179580688476562,-10.713888168334961,15.153999328613281,13.446515083312988,20.94399642944336,4.799434185028076,1.4308533668518066,10.279223442077637,-12.521890640258789,-0.6240375638008118,0.03692878037691116,31.91986656188965,12.129451751708984,-0.7300532460212708,-4.51688814163208,0.32997366786003113,10.505270004272461,-48.8992919921875,-0.9064995050430298,20.897321701049805,8.311279296875,33.36867904663086,-51.57414245605469,14.685853004455566,-32.04471969604492,20.34270477294922,-12.872390747070312,-7.321477890014648,-32.093238830566406,30.77907943725586,-0.3569076359272003,-0.9910624027252197,-53.17646408081055,-36.76689529418945,-0.519781231880188,14.398197174072266,-6.872711658477783,22.572021484375,-40.80611801147461,11.981956481933594,-2.335005044937134,1.9414573907852173,-5.103635787963867,-16.685087203979492,16.65900230407715,32.24618148803711,33.25524139404297,30.310623168945312,-45.12134552001953,-1.8837471008300781,-14.970306396484375,-49.6355094909668,22.0211124420166,13.674935340881348,17.850826263427734,3.4910733699798584,-35.030487060546875,31.31801986694336,-35.26586151123047,33.06656265258789,-35.9823112487793,27.597835540771484,12.868847846984863,4.151117324829102,-57.71673583984375,26.115955352783203,-36.80593490600586,30.297780990600586,-4.598555564880371,18.534648895263672,-22.033935546875,33.258689880371094,-0.061859603971242905,-19.715524673461914,-31.4565372467041,-12.848228454589844,-15.000726699829102,-4.569447040557861,31.84405517578125,11.081932067871094,13.609908103942871,-20.7637996673584,3.5320820808410645,-16.35508155822754,-14.407422065734863,-10.852724075317383,-2.9281423091888428,4.150656223297119,4.220754623413086,22.38944435119629,-4.427277088165283,-32.295799255371094,15.622004508972168,-45.33201217651367,7.730876445770264,16.771427154541016,-2.6316022872924805,20.318998336791992,16.56053352355957,14.01198959350586,-44.57917785644531,-2.993412494659424,-9.26802921295166,31.49522590637207,-2.2852494716644287,-13.786665916442871,-4.477915287017822,-0.08372218161821365,-59.98311996459961,-13.413409233093262,-37.406005859375,-8.17626667022705,-0.14140684902668,-34.56051254272461,-1.0172176361083984,10.912474632263184,-0.13216683268547058,-33.0515251159668,23.80591583251953,-53.92807388305664,-36.24266052246094,-9.344611167907715,3.3558082580566406,5.714641571044922,13.60877513885498,-14.069299697875977,3.315574884414673,-31.406396865844727,-33.88836669921875,11.925549507141113,-6.310885906219482,4.0599684715271,-21.87470245361328,14.387676239013672,-11.224970817565918,-0.776132345199585,24.365966796875,-36.377220153808594,0.34264934062957764,1.8602757453918457,-10.193785667419434,20.175575256347656,-7.029562473297119,29.351757049560547,6.900174140930176,32.860816955566406,-17.173168182373047,14.993025779724121,8.748785972595215,1.1384409666061401,13.760149955749512,21.896162033081055,15.508342742919922,-7.477773666381836,-33.3366813659668,-42.52780532836914,5.181618690490723,25.124296188354492,12.008793830871582,10.186095237731934,4.769400596618652,4.004035472869873,-0.8676742911338806,-10.3756103515625,13.724624633789062,-15.526518821716309,-32.76622009277344,-4.475760459899902,-57.86416244506836,6.7967939376831055,18.23160171508789,13.235542297363281,24.72343635559082,20.04051971435547,-11.665599822998047,-59.38113021850586,-2.4199047088623047,-7.440413475036621,-2.3809773921966553,-23.057527542114258,-16.41462516784668,-11.073368072509766,8.95029354095459,2.4629595279693604,29.041889190673828,24.917613983154297,28.815162658691406,10.006624221801758,-21.925647735595703,-35.76559829711914,11.906697273254395,3.6692540645599365,-0.4837619662284851,-1.4739315509796143,9.78625774383545,20.5549373626709,-8.1122465133667,-16.68637466430664,-22.80160903930664,11.153797149658203,-2.2527873516082764,19.646770477294922,-34.50999069213867,-16.046213150024414,11.940996170043945,-58.199527740478516,-4.7711334228515625,-9.026647567749023,26.954763412475586,11.85984992980957,11.038763999938965,-10.60055160522461,-45.421592712402344,5.045513153076172,25.300031661987305,4.472027778625488,-32.08347702026367,-8.020635604858398,-11.693022727966309,-17.591808319091797,-6.076695919036865,-56.13604736328125,12.180447578430176,12.262351036071777,-33.85459899902344,7.014896392822266,-15.238024711608887,-2.4065990447998047,-31.00299072265625,11.760008811950684,4.103144645690918,-4.935276508331299,-8.744765281677246,-17.1389102935791,-6.325191974639893,-23.23783302307129,-46.710670471191406,-45.108184814453125,8.62511157989502,-6.473204135894775,27.30464744567871,-9.519455909729004,-32.601173400878906,20.88697624206543,25.523475646972656,12.632767677307129,13.14244556427002,-1.3950408697128296,13.067148208618164,4.734780788421631,-7.520226001739502,14.224958419799805,-23.217472076416016,-7.365975379943848,13.305088996887207,-18.887948989868164,28.558643341064453,-44.792293548583984,-5.880866050720215,27.48044776916504,26.259239196777344,-12.267165184020996,-20.118515014648438,-1.3749034404754639,-11.486387252807617,-2.2256381511688232,-11.358150482177734,-18.208438873291016,-59.11301803588867,-58.1658821105957,11.643637657165527,-17.4439640045166,-46.959442138671875,-16.935749053955078,10.5569486618042,15.952351570129395,4.545890808105469,32.161258697509766,-44.214168548583984,-0.46296048164367676,-22.52311134338379,-5.7148590087890625,-20.46671485900879,-12.285673141479492,-3.4941866397857666,11.191421508789062,-10.71858024597168,-7.879361629486084,-21.881439208984375,2.214528799057007,-52.11771774291992,-14.486069679260254,-0.7710410952568054,-3.6770594120025635,-14.376435279846191,3.458592176437378,26.5954647064209,-12.205124855041504,-11.030155181884766,12.222533226013184,-2.165008068084717,-42.13078308105469,12.20267391204834,-20.785188674926758,-2.177095890045166,-12.865599632263184,-3.2516002655029297,18.61142921447754,-31.601978302001953,-54.93645477294922,-7.65494441986084,-0.15560364723205566,-3.1076488494873047,19.39380645751953,11.649105072021484,-3.0297348499298096,-2.0401973724365234,3.9310896396636963,-32.07756042480469,-7.398195743560791,3.9716439247131348,-34.85990524291992,5.229956150054932,-17.013322830200195,-9.442205429077148,-20.560182571411133,-43.27891540527344,-4.114718437194824,-17.082984924316406,-4.441187858581543,-22.317180633544922,-7.127132892608643,16.554885864257812,-34.80296325683594,-3.951212167739868,20.410959243774414,-12.518763542175293,12.225722312927246,-32.94695281982422,5.917757511138916,-57.19731140136719,-14.294737815856934,28.869543075561523,-19.979021072387695,-2.789154052734375,-36.61703872680664,5.865626811981201,-3.52091121673584,15.957304954528809,2.2535085678100586,-12.654017448425293,0.8345404267311096,0.9832188487052917,-6.034468173980713,-19.118755340576172,-54.11787414550781,-44.18230056762695,-4.118460178375244,19.514312744140625,-43.39080047607422,-14.445133209228516,-33.5581169128418,13.615045547485352,8.752092361450195,-9.056065559387207,3.848768949508667,-44.463958740234375,-0.3487984836101532,-46.37627410888672,-32.301448822021484,3.5957229137420654,2.3966000080108643,-55.46296310424805,-5.80280876159668,29.100902557373047,-41.773860931396484,-20.28953742980957,18.84471321105957,-21.536571502685547,-13.162552833557129,-56.60836410522461,-47.1281623840332,19.565649032592773,-22.42815399169922,-22.866287231445312,-37.40909957885742,1.5271505117416382,-8.438739776611328,-49.934417724609375,-0.3568827509880066,-7.332537651062012,-16.376354217529297,-37.733367919921875,-16.717655181884766,-30.61318588256836,-1.6701005697250366,-17.36348533630371,25.807947158813477,-16.854951858520508,1.5934754610061646,-3.6881818771362305,-4.09222412109375,-4.680899620056152,-1.761592984199524,18.62128448486328,-36.41545486450195,-11.697967529296875,-2.246173858642578,-13.951125144958496,-56.903724670410156,-15.532925605773926,19.396684646606445,-36.27855682373047,-6.28297758102417,-1.1940832138061523,-22.081865310668945,3.6979591846466064,-17.53705406188965,-2.503277540206909,3.8863213062286377,4.3353271484375,-6.406959533691406,-17.23377799987793,0.06432265788316727,-12.692712783813477,-12.48390007019043,3.812049627304077,-37.69865417480469,-36.0673942565918,-19.257509231567383,-18.73818016052246,-44.000518798828125,2.041807174682617,1.9736157655715942,3.308492660522461,-1.8684396743774414,-55.03888702392578,-3.116558074951172,-22.342655181884766,10.71127700805664,-5.769765377044678,-13.65196704864502,-35.113643646240234,-29.135549545288086,-14.58377742767334,-12.505592346191406,-34.28728103637695,-3.4972755908966064,-41.94282150268555,-13.840084075927734,-10.361894607543945,0.17294423282146454,-15.151368141174316,-20.389806747436523,4.188075542449951,4.624581336975098,-54.89445495605469,-10.362310409545898,-42.797698974609375,-33.654205322265625,10.65137767791748,-36.85234832763672,-14.936820030212402,11.118526458740234,-45.796287536621094,-41.40409851074219,-36.52696990966797,-23.13947868347168,9.710787773132324,-34.49909210205078,-29.401268005371094,-53.337032318115234,5.907675743103027,-12.962163925170898,-11.227750778198242,-1.580466389656067,-0.574529230594635,-36.18376541137695,-47.69696807861328,-4.504033088684082,-3.8122494220733643,-45.92488098144531,-12.241939544677734,-18.134963989257812,-54.05853271484375,-5.076816558837891,-35.855079650878906,-15.258390426635742,0.4479956328868866,-13.022416114807129,-16.412607192993164,-43.590572357177734,0.31443145871162415,-12.0308198928833,-10.949230194091797,-46.1885986328125,-18.012083053588867,-5.434290885925293,-38.29994583129883,-55.012718200683594,-26.90723991394043,-16.772441864013672,-42.76914978027344,-18.52342987060547,-16.381221771240234,-4.050130844116211,-13.682417869567871,-43.96759796142578,2.3720593452453613,-35.114402770996094,-20.589643478393555,-22.880828857421875,5.552847385406494,-45.09385681152344,-18.87713050842285,-49.36207580566406,-38.454002380371094,-21.34780502319336,-15.4668550491333,-9.542844772338867,-17.7487735748291,-12.578266143798828,-14.961272239685059,1.6468461751937866,3.454827308654785,-2.543393611907959,-21.68328857421875,-56.472171783447266,-41.77288818359375,-10.999289512634277,-14.717942237854004,-11.428234100341797,0.09434107691049576,10.942249298095703,-35.324913024902344,-20.738290786743164,0.8805644512176514,-57.089847564697266,-16.136837005615234,-9.094114303588867,-13.464204788208008,-13.903965950012207,-0.3140102028846741,-19.285663604736328,-47.57787322998047,-3.6611056327819824,3.961718797683716,-18.204544067382812,-35.756473541259766,-18.86621856689453,-15.600436210632324,0.2523421049118042,-16.2225399017334,-9.332042694091797,-27.321666717529297,3.560316562652588,-0.5060625672340393,-1.304836392402649,-41.9968147277832,-1.0467283725738525,-35.50703048706055,-10.319865226745605,-6.1722564697265625,-11.551207542419434,-38.28586959838867,-34.673030853271484,-53.148319244384766,-10.959067344665527,-8.967086791992188,-0.37297406792640686,-5.513350009918213,-29.52959632873535,-15.037251472473145,3.8271474838256836,-34.96833801269531,-15.54748249053955,-16.05714988708496,3.7568681240081787,-13.41545581817627,3.9336609840393066,-43.46955108642578,-18.374298095703125,-19.614660263061523,-1.1583172082901,-13.148404121398926,-12.71460247039795,-42.630577087402344,4.7077155113220215,-20.214111328125,0.7281502485275269,-17.31075096130371,0.7953659892082214,-22.791227340698242,-8.488262176513672,-56.00695037841797,-21.66519546508789,-27.704130172729492,-21.29897117614746,2.875598430633545,-11.827983856201172,-10.106749534606934,3.3058104515075684,-14.732438087463379,-44.19445037841797,-17.918045043945312,4.012585639953613,3.031031608581543,-13.042043685913086,-25.528459548950195,-4.238349437713623,4.387457370758057,-45.411067962646484,0.5550613403320312,-13.418089866638184,-18.741106033325195,-4.170097827911377,-23.908628463745117,-13.8512601852417,-19.465787887573242,-16.761934280395508,-16.002410888671875,-36.27186584472656,-13.889191627502441,5.264698505401611,-17.637449264526367,1.672523021697998,-6.544175148010254,-3.5244028568267822,-43.2198600769043,-18.966548919677734,-28.80646514892578,-11.17268180847168,-40.04631805419922,-3.493852138519287,-17.016054153442383,-2.5408968925476074,-48.407230377197266,3.8912220001220703,-52.31209945678711,-44.31489181518555,-53.258453369140625,-36.52195358276367,-42.469120025634766,4.576028347015381,-36.745506286621094,-6.059873104095459,-15.70213794708252,-48.63615036010742,-17.625507354736328,-40.762176513671875,3.297603130340576,-14.647028923034668,-42.961814880371094,-28.862834930419922,-43.86982727050781,-24.332324981689453,-37.152347564697266,-44.10859680175781,-13.213203430175781,-44.33843994140625,-24.233121871948242,-20.2720947265625,-11.948699951171875,-48.331268310546875,-21.701705932617188,-18.478857040405273,-22.09710121154785,-52.95621871948242,-23.459388732910156,-19.9958553314209,-38.79443359375,-24.730802536010742,-26.7059383392334,-7.556397914886475,-22.483867645263672,-43.355857849121094,9.714941024780273,-17.9335994720459,-15.096980094909668,-53.35849380493164,-56.682716369628906,-0.6624918580055237,0.6910982131958008,-22.901447296142578,-17.117855072021484,-18.197797775268555,-36.79239273071289,-54.69270324707031,-15.698616981506348,-3.344135284423828,-3.824467182159424,0.11560195684432983,-56.62782669067383,-16.419517517089844,-15.568830490112305,-14.165913581848145,-37.81184005737305,3.0751962661743164,-14.328347206115723,-18.389619827270508,-1.86887788772583,-44.72516632080078,1.5956472158432007,-39.00189208984375,-43.645355224609375,-18.528003692626953,-16.852500915527344,-3.260072708129883,-40.724822998046875,-21.43604850769043,-55.93964385986328,-15.674211502075195,2.4143426418304443,-20.47913932800293,-18.30851936340332,0.5442817807197571,-7.1189093589782715,1.6524531841278076,-28.65237808227539,-21.569080352783203,2.392786979675293,1.9909472465515137,-22.295429229736328,-53.773834228515625,-20.217517852783203,-0.9307686686515808,-43.29771423339844,-24.67899513244629,-27.8775634765625,-51.65953063964844,-55.02687454223633,-16.3565731048584,-42.78498458862305,-43.56017303466797,1.2099300622940063,-43.25785827636719,-47.6744384765625,0.5789432525634766,-20.66268539428711,-56.0962028503418,-48.11430358886719,-40.05766677856445,-20.5045108795166,-15.596814155578613,-38.39688491821289,-27.614469528198242,-24.0132999420166,-14.12778091430664,-22.19656753540039,-37.46892166137695,-19.311878204345703,-22.109243392944336,-18.62296485900879,-16.50652503967285,-10.203697204589844,-17.366409301757812,-17.145503997802734,-37.48939514160156,-17.839271545410156,-23.548261642456055,-21.35212516784668,-3.849944591522217,1.5016865730285645,0.008573909290134907,-38.2574462890625,-43.33991622924805,-38.12247085571289,-51.239810943603516,-7.989590167999268,-55.78506088256836,-16.9078369140625,-56.441429138183594,-3.225745677947998,-2.6883392333984375,-16.03030776977539,-45.167999267578125,-25.438213348388672,-21.208887100219727,-23.39719581604004,-1.9234321117401123,-1.554618000984192,-42.33461380004883,-4.54446268081665,-20.925886154174805,-19.198137283325195,-49.252506256103516,-2.4815752506256104,-24.896615982055664,-0.25684696435928345,-17.890159606933594,-22.447649002075195,-19.91298484802246,-48.462703704833984,-18.624237060546875,-39.20899200439453,-28.488256454467773,-22.63226890563965,-4.471566200256348,1.7531867027282715,-13.146807670593262,-22.278587341308594,-44.194305419921875,-38.58275604248047,-20.72823715209961,-25.292179107666016,-22.531417846679688,-10.170966148376465,-21.546245574951172,-46.3168830871582,-42.909576416015625,0.06983383744955063,-8.311026573181152,-25.181535720825195,-17.312782287597656,-25.724729537963867,-22.19160270690918,-19.42823028564453,-21.6832275390625,-0.6832991242408752,-19.44820213317871,-0.3590320646762848,-42.83363342285156,-39.22520446777344,-52.38688278198242,-45.375152587890625,-19.82917594909668,-39.46400451660156,-10.586027145385742,-20.97772979736328,-20.20050048828125,-52.93733596801758,-22.111621856689453,-8.77746868133545,-39.45957565307617,-26.180797576904297,-18.919862747192383,-23.760984420776367,-20.836292266845703,-41.091461181640625,-39.55208206176758,-20.46129035949707,-25.828039169311523,-23.39297103881836,-26.887996673583984,-42.64889907836914,-18.835407257080078,-6.803349018096924,-46.055912017822266,-24.686410903930664,-48.441444396972656,-39.63677215576172,-23.014690399169922,-52.60479736328125,-22.65790557861328,-27.69532585144043,-21.664997100830078,-22.31452178955078,-18.31142234802246,-45.92231369018555,-21.941513061523438,-54.84698486328125,-44.316226959228516,-26.909778594970703,-39.52762222290039,-53.401893615722656,-39.597347259521484,-23.73431396484375,-45.22651672363281,-23.31167221069336,-3.337808132171631,-8.784767150878906,-17.94259262084961,-6.937693119049072,-47.12574005126953,-45.44282531738281,-26.769046783447266,-24.452590942382812,-54.91924285888672,-26.79283905029297,-9.129502296447754,-23.914894104003906,-20.839780807495117,-25.973407745361328,-48.481475830078125,-21.494943618774414,-16.31979751586914,-21.41653060913086,-27.608722686767578,-40.15556335449219,-29.420997619628906,-35.70638656616211,-24.11406898498535,-9.836483001708984,-35.5136604309082,-47.615238189697266,-6.378198623657227,-6.342756271362305,-48.55604553222656,-25.944978713989258,-24.34108543395996,-38.82177734375,-26.356651306152344,-26.605709075927734,-26.02391815185547,-22.887039184570312,-44.268131256103516,-26.088956832885742,-5.794695854187012,-24.050504684448242,-12.908529281616211,-7.801959037780762,-22.93924903869629,-43.8587646484375,-6.814189434051514,-25.114276885986328,-20.390737533569336,-11.30383586883545,-48.36620330810547,-22.50876235961914,-47.94024658203125,-53.24100875854492,-53.118473052978516,-22.078393936157227,-31.81595802307129,-24.97978401184082,-43.773258209228516,-39.19795227050781,-54.09199905395508,-51.416831970214844,-21.861709594726562,-22.049741744995117,-48.04244613647461,-24.648807525634766,-26.795610427856445,-47.356773376464844,-55.927879333496094,-29.47536277770996,-23.56090545654297,-29.621437072753906,-43.1246452331543,-31.552392959594727,-48.50586700439453,-26.30527687072754,-20.91101837158203,-41.916072845458984,-38.143741607666016,-26.857362747192383,-39.12802505493164,-47.431785583496094,-13.722403526306152,-19.3604679107666,-29.87098503112793,-26.4378662109375,-50.356388092041016,-42.06965637207031,-27.328067779541016,-51.87257385253906,-48.962528228759766,-55.71635818481445,-50.48986053466797,-42.11899948120117,-24.95517349243164,-30.451095581054688,-36.810302734375,-11.820737838745117,-43.28107833862305,-56.40922927856445,-27.05280113220215,-34.95619201660156,-44.71904373168945,-32.8753547668457,-47.42839050292969,-33.388755798339844,-48.75737762451172,-42.413124084472656,-30.963987350463867,-24.163352966308594,-49.60990524291992,-47.28093719482422,-13.26634693145752,-14.428773880004883,-49.34104537963867,-41.156654357910156,-54.2083740234375,-36.41731643676758,-51.35416793823242,-19.729581832885742,-26.503538131713867,-26.97385025024414,-20.97305679321289,-25.081920623779297,-27.234481811523438,-23.947324752807617,-34.50896453857422,-54.059120178222656,-24.899213790893555,-25.31231689453125,-24.236722946166992,-33.42335510253906,-22.86109161376953,-24.968830108642578,-34.72740936279297,-12.741180419921875,-40.7239875793457,-26.174081802368164,-28.20814323425293,-13.468433380126953,-20.979698181152344,-35.21353530883789,-14.90496826171875,-31.693567276000977,-31.971689224243164,-53.99921798706055,-19.863149642944336,-28.60047149658203,-50.84422302246094,-27.852886199951172,-41.93775939941406,-14.878596305847168,-46.3121337890625,-27.656450271606445,-23.321338653564453,-34.76988220214844,-27.57269859313965,-47.931129455566406,-30.194852828979492,-55.068382263183594,-27.34332275390625,-32.45436477661133,-28.610136032104492,-31.158050537109375,-36.577449798583984,-27.092483520507812,-35.4244499206543,-48.95783996582031,-27.47635269165039,-40.38058090209961,-54.098670959472656,-33.8536376953125,-25.0826358795166,-49.59944152832031,-26.492740631103516,-54.52455520629883,-32.53678512573242,-13.703448295593262,-53.71415328979492,-13.391782760620117,-32.6567268371582,-36.0062141418457,-23.685253143310547,-33.127891540527344,-27.891220092773438,-55.971160888671875,-29.642427444458008,-13.90540885925293,-33.97818374633789,-30.158273696899414,-27.136117935180664,-36.80933380126953,-25.813329696655273,-27.968700408935547,-27.55316162109375,-15.031311988830566,-26.135957717895508,-12.051264762878418,-29.33328628540039,-13.257845878601074,-27.35845184326172,-50.9310417175293,-27.04232406616211,-16.61255645751953,-21.401243209838867,-33.64802551269531,-55.792110443115234,-13.928837776184082,-13.040465354919434,-56.885536193847656,-40.80387878417969,-29.637569427490234,-27.932552337646484,-55.18595504760742,-54.28966522216797,-40.760643005371094,-53.262603759765625,-28.502168655395508,-28.04340362548828,-20.212167739868164,-49.064674377441406,-54.86857604980469,-52.876739501953125,-28.881877899169922,-59.22536849975586,-30.141014099121094,-19.065614700317383,-19.658321380615234,-57.18146896362305,-40.110145568847656,-37.98785400390625,-21.516956329345703,-27.705970764160156,-38.90060043334961,-41.441795349121094,-14.437456130981445,-28.22606658935547,-50.559913635253906,-49.88920593261719,-52.942989349365234,-33.61817932128906,-33.34140396118164,-28.129640579223633,-28.4769229888916,-56.580055236816406,-19.409929275512695,-33.18947219848633,-57.77920913696289,-31.06990623474121,-36.059913635253906,-49.176265716552734,-50.51760482788086,-40.925384521484375,-56.57966995239258,-22.588865280151367,-28.077085494995117,-14.587247848510742,-35.33656692504883,-55.37629318237305,-18.825143814086914,-34.590484619140625,-39.55525207519531,-36.515296936035156,-36.30025100708008,-57.432228088378906,-49.59244918823242,-50.776363372802734,-32.697166442871094,-31.693822860717773,-34.53315353393555,-50.199562072753906,-27.49238395690918,-37.977909088134766,-15.771002769470215,-34.805755615234375,-15.361083984375,-54.154685974121094,-12.31430721282959,-38.23147201538086,-37.24091720581055,-57.73585891723633,-13.205368041992188,-57.33144760131836,-55.684566497802734,-36.426673889160156,-21.891489028930664,-29.986068725585938,-34.486080169677734,-16.156845092773438,-29.86850357055664,-17.693073272705078,-56.223018646240234,-15.685356140136719,-15.314155578613281,-55.47794723510742,-17.690874099731445,-16.135318756103516,-18.08961296081543,-41.036739349365234,-36.81033706665039,-28.955493927001953,-57.066951751708984,-17.590646743774414,-56.19880676269531,-37.516326904296875,-22.127779006958008,-29.541345596313477,-35.891300201416016,-51.324832916259766,-52.03770446777344,-34.86917495727539,-16.851627349853516,-56.514766693115234,-36.35917663574219,-59.81277084350586,-29.397123336791992,-57.64942932128906,-33.63720703125,-33.053382873535156,-16.84771728515625,-31.273466110229492,-55.742305755615234,-16.38944435119629,-15.250335693359375,-16.09273910522461,-33.46767807006836,-57.05159378051758,-16.89935302734375,-57.38898468017578,-53.568973541259766,-59.55085372924805,-29.33955192565918,-19.545438766479492,-37.303810119628906,-32.150333404541016,-55.3057746887207,-19.58482551574707,-33.95890808105469,-33.533138275146484,-59.20193862915039,-36.654205322265625,-57.215187072753906,-31.518476486206055,-59.90391159057617,-18.222187042236328,-33.278221130371094,-58.84244918823242,-33.720054626464844,-30.39394760131836,-52.707332611083984,-58.13166427612305,-54.66214370727539,-59.91728210449219,-30.111412048339844,-59.190040588378906,-58.87828826904297,-36.151641845703125,-30.55234146118164,-30.12160873413086,-59.23561477661133,-58.76935577392578,-36.75773239135742,-33.03367614746094,-52.79072952270508,-58.70116424560547,-57.89982223510742,-54.1630859375,-54.033748626708984],\"yaxis\":\"y\",\"type\":\"scattergl\"}],                        {\"template\":{\"data\":{\"bar\":[{\"error_x\":{\"color\":\"#2a3f5f\"},\"error_y\":{\"color\":\"#2a3f5f\"},\"marker\":{\"line\":{\"color\":\"#E5ECF6\",\"width\":0.5},\"pattern\":{\"fillmode\":\"overlay\",\"size\":10,\"solidity\":0.2}},\"type\":\"bar\"}],\"barpolar\":[{\"marker\":{\"line\":{\"color\":\"#E5ECF6\",\"width\":0.5},\"pattern\":{\"fillmode\":\"overlay\",\"size\":10,\"solidity\":0.2}},\"type\":\"barpolar\"}],\"carpet\":[{\"aaxis\":{\"endlinecolor\":\"#2a3f5f\",\"gridcolor\":\"white\",\"linecolor\":\"white\",\"minorgridcolor\":\"white\",\"startlinecolor\":\"#2a3f5f\"},\"baxis\":{\"endlinecolor\":\"#2a3f5f\",\"gridcolor\":\"white\",\"linecolor\":\"white\",\"minorgridcolor\":\"white\",\"startlinecolor\":\"#2a3f5f\"},\"type\":\"carpet\"}],\"choropleth\":[{\"colorbar\":{\"outlinewidth\":0,\"ticks\":\"\"},\"type\":\"choropleth\"}],\"contour\":[{\"colorbar\":{\"outlinewidth\":0,\"ticks\":\"\"},\"colorscale\":[[0.0,\"#0d0887\"],[0.1111111111111111,\"#46039f\"],[0.2222222222222222,\"#7201a8\"],[0.3333333333333333,\"#9c179e\"],[0.4444444444444444,\"#bd3786\"],[0.5555555555555556,\"#d8576b\"],[0.6666666666666666,\"#ed7953\"],[0.7777777777777778,\"#fb9f3a\"],[0.8888888888888888,\"#fdca26\"],[1.0,\"#f0f921\"]],\"type\":\"contour\"}],\"contourcarpet\":[{\"colorbar\":{\"outlinewidth\":0,\"ticks\":\"\"},\"type\":\"contourcarpet\"}],\"heatmap\":[{\"colorbar\":{\"outlinewidth\":0,\"ticks\":\"\"},\"colorscale\":[[0.0,\"#0d0887\"],[0.1111111111111111,\"#46039f\"],[0.2222222222222222,\"#7201a8\"],[0.3333333333333333,\"#9c179e\"],[0.4444444444444444,\"#bd3786\"],[0.5555555555555556,\"#d8576b\"],[0.6666666666666666,\"#ed7953\"],[0.7777777777777778,\"#fb9f3a\"],[0.8888888888888888,\"#fdca26\"],[1.0,\"#f0f921\"]],\"type\":\"heatmap\"}],\"heatmapgl\":[{\"colorbar\":{\"outlinewidth\":0,\"ticks\":\"\"},\"colorscale\":[[0.0,\"#0d0887\"],[0.1111111111111111,\"#46039f\"],[0.2222222222222222,\"#7201a8\"],[0.3333333333333333,\"#9c179e\"],[0.4444444444444444,\"#bd3786\"],[0.5555555555555556,\"#d8576b\"],[0.6666666666666666,\"#ed7953\"],[0.7777777777777778,\"#fb9f3a\"],[0.8888888888888888,\"#fdca26\"],[1.0,\"#f0f921\"]],\"type\":\"heatmapgl\"}],\"histogram\":[{\"marker\":{\"pattern\":{\"fillmode\":\"overlay\",\"size\":10,\"solidity\":0.2}},\"type\":\"histogram\"}],\"histogram2d\":[{\"colorbar\":{\"outlinewidth\":0,\"ticks\":\"\"},\"colorscale\":[[0.0,\"#0d0887\"],[0.1111111111111111,\"#46039f\"],[0.2222222222222222,\"#7201a8\"],[0.3333333333333333,\"#9c179e\"],[0.4444444444444444,\"#bd3786\"],[0.5555555555555556,\"#d8576b\"],[0.6666666666666666,\"#ed7953\"],[0.7777777777777778,\"#fb9f3a\"],[0.8888888888888888,\"#fdca26\"],[1.0,\"#f0f921\"]],\"type\":\"histogram2d\"}],\"histogram2dcontour\":[{\"colorbar\":{\"outlinewidth\":0,\"ticks\":\"\"},\"colorscale\":[[0.0,\"#0d0887\"],[0.1111111111111111,\"#46039f\"],[0.2222222222222222,\"#7201a8\"],[0.3333333333333333,\"#9c179e\"],[0.4444444444444444,\"#bd3786\"],[0.5555555555555556,\"#d8576b\"],[0.6666666666666666,\"#ed7953\"],[0.7777777777777778,\"#fb9f3a\"],[0.8888888888888888,\"#fdca26\"],[1.0,\"#f0f921\"]],\"type\":\"histogram2dcontour\"}],\"mesh3d\":[{\"colorbar\":{\"outlinewidth\":0,\"ticks\":\"\"},\"type\":\"mesh3d\"}],\"parcoords\":[{\"line\":{\"colorbar\":{\"outlinewidth\":0,\"ticks\":\"\"}},\"type\":\"parcoords\"}],\"pie\":[{\"automargin\":true,\"type\":\"pie\"}],\"scatter\":[{\"marker\":{\"colorbar\":{\"outlinewidth\":0,\"ticks\":\"\"}},\"type\":\"scatter\"}],\"scatter3d\":[{\"line\":{\"colorbar\":{\"outlinewidth\":0,\"ticks\":\"\"}},\"marker\":{\"colorbar\":{\"outlinewidth\":0,\"ticks\":\"\"}},\"type\":\"scatter3d\"}],\"scattercarpet\":[{\"marker\":{\"colorbar\":{\"outlinewidth\":0,\"ticks\":\"\"}},\"type\":\"scattercarpet\"}],\"scattergeo\":[{\"marker\":{\"colorbar\":{\"outlinewidth\":0,\"ticks\":\"\"}},\"type\":\"scattergeo\"}],\"scattergl\":[{\"marker\":{\"colorbar\":{\"outlinewidth\":0,\"ticks\":\"\"}},\"type\":\"scattergl\"}],\"scattermapbox\":[{\"marker\":{\"colorbar\":{\"outlinewidth\":0,\"ticks\":\"\"}},\"type\":\"scattermapbox\"}],\"scatterpolar\":[{\"marker\":{\"colorbar\":{\"outlinewidth\":0,\"ticks\":\"\"}},\"type\":\"scatterpolar\"}],\"scatterpolargl\":[{\"marker\":{\"colorbar\":{\"outlinewidth\":0,\"ticks\":\"\"}},\"type\":\"scatterpolargl\"}],\"scatterternary\":[{\"marker\":{\"colorbar\":{\"outlinewidth\":0,\"ticks\":\"\"}},\"type\":\"scatterternary\"}],\"surface\":[{\"colorbar\":{\"outlinewidth\":0,\"ticks\":\"\"},\"colorscale\":[[0.0,\"#0d0887\"],[0.1111111111111111,\"#46039f\"],[0.2222222222222222,\"#7201a8\"],[0.3333333333333333,\"#9c179e\"],[0.4444444444444444,\"#bd3786\"],[0.5555555555555556,\"#d8576b\"],[0.6666666666666666,\"#ed7953\"],[0.7777777777777778,\"#fb9f3a\"],[0.8888888888888888,\"#fdca26\"],[1.0,\"#f0f921\"]],\"type\":\"surface\"}],\"table\":[{\"cells\":{\"fill\":{\"color\":\"#EBF0F8\"},\"line\":{\"color\":\"white\"}},\"header\":{\"fill\":{\"color\":\"#C8D4E3\"},\"line\":{\"color\":\"white\"}},\"type\":\"table\"}]},\"layout\":{\"annotationdefaults\":{\"arrowcolor\":\"#2a3f5f\",\"arrowhead\":0,\"arrowwidth\":1},\"autotypenumbers\":\"strict\",\"coloraxis\":{\"colorbar\":{\"outlinewidth\":0,\"ticks\":\"\"}},\"colorscale\":{\"diverging\":[[0,\"#8e0152\"],[0.1,\"#c51b7d\"],[0.2,\"#de77ae\"],[0.3,\"#f1b6da\"],[0.4,\"#fde0ef\"],[0.5,\"#f7f7f7\"],[0.6,\"#e6f5d0\"],[0.7,\"#b8e186\"],[0.8,\"#7fbc41\"],[0.9,\"#4d9221\"],[1,\"#276419\"]],\"sequential\":[[0.0,\"#0d0887\"],[0.1111111111111111,\"#46039f\"],[0.2222222222222222,\"#7201a8\"],[0.3333333333333333,\"#9c179e\"],[0.4444444444444444,\"#bd3786\"],[0.5555555555555556,\"#d8576b\"],[0.6666666666666666,\"#ed7953\"],[0.7777777777777778,\"#fb9f3a\"],[0.8888888888888888,\"#fdca26\"],[1.0,\"#f0f921\"]],\"sequentialminus\":[[0.0,\"#0d0887\"],[0.1111111111111111,\"#46039f\"],[0.2222222222222222,\"#7201a8\"],[0.3333333333333333,\"#9c179e\"],[0.4444444444444444,\"#bd3786\"],[0.5555555555555556,\"#d8576b\"],[0.6666666666666666,\"#ed7953\"],[0.7777777777777778,\"#fb9f3a\"],[0.8888888888888888,\"#fdca26\"],[1.0,\"#f0f921\"]]},\"colorway\":[\"#636efa\",\"#EF553B\",\"#00cc96\",\"#ab63fa\",\"#FFA15A\",\"#19d3f3\",\"#FF6692\",\"#B6E880\",\"#FF97FF\",\"#FECB52\"],\"font\":{\"color\":\"#2a3f5f\"},\"geo\":{\"bgcolor\":\"white\",\"lakecolor\":\"white\",\"landcolor\":\"#E5ECF6\",\"showlakes\":true,\"showland\":true,\"subunitcolor\":\"white\"},\"hoverlabel\":{\"align\":\"left\"},\"hovermode\":\"closest\",\"mapbox\":{\"style\":\"light\"},\"paper_bgcolor\":\"white\",\"plot_bgcolor\":\"#E5ECF6\",\"polar\":{\"angularaxis\":{\"gridcolor\":\"white\",\"linecolor\":\"white\",\"ticks\":\"\"},\"bgcolor\":\"#E5ECF6\",\"radialaxis\":{\"gridcolor\":\"white\",\"linecolor\":\"white\",\"ticks\":\"\"}},\"scene\":{\"xaxis\":{\"backgroundcolor\":\"#E5ECF6\",\"gridcolor\":\"white\",\"gridwidth\":2,\"linecolor\":\"white\",\"showbackground\":true,\"ticks\":\"\",\"zerolinecolor\":\"white\"},\"yaxis\":{\"backgroundcolor\":\"#E5ECF6\",\"gridcolor\":\"white\",\"gridwidth\":2,\"linecolor\":\"white\",\"showbackground\":true,\"ticks\":\"\",\"zerolinecolor\":\"white\"},\"zaxis\":{\"backgroundcolor\":\"#E5ECF6\",\"gridcolor\":\"white\",\"gridwidth\":2,\"linecolor\":\"white\",\"showbackground\":true,\"ticks\":\"\",\"zerolinecolor\":\"white\"}},\"shapedefaults\":{\"line\":{\"color\":\"#2a3f5f\"}},\"ternary\":{\"aaxis\":{\"gridcolor\":\"white\",\"linecolor\":\"white\",\"ticks\":\"\"},\"baxis\":{\"gridcolor\":\"white\",\"linecolor\":\"white\",\"ticks\":\"\"},\"bgcolor\":\"#E5ECF6\",\"caxis\":{\"gridcolor\":\"white\",\"linecolor\":\"white\",\"ticks\":\"\"}},\"title\":{\"x\":0.05},\"xaxis\":{\"automargin\":true,\"gridcolor\":\"white\",\"linecolor\":\"white\",\"ticks\":\"\",\"title\":{\"standoff\":15},\"zerolinecolor\":\"white\",\"zerolinewidth\":2},\"yaxis\":{\"automargin\":true,\"gridcolor\":\"white\",\"linecolor\":\"white\",\"ticks\":\"\",\"title\":{\"standoff\":15},\"zerolinecolor\":\"white\",\"zerolinewidth\":2}}},\"xaxis\":{\"anchor\":\"y\",\"domain\":[0.0,1.0],\"title\":{\"text\":\"x\"}},\"yaxis\":{\"anchor\":\"x\",\"domain\":[0.0,1.0],\"title\":{\"text\":\"y\"}},\"coloraxis\":{\"colorbar\":{\"title\":{\"text\":\"color\"}},\"colorscale\":[[0.0,\"#0d0887\"],[0.1111111111111111,\"#46039f\"],[0.2222222222222222,\"#7201a8\"],[0.3333333333333333,\"#9c179e\"],[0.4444444444444444,\"#bd3786\"],[0.5555555555555556,\"#d8576b\"],[0.6666666666666666,\"#ed7953\"],[0.7777777777777778,\"#fb9f3a\"],[0.8888888888888888,\"#fdca26\"],[1.0,\"#f0f921\"]]},\"legend\":{\"tracegroupgap\":0},\"margin\":{\"t\":60}},                        {\"responsive\": true}                    ).then(function(){\n",
              "                            \n",
              "var gd = document.getElementById('c6a8c14c-38b4-4f45-b287-953df78b698f');\n",
              "var x = new MutationObserver(function (mutations, observer) {{\n",
              "        var display = window.getComputedStyle(gd).display;\n",
              "        if (!display || display === 'none') {{\n",
              "            console.log([gd, 'removed!']);\n",
              "            Plotly.purge(gd);\n",
              "            observer.disconnect();\n",
              "        }}\n",
              "}});\n",
              "\n",
              "// Listen for the removal of the full notebook cells\n",
              "var notebookContainer = gd.closest('#notebook-container');\n",
              "if (notebookContainer) {{\n",
              "    x.observe(notebookContainer, {childList: true});\n",
              "}}\n",
              "\n",
              "// Listen for the clearing of the current output cell\n",
              "var outputEl = gd.closest('.output');\n",
              "if (outputEl) {{\n",
              "    x.observe(outputEl, {childList: true});\n",
              "}}\n",
              "\n",
              "                        })                };                            </script>        </div>\n",
              "</body>\n",
              "</html>"
            ]
          },
          "metadata": {}
        }
      ]
    },
    {
      "cell_type": "markdown",
      "metadata": {
        "id": "Rg4ZMq8ezAH6",
        "cell_id": "00054-62f72afd-24c1-45b9-b80c-8b252273717c",
        "deepnote_cell_type": "markdown"
      },
      "source": [
        "# Conclusión\n",
        "Eso ha sido todo para el lab de hoy, recuerden que el laboratorio tiene un plazo de entrega de una semana y que **los días de atraso no se pueden utilizar para entregas de lab** solo para tareas. Cualquier duda del laboratorio, no duden en contactarnos por mail o U-cursos.\n",
        "\n",
        "![Gracias Totales!](https://i.pinimg.com/originals/65/ae/27/65ae270df87c3c4adcea997e48f60852.gif \"bruno\")\n"
      ]
    },
    {
      "cell_type": "markdown",
      "metadata": {
        "id": "wCL1lACBzAH7",
        "cell_id": "00055-fea25dcb-f3c3-4a66-9ca6-5d64924d7396",
        "deepnote_cell_type": "markdown"
      },
      "source": [
        "<br>\n",
        "<center>\n",
        "<img src=\"https://i.kym-cdn.com/photos/images/original/001/194/195/b18.png\" width=100 height=50 />\n",
        "</center>\n",
        "<br>"
      ]
    },
    {
      "cell_type": "markdown",
      "metadata": {
        "tags": [],
        "created_in_deepnote_cell": true,
        "deepnote_cell_type": "markdown",
        "id": "jAaA6pSBJQ_l"
      },
      "source": [
        "<a style='text-decoration:none;line-height:16px;display:flex;color:#5B5B62;padding:10px;justify-content:end;' href='https://deepnote.com?utm_source=created-in-deepnote-cell&projectId=87110296-876e-426f-b91d-aaf681223468' target=\"_blank\">\n",
        "<img alt='Created in deepnote.com' style='display:inline;max-height:16px;margin:0px;margin-right:7.5px;' src='data:image/svg+xml;base64,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' > </img>\n",
        "Created in <span style='font-weight:600;margin-left:4px;'>Deepnote</span></a>"
      ]
    }
  ]
}

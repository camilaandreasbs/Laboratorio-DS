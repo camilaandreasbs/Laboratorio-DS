{
  "cells": [
    {
      "cell_type": "markdown",
      "metadata": {
        "id": "view-in-github",
        "colab_type": "text"
      },
      "source": [
        "<a href=\"https://colab.research.google.com/github/camilaandreasbs/Laboratorio-DS/blob/master/Laboratorio9.ipynb\" target=\"_parent\"><img src=\"https://colab.research.google.com/assets/colab-badge.svg\" alt=\"Open In Colab\"/></a>"
      ]
    },
    {
      "cell_type": "markdown",
      "metadata": {
        "cell_id": "00000-e58a33a7-5695-4e1a-8e41-ee4fad094973",
        "deepnote_cell_type": "markdown",
        "id": "XUZ1dFPHzAHl"
      },
      "source": [
        "<h1><center>Laboratorio 9: Benchmark Estadístico con Reddit 🧮</center></h1>\n",
        "\n",
        "<center><strong>MDS7202: Laboratorio de Programación Científica para Ciencia de Datos</strong></center>"
      ]
    },
    {
      "cell_type": "markdown",
      "metadata": {
        "cell_id": "00001-a6e1cf75-da72-4116-8013-b0aec5bc17ea",
        "deepnote_cell_type": "markdown",
        "id": "UD8X1uhGzAHq"
      },
      "source": [
        "### Cuerpo Docente:\n",
        "\n",
        "- Profesor: Pablo Badilla\n",
        "- Auxiliar: Ignacio Meza D.\n",
        "- Ayudante: Constanza Peña"
      ]
    },
    {
      "cell_type": "markdown",
      "metadata": {
        "cell_id": "00002-cc69b7e1-bad8-41c0-ae4a-f9a6671c3509",
        "deepnote_cell_type": "markdown",
        "id": "tXflExjqzAHr"
      },
      "source": [
        "### Equipo: SUPER IMPORTANTE - notebooks sin nombre no serán revisados\n",
        "\n",
        "- Nombre de alumno 1: Camila Bergasa\n",
        "- Nombre de alumno 2: Sebastián García\n"
      ]
    },
    {
      "cell_type": "markdown",
      "metadata": {
        "cell_id": "00003-fc7bdf37-e0ed-46b2-9ece-3f16c761f0d6",
        "deepnote_cell_type": "markdown",
        "id": "AD-V0bbZzAHr"
      },
      "source": [
        "### **Link de repositorio de GitHub:** `http://....`"
      ]
    },
    {
      "cell_type": "markdown",
      "metadata": {
        "cell_id": "00005-002cc95e-3cd9-4a83-ba9d-40b8a26bb665",
        "deepnote_cell_type": "markdown",
        "id": "6uBLPj1PzAHs"
      },
      "source": [
        "# Temas a tratar\n",
        "\n",
        "- Optimización de Código en Python.\n",
        "- Utilización de librerías para medir el tiempo de ejecución de funciones.\n",
        "- Métodos para optimizar el rendimiento de las funciones.\n",
        "\n",
        "# Reglas:\n",
        "\n",
        "- Fecha de entrega: 3/12/2021\n",
        "- **Grupos de 2 personas**\n",
        "- **Ausentes** deberán realizar la actividad solos. \n",
        "- Cualquier duda fuera del horario de clases al foro. Mensajes al equipo docente serán respondidos por este medio.\n",
        "- Prohibidas las copias. \n",
        "- Pueden usar cualquer matrial del curso que estimen conveniente.\n",
        "\n",
        "# Objetivos principales del laboratorio\n",
        "\n",
        "- Obtener datos desde Reddit a partir de la librería `praw` y visualizar cuales post son más probables que sean puntuados positivamente.\n",
        "- Aplicar un atajo estadístico para obtener la mean posterior de datos.\n",
        "- Optimizar a través de librerías funciones."
      ]
    },
    {
      "cell_type": "markdown",
      "metadata": {
        "cell_id": "00006-95054c9c-35b6-4246-8808-a9bc5019f321",
        "deepnote_cell_type": "markdown",
        "id": "MhISwri4zAHy"
      },
      "source": [
        "#Importamos librerias utiles 😸"
      ]
    },
    {
      "cell_type": "code",
      "execution_count": 1,
      "metadata": {
        "cell_id": "00007-26cb5765-42df-4c44-8039-62904faf80c9",
        "deepnote_cell_type": "code",
        "deepnote_to_be_reexecuted": false,
        "execution_millis": 11794,
        "execution_start": 1637947671330,
        "id": "cO7AQ9ciQ59U",
        "source_hash": "5f812e77"
      },
      "outputs": [],
      "source": [
        "%%capture\n",
        "!pip install praw\n",
        "!pip install line_profiler\n",
        "!pip install numba\n",
        "\n",
        "import sys\n",
        "import praw\n",
        "import time\n",
        "import numpy as np\n",
        "import pandas as pd\n",
        "from numba import jit\n",
        "import plotly.express as px\n",
        "import plotly.graph_objects as go\n",
        "from functools import lru_cache\n",
        "from IPython.core.display import Image"
      ]
    },
    {
      "cell_type": "markdown",
      "metadata": {
        "cell_id": "00008-42ae92fb-1318-4753-87ce-2a0d26da1b07",
        "deepnote_cell_type": "markdown",
        "id": "xpOTbQcxbSiy"
      },
      "source": [
        "# 1. Recomendando Posts de Subreddit"
      ]
    },
    {
      "cell_type": "markdown",
      "metadata": {
        "cell_id": "00009-6a4d7e77-29a6-4132-8b14-d0f9d5ea4f92",
        "deepnote_cell_type": "markdown",
        "id": "3Q93vbNS25bM"
      },
      "source": [
        "<p align=\"center\">\n",
        "  <img src=\"https://styles.redditmedia.com/t5_2rer8/styles/bannerBackgroundImage_xzrb6my122181.jpg\">\n",
        "</p>"
      ]
    },
    {
      "cell_type": "markdown",
      "metadata": {
        "cell_id": "00010-34fea2e6-4b5b-42a8-adc5-cc5ee77a6afe",
        "deepnote_cell_type": "markdown",
        "id": "jnmZfFpxTTYX"
      },
      "source": [
        "Unos intrépidos alumnos del curso, quienes frecuentemente participan en subreddits y foros de reviews, se preguntan lo siguiente: ¿Podremos confiar que un post es bueno, si este tiene solamente 1 o 3 votos positivos?. los compañeros, creen que esto claramente no representa una opinión general, ya que estamos mucho menos seguros acerca de la verdadera proporción de votos a favor de los comentarios con pocos datos. ¿Pero cómo podemos obtener una representación más creíble para este problema?.\n",
        "\n",
        "Lo señalado forma parte de un problema estadísticos, donde a través del cálculo de la posterior se puede conocer que tan probable es que un post sea bueno. Para efectos de este laboratorio, no se exige un conocimiento previo para resolver este problema, simplemente se deberá aplicar las ecuaciones presentadas más adelante (De igual forma si quedan interesados sobre el tema se les invita a tomar el ramo [CC6104](https://github.com/dccuchile/CC6104))."
      ]
    },
    {
      "cell_type": "markdown",
      "metadata": {
        "cell_id": "00011-d4a7a560-6425-4ccb-9d84-f59a9c36e3ac",
        "deepnote_cell_type": "markdown",
        "id": "xdbrb3AMi6EF"
      },
      "source": [
        "## 1.1 Obtención de Subrredits y Análisis [1 Punto]"
      ]
    },
    {
      "cell_type": "markdown",
      "metadata": {
        "cell_id": "00012-b7ddd335-dbd8-4db8-9533-07a0a75fa4e1",
        "deepnote_cell_type": "markdown",
        "id": "YI-IRspcjPee"
      },
      "source": [
        " Para estudiar que tan probable es que un post sea positivo se comenzará cargando datos reales del subreddit chile desde reddit (si usted desea puede cambiar el subreddit a uno de su gusto). Para esto le proponemos la utilización de la función que aparece mas abajo, la que presenta un usuario ya creado por el equipo docente. Dese un tiempo para entender que hace cada parte de la función, visualizando que se obtiene de estas.\n",
        "\n",
        "Revisada la función, utilice un **perfilador** para monitorear el tiempo y memoria que les toma a cada liena de código para ser ejecutada. Señale cuales son los procesos que mas tiempo consumen en la ejecución del Código, comentando si es posible mejorar el desempeño de la función.\n",
        "\n",
        "**TO-DO:**\n",
        "- [ ] Estudiar la función propuesta por el equipo docente.\n",
        "- [ ] Estudiar los tiempos de ejecución del código a través de un perfilador.\n",
        "- [ ] Estudiar la memoria ocupada por el código a través de un perfilador.\n",
        "- [ ] Comente los resultados. ¿Qué lineas ocupan más memoria o más/menos tiempo?¿Por qué?"
      ]
    },
    {
      "cell_type": "markdown",
      "metadata": {
        "id": "H4gRN4MQAl4-"
      },
      "source": [
        "### 1. Estudio de la Función"
      ]
    },
    {
      "cell_type": "raw",
      "metadata": {
        "id": "-QtFgpDmG3rx"
      },
      "source": [
        "Praw significa Python Reddit API Wrapper. En primer lugar, la función crea una instancia de la clase reddit con los datos proporcionados por el equipo docente. Luego obtiene una instancia del subreddit de Chile y define 3 diccionarios vacíos, que son votes, post y url. Seguidamente se agrupa en una lista los n_hot posts para el subreddit de chile, estos corresponden a los post más vistos, que no necesariamente corresponden a los más votados. Estos se agrupan en una lista generada por el comando subreddit.hot.\n",
        "Se itera hasta el límite tomando primero los 50 posts enlistados, luego 100, luego 150 y así... en cada paso va rellenando los diccionarios vacíos definidos anteriormente."
      ]
    },
    {
      "cell_type": "code",
      "execution_count": 2,
      "metadata": {
        "cell_id": "00013-93efc05f-d7c4-43ab-a5e7-25678ec45bf7",
        "deepnote_cell_type": "code",
        "deepnote_to_be_reexecuted": false,
        "execution_millis": 1,
        "execution_start": 1637947497504,
        "id": "R4PQbceVPJzh",
        "source_hash": "a55fad36"
      },
      "outputs": [],
      "source": [
        "# Se aplica una función que recibe el nombre del subreddit, en este caso Chile, y n_hot = 1000.\n",
        "# La clase Reddit proporciona un acceso conveniente a la API de Reddit. \n",
        "# Le entregamos los datos de un usuario creado por el equipo docente.\n",
        "# Las instancias de esta clase son la puerta de entrada para interactuar con la API de Reddit a través de la librería PRAW. \n",
        "# La forma canónica de obtener una instancia de esta clase es a través de entregarle la id de cliente, una contraseña, un nombre de agente y un nombre de usuario.\n",
        "def praw_reddit(nombre_subreddit=\"chile\", n_hot=1000):\n",
        "    reddit = praw.Reddit(\n",
        "        client_id=\"-w2hyFINxZ8T3g\",\n",
        "        client_secret=\"zGPCI4s3g6Ic6AsRi7vIpP0NoxbFdw\",\n",
        "        password=\"ClasesMDS7202\",\n",
        "        user_agent=\"Clases\",\n",
        "        username=\"DocenciaDataScience\",\n",
        "        check_for_async=False,\n",
        "    )\n",
        "    subreddit = reddit.subreddit(nombre_subreddit)\n",
        "\n",
        "# Define 3 diccionarios vacíos votes, post, url\n",
        "# Genera una lista de los post mas votados, limitados por el n_hot definido en la función\n",
        "# Se recorre la lista generada anteriormente, y se van a entregar los votos arriba, \n",
        "# los votos abajo, la url y el post, guardandolos en 4 listas vacías diferentes.\n",
        "\n",
        "    votes, post, url = {}, {}, {}\n",
        "    top_submissions = list(subreddit.hot(limit=n_hot))\n",
        "    for it, top_n in enumerate(range(50, len(top_submissions), 50)):\n",
        "        top_n_submissions = top_submissions[:top_n]\n",
        "        upvotes, downvotes, url[it], post[it] = [], [], [], []\n",
        "\n",
        "# Se recorre la lista generada en el for anterior,\n",
        "# Se genera un ratio generado por la librería para definir ups\n",
        "# Se va agregando a cada lista \n",
        "\n",
        "        for submission in top_n_submissions:\n",
        "            try:\n",
        "                ratio = submission.upvote_ratio\n",
        "                ups = int(\n",
        "                    round((ratio * submission.score) / (2 * ratio - 1))\n",
        "                    if ratio != 0.5\n",
        "                    else round(submission.score / 2)\n",
        "                )\n",
        "                # Va agregando los resultados a las listas upvotes (Agrega la calificacion ups como tal), downvotes (agrega la calificación menos el score de submission), post (agrega el título) y url (agrega la url)\n",
        "                upvotes.append(ups)\n",
        "                downvotes.append(ups - submission.score)\n",
        "                post[it].append(submission.title)\n",
        "                url[it].append(submission.url)\n",
        "            except Exception as e:\n",
        "                continue\n",
        "        #Finalmente genera un vector o un arreglo con las listas upvotes y downvotes, para finalmente retornar este arreglo junto con post y url\n",
        "        votes[it] = np.array([upvotes, downvotes]).T\n",
        "    return votes, post, url\n"
      ]
    },
    {
      "cell_type": "markdown",
      "metadata": {
        "id": "AvXCoepSAg48"
      },
      "source": [
        "#### 2. Tiempos de Ejecución"
      ]
    },
    {
      "cell_type": "code",
      "execution_count": 3,
      "metadata": {
        "colab": {
          "base_uri": "https://localhost:8080/"
        },
        "id": "Nz1NGNbw-AxE",
        "outputId": "78fe4e8e-0f25-42de-cb0e-ca1816e16b59"
      },
      "outputs": [
        {
          "output_type": "stream",
          "name": "stdout",
          "text": [
            "The slowest run took 42.24 times longer than the fastest. This could mean that an intermediate result is being cached.\n",
            "10000000 loops, best of 5: 38.2 ns per loop\n"
          ]
        }
      ],
      "source": [
        "# Se ocupa el módulo timeit para medir el tiempo de ejecución de la función praw_reddit\n",
        "# timeit ejecuta por defecto 10 millones de veces el código, repite 7 veces \n",
        "# el experimento y reporta el tiempo de ejecución promedio.\n",
        "%timeit praw_reddit"
      ]
    },
    {
      "cell_type": "code",
      "execution_count": 4,
      "metadata": {
        "cell_id": "00014-24e5a8eb-4a22-4588-9cc4-1d3d132ca121",
        "deepnote_cell_type": "code",
        "deepnote_to_be_reexecuted": false,
        "execution_millis": 11242,
        "execution_start": 1637947497523,
        "id": "v4rjrWf_pJHJ",
        "source_hash": "4b31fefe"
      },
      "outputs": [],
      "source": [
        "votes, post, url = praw_reddit()"
      ]
    },
    {
      "cell_type": "code",
      "execution_count": 5,
      "metadata": {
        "colab": {
          "base_uri": "https://localhost:8080/"
        },
        "id": "TvcdW024-U18",
        "outputId": "136b58cc-f533-412d-c449-f3611a5b403d"
      },
      "outputs": [
        {
          "output_type": "stream",
          "name": "stdout",
          "text": [
            "The slowest run took 33.13 times longer than the fastest. This could mean that an intermediate result is being cached.\n",
            "10000000 loops, best of 5: 38.5 ns per loop\n"
          ]
        }
      ],
      "source": [
        "# Tiempo que demora en ejecutarse 10 millones de veces.\n",
        "%timeit praw_reddit"
      ]
    },
    {
      "cell_type": "code",
      "execution_count": 6,
      "metadata": {
        "colab": {
          "base_uri": "https://localhost:8080/"
        },
        "id": "5z7nrTHRwmfK",
        "outputId": "04b8d7a2-c401-45e4-cfae-7e2aa963a4f9"
      },
      "outputs": [
        {
          "output_type": "stream",
          "name": "stdout",
          "text": [
            " "
          ]
        }
      ],
      "source": [
        "# Usamos el perfilador prun para obtener cuánto se demora la ejecución de cada \n",
        "# una de las operaciones que estamos ejecutando. Indica cuanto se demoró\n",
        "# cada una de las instrucciones que se ejecutaron en praw_reddit\n",
        "%prun praw_reddit"
      ]
    },
    {
      "cell_type": "code",
      "execution_count": 7,
      "metadata": {
        "colab": {
          "base_uri": "https://localhost:8080/"
        },
        "id": "WXjMFu8DCZVk",
        "outputId": "59f68c15-5e4a-4f38-c8e4-20c802f97553"
      },
      "outputs": [
        {
          "output_type": "stream",
          "name": "stdout",
          "text": [
            " "
          ]
        }
      ],
      "source": [
        "%prun votes, post, url = praw_reddit()"
      ]
    },
    {
      "cell_type": "markdown",
      "metadata": {
        "id": "Swrh5gRYDL4I"
      },
      "source": [
        "Se aprecia que la operación más pesada es filename:lineno(function) con  aproximadamente 11.164 segundos de ejecución"
      ]
    },
    {
      "cell_type": "code",
      "execution_count": 8,
      "metadata": {
        "id": "chMP_WvYDK-h"
      },
      "outputs": [],
      "source": [
        "# Usamos lineprofiler para perfilar por línea de código\n",
        "%load_ext line_profiler"
      ]
    },
    {
      "cell_type": "markdown",
      "source": [
        ""
      ],
      "metadata": {
        "id": "o9KkuEJ-ZOun"
      }
    },
    {
      "cell_type": "code",
      "execution_count": 11,
      "metadata": {
        "id": "QlEJWRqNEI9v"
      },
      "outputs": [],
      "source": [
        "%lprun -f praw_reddit praw_reddit(nombre_subreddit=\"chile\", n_hot=1000)"
      ]
    },
    {
      "cell_type": "markdown",
      "metadata": {
        "id": "8_z5rMElZGYR"
      },
      "source": [
        "3. Estudio de la Memoria ocupada por el código"
      ]
    },
    {
      "cell_type": "code",
      "execution_count": 12,
      "metadata": {
        "colab": {
          "base_uri": "https://localhost:8080/"
        },
        "id": "1PrI1XyxZNdA",
        "outputId": "7dea5d93-ba88-4f1d-858f-3e9d5e9edcfe"
      },
      "outputs": [
        {
          "output_type": "stream",
          "name": "stdout",
          "text": [
            "Collecting memory_profiler\n",
            "  Downloading memory_profiler-0.59.0.tar.gz (38 kB)\n",
            "Requirement already satisfied: psutil in /usr/local/lib/python3.7/dist-packages (from memory_profiler) (5.4.8)\n",
            "Building wheels for collected packages: memory-profiler\n",
            "  Building wheel for memory-profiler (setup.py) ... \u001b[?25l\u001b[?25hdone\n",
            "  Created wheel for memory-profiler: filename=memory_profiler-0.59.0-py3-none-any.whl size=31313 sha256=aaa821fbd5e20b50d55e375668ce9094a0174e31a1596b56a44718b001d43fad\n",
            "  Stored in directory: /root/.cache/pip/wheels/8d/6e/d2/af9dae73f8fef0c64c18b0a02a69fbd4c65b854912fa87a390\n",
            "Successfully built memory-profiler\n",
            "Installing collected packages: memory-profiler\n",
            "Successfully installed memory-profiler-0.59.0\n"
          ]
        }
      ],
      "source": [
        "!pip install memory_profiler"
      ]
    },
    {
      "cell_type": "code",
      "execution_count": 13,
      "metadata": {
        "id": "dSePW-WgZTNA"
      },
      "outputs": [],
      "source": [
        "%load_ext memory_profiler"
      ]
    },
    {
      "cell_type": "code",
      "execution_count": 14,
      "metadata": {
        "colab": {
          "base_uri": "https://localhost:8080/"
        },
        "id": "exJviKhIZV2v",
        "outputId": "fc8321da-0b3d-45aa-a81e-289e61cd0e50"
      },
      "outputs": [
        {
          "output_type": "stream",
          "name": "stdout",
          "text": [
            "peak memory: 242.21 MiB, increment: 0.02 MiB\n"
          ]
        }
      ],
      "source": [
        "%memit praw_reddit(nombre_subreddit=\"chile\", n_hot=1000)"
      ]
    },
    {
      "cell_type": "markdown",
      "metadata": {
        "id": "QV-fr7L7qTV4"
      },
      "source": [
        "3.1 Estudio de la memoria ocupada línea por línea"
      ]
    },
    {
      "cell_type": "code",
      "execution_count": 15,
      "metadata": {
        "colab": {
          "base_uri": "https://localhost:8080/"
        },
        "id": "e5tgLNkyabaQ",
        "outputId": "a7f1b402-c0b9-4b10-95fe-463454fdf561"
      },
      "outputs": [
        {
          "output_type": "stream",
          "name": "stdout",
          "text": [
            "Writing praw_module.py\n"
          ]
        }
      ],
      "source": [
        "%%file praw_module.py\n",
        "import praw\n",
        "from praw import Reddit\n",
        "import numpy as np\n",
        "\n",
        "def praw_reddit(nombre_subreddit=\"chile\", n_hot=1000):\n",
        "    reddit = praw.Reddit(\n",
        "        client_id=\"-w2hyFINxZ8T3g\",\n",
        "        client_secret=\"zGPCI4s3g6Ic6AsRi7vIpP0NoxbFdw\",\n",
        "        password=\"ClasesMDS7202\",\n",
        "        user_agent=\"Clases\",\n",
        "        username=\"DocenciaDataScience\",\n",
        "        check_for_async=False,\n",
        "    )\n",
        "    subreddit = reddit.subreddit(nombre_subreddit)\n",
        "\n",
        "    votes, post, url = {}, {}, {}\n",
        "    top_submissions = list(subreddit.hot(limit=n_hot))\n",
        "    for it, top_n in enumerate(range(50, len(top_submissions), 50)):\n",
        "        top_n_submissions = top_submissions[:top_n]\n",
        "        upvotes, downvotes, url[it], post[it] = [], [], [], []\n",
        "\n",
        "        for submission in top_n_submissions:\n",
        "            try:\n",
        "                ratio = submission.upvote_ratio\n",
        "                ups = int(\n",
        "                    round((ratio * submission.score) / (2 * ratio - 1))\n",
        "                    if ratio != 0.5\n",
        "                    else round(submission.score / 2)\n",
        "                )\n",
        "                upvotes.append(ups)\n",
        "                downvotes.append(ups - submission.score)\n",
        "                post[it].append(submission.title)\n",
        "                url[it].append(submission.url)\n",
        "            except Exception as e:\n",
        "                continue\n",
        "        votes[it] = np.array([upvotes, downvotes]).T\n",
        "    return votes, post, url\n",
        "\n"
      ]
    },
    {
      "cell_type": "code",
      "execution_count": 16,
      "metadata": {
        "colab": {
          "base_uri": "https://localhost:8080/"
        },
        "id": "eZPikcUEVoHB",
        "outputId": "b0c4afe4-7595-4b01-ab02-39fd811a79fa",
        "scrolled": true
      },
      "outputs": [
        {
          "output_type": "stream",
          "name": "stderr",
          "text": [
            "\n",
            "PYDEV DEBUGGER WARNING:\n",
            "sys.settrace() should not be used when the debugger is being used.\n",
            "This may cause the debugger to stop working correctly.\n",
            "If this is needed, please check: \n",
            "http://pydev.blogspot.com/2007/06/why-cant-pydev-debugger-work-with.html\n",
            "to see how to restore the debug tracing back correctly.\n",
            "Call Location:\n",
            "  File \"/usr/local/lib/python3.7/dist-packages/memory_profiler.py\", line 845, in enable\n",
            "    sys.settrace(self.trace_memory_usage)\n",
            "\n",
            "\n",
            "PYDEV DEBUGGER WARNING:\n",
            "sys.settrace() should not be used when the debugger is being used.\n",
            "This may cause the debugger to stop working correctly.\n",
            "If this is needed, please check: \n",
            "http://pydev.blogspot.com/2007/06/why-cant-pydev-debugger-work-with.html\n",
            "to see how to restore the debug tracing back correctly.\n",
            "Call Location:\n",
            "  File \"/usr/local/lib/python3.7/dist-packages/memory_profiler.py\", line 848, in disable\n",
            "    sys.settrace(self._original_trace_function)\n",
            "\n"
          ]
        },
        {
          "output_type": "stream",
          "name": "stdout",
          "text": [
            "\n"
          ]
        }
      ],
      "source": [
        "from praw_module import praw_reddit\n",
        "\n",
        "%mprun -f praw_reddit praw_reddit()"
      ]
    },
    {
      "cell_type": "markdown",
      "metadata": {
        "cell_id": "00016-51e64884-9168-46df-b5bb-96f7950e1a13",
        "deepnote_cell_type": "markdown",
        "id": "-diI_GpXmzqS"
      },
      "source": [
        "4.  ¿Qué lineas ocupan más memoria o más/menos tiempo?¿Por qué?\n",
        "**Respuesta:**\n",
        "\n",
        "Al usar lprun se perfila por línea de código y se obtiene que la línea que toma más tiempo de ejecución corresponde a la línea 24 (top_submissions = list(subreddit.hot(limit=n_hot))), esto se debe a que en ese momento define a los top submissions como una lista de los subbredits destacados cuyo límite n_hot es de 1000.\n",
        "\n",
        "Para el caso de la memoria , al ejecutarse la línea mágica %memit sobre la función praw_reddit, se obtiene lo siguiente: peak memory: 155.73 MiB, increment: 6.10 MiB. Lo cuál significa que ejecutar la función tomó 155.73 megas de memoria RAM en su peak existiendo un incremento de 6.10 MiB. Si se realiza el análisis línea por línea se aprecia que la cantidad de megas utilizados es de aproximadamente 151.7 MiB hasta que llega a la línea top_submissions = list(subreddit.hot(limit=n_hot)), en donde se da un incremento de 7.2 MiB, esto es importante ya que esa línea queda almacenada en la memoria y luego el uso de memoria es de 151.7 + 7.2 = 158.9 hasta el final de la función. \n",
        "\n",
        "Esta línea ocupa más tiempo y memoria debido a que como se mencionó anteriormente, crea la instancia de subreddit y enlista los posts más hot para generar los diccionarios y es probable que esto implique leer mucha información.\n"
      ]
    },
    {
      "cell_type": "markdown",
      "metadata": {
        "cell_id": "00018-c6945fe3-eec1-4bf6-82a1-35b7ded97982",
        "deepnote_cell_type": "markdown",
        "id": "tNDS2OpFnMnH"
      },
      "source": [
        "## 1.2 LRU y Análisis de Tiempo con Cache [1 Punto]"
      ]
    },
    {
      "cell_type": "markdown",
      "metadata": {
        "cell_id": "00019-98704da0-6417-4ed9-a753-5672d5a12f03",
        "deepnote_cell_type": "markdown",
        "id": "i3nsxCbAna4t"
      },
      "source": [
        "Respondan las siguientes preguntas:\n",
        "\n",
        "1.\t¿Qué es la memoria cache y a que se refiere las siglas LRU?\n",
        "2.\t¿Cuáles son los costos que tiene la aplicación de técnicas de Caching?\n",
        "3. ¿Cuál es la consecuencía de ocupar caching en la función anterior?.\n",
        "\n",
        "Respondidas las preguntas, se le solicita que aplique alguna técnica de caching para mejorar el desempeño de la función `praw_reddit`. Para esto compare solo el tiempo de ejecución del algoritmo con y sin caching, señalando el tiempo total de ejecución y el tiempo promedio que le toma ejecutar cada loop a la función. Con lo anterior, ¿es posible visualizar mejoras en este caso?.\n",
        "\n",
        "\n",
        "**TO-DO:**\n",
        "- [ ] Responder las preguntas.\n",
        "- [ ] Mejorar el código con cache.\n",
        "- [ ] Explicar las consecuencias de usar lru_cache sobre praw_reddit"
      ]
    },
    {
      "cell_type": "markdown",
      "metadata": {
        "cell_id": "00020-774c602b-0847-483f-9d94-d3db21772a60",
        "deepnote_cell_type": "markdown",
        "id": "fbQPpvYorOAF"
      },
      "source": [
        "**Respuestas Teóricas:**"
      ]
    },
    {
      "cell_type": "markdown",
      "metadata": {
        "cell_id": "00021-9d26f5d4-f9f1-4ce3-b47a-0955d7d5528e",
        "deepnote_cell_type": "markdown",
        "id": "RKfLXDs_rO-w"
      },
      "source": [
        "\n",
        "¿Qué es la memoria cache y a que se refiere las siglas LRU?\n",
        ">La memoria cache corresponde a un espacio de memoria en la cuál se almacenan elementos temporalmente y habitualmente para un único uso. Es una memoria que funciona de forma similar a la memoria principal de una computadora, pero es de menor tamaño y de acceso más rápido. Es una memoria rápida y eficiente usada para reducir el tiempo de acceso a datos ubicados en la memoria principal.\n",
        "Las siglas LRU significan Last Recently Used (Menos usado recientemente), lo cuál hace referencia a un tipo de algoritmo que realiza un descarte de los elementos menos usados recientemente. Los algoritmos de caché, son programas que optimizan la información en la memoria caché de un computador. Cuando se llena, el algoritmo elige a los elementos menos usados recientemente para liberar espacio y añadir nuevos elementos.\n",
        "\n",
        "¿Cuáles son los costos que tiene la aplicación de técnicas de Caching?\n",
        "> Los costos que tienen la aplicación de técnicas de Caching dicen relación con el hecho de que aumenta el consumo de memoria, si la memoria se encuentra localizada en el disco acceder puede ser lento y el rendimiento puede decaer, por lo que antes de aplicar estas técnicas es recomendable estudiar su factibilidad, considerando las políticas de almacenamiento y de acceso a los resultados y cómo se relacionan con el rendimiento del programa a implementar.\n",
        "\n",
        "¿Cuál es la consecuencía de ocupar caching en la función anterior?\n",
        "> La consecuencia de aplicar caching en la función anterior es que se ejecutará la función y se van a guardar los resultados de la función praw_reddit y no deberán ser calculados nuevamente ya que el cálculo de la operación puede ser muy costoso. En resumen, al memoizar praw_reddit() se llama en múltiples ocasiones a la función sin tener que incurrir en el costo de la línea subreddit.hot(limit=n_hot)."
      ]
    },
    {
      "cell_type": "code",
      "execution_count": 17,
      "metadata": {
        "cell_id": "00022-d937bbea-3ff8-4700-a0b4-24e49e2036cc",
        "deepnote_cell_type": "code",
        "id": "X0u4WU11rLJd"
      },
      "outputs": [],
      "source": [
        "###### Código Aquí ######\n",
        "# Mejora del código con caché\n",
        "from functools import lru_cache\n"
      ]
    },
    {
      "cell_type": "markdown",
      "metadata": {
        "id": "GaxLL5VLuc1R"
      },
      "source": [
        "Se mide el tiempo de ejecución antes, para n_hot = 1000 y se obtiene un tiempo de ejecución de 13.9 s per loop"
      ]
    },
    {
      "cell_type": "code",
      "execution_count": 18,
      "metadata": {
        "colab": {
          "base_uri": "https://localhost:8080/"
        },
        "id": "RrZ5mfqnqlNz",
        "outputId": "b5ff78a7-df85-4e3b-8a94-e8453183812d"
      },
      "outputs": [
        {
          "output_type": "stream",
          "name": "stdout",
          "text": [
            "1 loop, best of 5: 12.1 s per loop\n"
          ]
        }
      ],
      "source": [
        "%%timeit\n",
        "praw_reddit(nombre_subreddit=\"chile\", n_hot=1000)"
      ]
    },
    {
      "cell_type": "markdown",
      "metadata": {
        "id": "N66cb7gOuqLw"
      },
      "source": [
        "Se memoíza la función y se repite el experimento de la celda anterior"
      ]
    },
    {
      "cell_type": "code",
      "execution_count": 19,
      "metadata": {
        "id": "uk7eBhxLkzkV"
      },
      "outputs": [],
      "source": [
        "@lru_cache(maxsize = 1000)\n",
        "def praw_reddit(nombre_subreddit=\"chile\", n_hot=1000):\n",
        "    reddit = praw.Reddit(\n",
        "        client_id=\"-w2hyFINxZ8T3g\",\n",
        "        client_secret=\"zGPCI4s3g6Ic6AsRi7vIpP0NoxbFdw\",\n",
        "        password=\"ClasesMDS7202\",\n",
        "        user_agent=\"Clases\",\n",
        "        username=\"DocenciaDataScience\",\n",
        "        check_for_async=False,\n",
        "    )\n",
        "    subreddit = reddit.subreddit(nombre_subreddit)\n",
        "\n",
        "    votes, post, url = {}, {}, {}\n",
        "    top_submissions = list(subreddit.hot(limit=n_hot))\n",
        "    for it, top_n in enumerate(range(50, len(top_submissions), 50)):\n",
        "        top_n_submissions = top_submissions[:top_n]\n",
        "        upvotes, downvotes, url[it], post[it] = [], [], [], []\n",
        "        \n",
        "\n",
        "        for submission in top_n_submissions:\n",
        "            try:\n",
        "                ratio = submission.upvote_ratio\n",
        "                ups = int(\n",
        "                    round((ratio * submission.score) / (2 * ratio - 1))\n",
        "                    if ratio != 0.5\n",
        "                    else round(submission.score / 2)\n",
        "                )\n",
        "                upvotes.append(ups)\n",
        "                downvotes.append(ups - submission.score)\n",
        "                post[it].append(submission.title)\n",
        "                url[it].append(submission.url)\n",
        "            except Exception as e:\n",
        "                continue\n",
        "        votes[it] = np.array([upvotes, downvotes]).T\n",
        "    return votes, post, url\n"
      ]
    },
    {
      "cell_type": "code",
      "execution_count": 20,
      "metadata": {
        "colab": {
          "base_uri": "https://localhost:8080/"
        },
        "id": "LyjJ9HLmqvRf",
        "outputId": "febbde00-f318-4a1f-98b1-66da88019946"
      },
      "outputs": [
        {
          "output_type": "stream",
          "name": "stdout",
          "text": [
            "The slowest run took 31735323.86 times longer than the fastest. This could mean that an intermediate result is being cached.\n",
            "1 loop, best of 5: 403 ns per loop\n"
          ]
        }
      ],
      "source": [
        "%%timeit\n",
        "praw_reddit(nombre_subreddit=\"chile\", n_hot=1000)"
      ]
    },
    {
      "cell_type": "markdown",
      "metadata": {
        "id": "PWyt-b2cvB9c"
      },
      "source": [
        "Se comprueba la eficiencia del método, obteniendo un tiempo de ejecución de 371 ns per loop\n"
      ]
    },
    {
      "cell_type": "markdown",
      "metadata": {
        "id": "J3pvgW1xx2P4"
      },
      "source": [
        "**Respuesta de lru_cache sobre praw_reddit**"
      ]
    },
    {
      "cell_type": "markdown",
      "metadata": {
        "id": "_4RB5lAYx2P4"
      },
      "source": [
        "`Las consecuencias de utilizar LRU sobre la función praw_reddit es una disminución en su tiempo de ejecución, de 13.9 segundos a 371 nanosegundos. Por otro lado el tiempo de ejecución de la celda también se redujo. Al aplicar LRU sobre praw_reddit se guardaron los resultados para los argumentos seleccionados, por lo que estos ya no deben ser calculados nuevamente. Esto se traduce en una disminución del tiempo de ejecución.`"
      ]
    },
    {
      "cell_type": "markdown",
      "metadata": {
        "cell_id": "00023-a70d4c89-5b01-4f62-b470-742d59287c02",
        "deepnote_cell_type": "markdown",
        "id": "2pS26u-trdg6"
      },
      "source": [
        "## 1.3 Obtención de Mean Posterior y Standard Error [1 Punto]\n",
        "\n",
        "Una forma de obtener la mean posterior y el Standard Error de los datos de reddit es aplicando un atajo de inferencia estadística. Este atajo se define de la siguiente forma:\n",
        "\n",
        "Sea **u** los votos positivos y **d** los votos negativos del subreddit, tendremos que:\n",
        "\n",
        "$$a = 1+u$$\n",
        "\n",
        "$$b = 1+d$$\n",
        "\n",
        "$$\\sigma= 1.65\\sqrt(\\dfrac{ab}{(a + b)^2(a + b + 1)})$$\n",
        "\n",
        "$$\\mu = \\dfrac{a}{a+b}$$\n",
        "\n",
        "Donde $\\mu$ es la mean posterior y $\\sigma$ el standard error.\n",
        "\n",
        "Con lo anterior, genere dos funciones que tengan como salida $\\mu$ y $\\sigma$ de acuerdo a las ecuaciones señaladas. La primera función, deberá ser construida sin el uso de numpy, aplicando for y aplicando comandos nativos de Python. Por otro lado, deberá generar una segunda función con el uso exclusivo de numpy. **OJO** que las funciones deben tener como entrada solo un elemento del diccionario votes (por ejemplo `votes[1]`), por lo que estas no deben tener como entrada el conjunto completo de datos."
      ]
    },
    {
      "cell_type": "markdown",
      "metadata": {
        "id": "kp2lmFRjcbMs"
      },
      "source": [
        "Función sin uso de Numpy"
      ]
    },
    {
      "cell_type": "code",
      "source": [
        "votes, post, url = praw_reddit()"
      ],
      "metadata": {
        "id": "hejQAe8fIeyd"
      },
      "execution_count": 21,
      "outputs": []
    },
    {
      "cell_type": "code",
      "execution_count": 22,
      "metadata": {
        "id": "r4OmF7_fcaYV"
      },
      "outputs": [],
      "source": [
        "def intervals(votes):\n",
        "    sigma1 = []\n",
        "    mu1 = []\n",
        "    for d,u in votes:\n",
        "        a = 1 + u\n",
        "        b = 1 + d\n",
        "        mu = a/(a+b)\n",
        "        mu1.append(mu)\n",
        "        sigma = 1.65*((a*b/((a+b+1)*(a+b)**2))**(0.5))\n",
        "        sigma1.append(sigma)\n",
        "    return mu1, sigma1"
      ]
    },
    {
      "cell_type": "markdown",
      "metadata": {
        "id": "poodC7DzciV9"
      },
      "source": [
        "Función con uso de Numpy"
      ]
    },
    {
      "cell_type": "code",
      "execution_count": 35,
      "metadata": {
        "id": "IOyrP3m9cmrH"
      },
      "outputs": [],
      "source": [
        "def intervals_numpy(votes):\n",
        "    a = votes[0] + 1\n",
        "    b = votes[1] + 1\n",
        "    c = np.multiply(a,b)\n",
        "    d = ((a+b+1)*(a+b)**2)**(0.5)\n",
        "    sigma = 1.65*(np.sqrt(c/d))\n",
        "    mu = a/(a+b)\n",
        "    return mu, sigma"
      ]
    },
    {
      "cell_type": "markdown",
      "metadata": {
        "cell_id": "00025-276ba904-2ebf-4b01-8355-00f104cd0aba",
        "deepnote_cell_type": "markdown",
        "id": "VhHhiTRYwpGu"
      },
      "source": [
        "## 1.4 Comparación de Rendimiento [2 Puntos]\n",
        "\n",
        "Creadas las funciones de la sección 1.3, de forma iterativa compare los diferentes batches de datos que contiene el diccionario `votes`. Para esto genere un gráfico utilizando plotly, donde se pueda observar las diferencias de tiempo que toma ejecutar las diferentes cantidades de datos. ¿es posible observar una diferencia? ¿a qué se deberá esto?.\n",
        "\n",
        "Aplique el compilador **Numba** sobre las funciones 1.3 y compare el tiempo de ejecución con los obtenidos sin el compilador. "
      ]
    },
    {
      "cell_type": "markdown",
      "metadata": {
        "id": "lk_Na5aTx2P5"
      },
      "source": [
        "Ahora, grafiquen los tiempos tomados y comente los desempeños.\n",
        "\n",
        "**Nota:** Ejecuten las funciones compiladas con algún ejemplo antes de graficar. De lo contrario, les indicará el tiempo de compilación, cosa que no queremos medir"
      ]
    },
    {
      "cell_type": "code",
      "execution_count": 36,
      "metadata": {
        "cell_id": "00027-36165a18-3b75-41d7-9a27-121172c19a2f",
        "deepnote_cell_type": "code",
        "deepnote_output_heights": [
          527
        ],
        "id": "_iCONVWNn8Ti",
        "colab": {
          "base_uri": "https://localhost:8080/",
          "height": 542
        },
        "outputId": "3684b67b-2368-4faa-e696-f8f806d548cd"
      },
      "outputs": [
        {
          "output_type": "display_data",
          "data": {
            "text/html": [
              "<html>\n",
              "<head><meta charset=\"utf-8\" /></head>\n",
              "<body>\n",
              "    <div>\n",
              "            <script src=\"https://cdnjs.cloudflare.com/ajax/libs/mathjax/2.7.5/MathJax.js?config=TeX-AMS-MML_SVG\"></script><script type=\"text/javascript\">if (window.MathJax) {MathJax.Hub.Config({SVG: {font: \"STIX-Web\"}});}</script>\n",
              "                <script type=\"text/javascript\">window.PlotlyConfig = {MathJaxConfig: 'local'};</script>\n",
              "        <script src=\"https://cdn.plot.ly/plotly-latest.min.js\"></script>    \n",
              "            <div id=\"e08982d8-13f5-46a0-a61a-83bfb3f17142\" class=\"plotly-graph-div\" style=\"height:525px; width:100%;\"></div>\n",
              "            <script type=\"text/javascript\">\n",
              "                \n",
              "                    window.PLOTLYENV=window.PLOTLYENV || {};\n",
              "                    \n",
              "                if (document.getElementById(\"e08982d8-13f5-46a0-a61a-83bfb3f17142\")) {\n",
              "                    Plotly.newPlot(\n",
              "                        'e08982d8-13f5-46a0-a61a-83bfb3f17142',\n",
              "                        [{\"name\": \"Python\", \"type\": \"scatter\", \"x\": [50, 100, 150, 200, 250, 300, 350, 400, 450, 500, 550, 600, 650, 700, 750, 800, 850, 900, 950], \"y\": [0.0002044381230003296, 0.0003952797649999127, 0.0005795730110003206, 0.000763459750999786, 0.0009499036109996269, 0.0011379485489997308, 0.0013227603720002178, 0.001508065138999598, 0.001697597774999963, 0.0018793549250006975, 0.002066907249000536, 0.002249847867000142, 0.002433348793000107, 0.00262114681999968, 0.0028061613369997646, 0.0030002638390005673, 0.003191413720999904, 0.003376236587000818, 0.003558439806000308]}, {\"name\": \"Numpy\", \"type\": \"scatter\", \"x\": [50, 100, 150, 200, 250, 300, 350, 400, 450, 500, 550, 600, 650, 700, 750, 800, 850, 900, 950], \"y\": [3.8670334000158843e-05, 3.5876450000102977e-05, 3.374345899958087e-05, 3.524771700007534e-05, 4.144921600014584e-05, 3.796396799977231e-05, 3.818253000054028e-05, 4.0901754999836725e-05, 4.31406709998754e-05, 3.9742769000199016e-05, 4.571175099894731e-05, 5.048736800047493e-05, 4.360308600001872e-05, 4.437222999995072e-05, 4.7159753000087787e-05, 5.040325199982476e-05, 4.9927671999626e-05, 4.703319599984468e-05, 5.316576599997802e-05]}],\n",
              "                        {\"template\": {\"data\": {\"bar\": [{\"error_x\": {\"color\": \"#2a3f5f\"}, \"error_y\": {\"color\": \"#2a3f5f\"}, \"marker\": {\"line\": {\"color\": \"#E5ECF6\", \"width\": 0.5}}, \"type\": \"bar\"}], \"barpolar\": [{\"marker\": {\"line\": {\"color\": \"#E5ECF6\", \"width\": 0.5}}, \"type\": \"barpolar\"}], \"carpet\": [{\"aaxis\": {\"endlinecolor\": \"#2a3f5f\", \"gridcolor\": \"white\", \"linecolor\": \"white\", \"minorgridcolor\": \"white\", \"startlinecolor\": \"#2a3f5f\"}, \"baxis\": {\"endlinecolor\": \"#2a3f5f\", \"gridcolor\": \"white\", \"linecolor\": \"white\", \"minorgridcolor\": \"white\", \"startlinecolor\": \"#2a3f5f\"}, \"type\": \"carpet\"}], \"choropleth\": [{\"colorbar\": {\"outlinewidth\": 0, \"ticks\": \"\"}, \"type\": \"choropleth\"}], \"contour\": [{\"colorbar\": {\"outlinewidth\": 0, \"ticks\": \"\"}, \"colorscale\": [[0.0, \"#0d0887\"], [0.1111111111111111, \"#46039f\"], [0.2222222222222222, \"#7201a8\"], [0.3333333333333333, \"#9c179e\"], [0.4444444444444444, \"#bd3786\"], [0.5555555555555556, \"#d8576b\"], [0.6666666666666666, \"#ed7953\"], [0.7777777777777778, \"#fb9f3a\"], [0.8888888888888888, \"#fdca26\"], [1.0, \"#f0f921\"]], \"type\": \"contour\"}], \"contourcarpet\": [{\"colorbar\": {\"outlinewidth\": 0, \"ticks\": \"\"}, \"type\": \"contourcarpet\"}], \"heatmap\": [{\"colorbar\": {\"outlinewidth\": 0, \"ticks\": \"\"}, \"colorscale\": [[0.0, \"#0d0887\"], [0.1111111111111111, \"#46039f\"], [0.2222222222222222, \"#7201a8\"], [0.3333333333333333, \"#9c179e\"], [0.4444444444444444, \"#bd3786\"], [0.5555555555555556, \"#d8576b\"], [0.6666666666666666, \"#ed7953\"], [0.7777777777777778, \"#fb9f3a\"], [0.8888888888888888, \"#fdca26\"], [1.0, \"#f0f921\"]], \"type\": \"heatmap\"}], \"heatmapgl\": [{\"colorbar\": {\"outlinewidth\": 0, \"ticks\": \"\"}, \"colorscale\": [[0.0, \"#0d0887\"], [0.1111111111111111, \"#46039f\"], [0.2222222222222222, \"#7201a8\"], [0.3333333333333333, \"#9c179e\"], [0.4444444444444444, \"#bd3786\"], [0.5555555555555556, \"#d8576b\"], [0.6666666666666666, \"#ed7953\"], [0.7777777777777778, \"#fb9f3a\"], [0.8888888888888888, \"#fdca26\"], [1.0, \"#f0f921\"]], \"type\": \"heatmapgl\"}], \"histogram\": [{\"marker\": {\"colorbar\": {\"outlinewidth\": 0, \"ticks\": \"\"}}, \"type\": \"histogram\"}], \"histogram2d\": [{\"colorbar\": {\"outlinewidth\": 0, \"ticks\": \"\"}, \"colorscale\": [[0.0, \"#0d0887\"], [0.1111111111111111, \"#46039f\"], [0.2222222222222222, \"#7201a8\"], [0.3333333333333333, \"#9c179e\"], [0.4444444444444444, \"#bd3786\"], [0.5555555555555556, \"#d8576b\"], [0.6666666666666666, \"#ed7953\"], [0.7777777777777778, \"#fb9f3a\"], [0.8888888888888888, \"#fdca26\"], [1.0, \"#f0f921\"]], \"type\": \"histogram2d\"}], \"histogram2dcontour\": [{\"colorbar\": {\"outlinewidth\": 0, \"ticks\": \"\"}, \"colorscale\": [[0.0, \"#0d0887\"], [0.1111111111111111, \"#46039f\"], [0.2222222222222222, \"#7201a8\"], [0.3333333333333333, \"#9c179e\"], [0.4444444444444444, \"#bd3786\"], [0.5555555555555556, \"#d8576b\"], [0.6666666666666666, \"#ed7953\"], [0.7777777777777778, \"#fb9f3a\"], [0.8888888888888888, \"#fdca26\"], [1.0, \"#f0f921\"]], \"type\": \"histogram2dcontour\"}], \"mesh3d\": [{\"colorbar\": {\"outlinewidth\": 0, \"ticks\": \"\"}, \"type\": \"mesh3d\"}], \"parcoords\": [{\"line\": {\"colorbar\": {\"outlinewidth\": 0, \"ticks\": \"\"}}, \"type\": \"parcoords\"}], \"pie\": [{\"automargin\": true, \"type\": \"pie\"}], \"scatter\": [{\"marker\": {\"colorbar\": {\"outlinewidth\": 0, \"ticks\": \"\"}}, \"type\": \"scatter\"}], \"scatter3d\": [{\"line\": {\"colorbar\": {\"outlinewidth\": 0, \"ticks\": \"\"}}, \"marker\": {\"colorbar\": {\"outlinewidth\": 0, \"ticks\": \"\"}}, \"type\": \"scatter3d\"}], \"scattercarpet\": [{\"marker\": {\"colorbar\": {\"outlinewidth\": 0, \"ticks\": \"\"}}, \"type\": \"scattercarpet\"}], \"scattergeo\": [{\"marker\": {\"colorbar\": {\"outlinewidth\": 0, \"ticks\": \"\"}}, \"type\": \"scattergeo\"}], \"scattergl\": [{\"marker\": {\"colorbar\": {\"outlinewidth\": 0, \"ticks\": \"\"}}, \"type\": \"scattergl\"}], \"scattermapbox\": [{\"marker\": {\"colorbar\": {\"outlinewidth\": 0, \"ticks\": \"\"}}, \"type\": \"scattermapbox\"}], \"scatterpolar\": [{\"marker\": {\"colorbar\": {\"outlinewidth\": 0, \"ticks\": \"\"}}, \"type\": \"scatterpolar\"}], \"scatterpolargl\": [{\"marker\": {\"colorbar\": {\"outlinewidth\": 0, \"ticks\": \"\"}}, \"type\": \"scatterpolargl\"}], \"scatterternary\": [{\"marker\": {\"colorbar\": {\"outlinewidth\": 0, \"ticks\": \"\"}}, \"type\": \"scatterternary\"}], \"surface\": [{\"colorbar\": {\"outlinewidth\": 0, \"ticks\": \"\"}, \"colorscale\": [[0.0, \"#0d0887\"], [0.1111111111111111, \"#46039f\"], [0.2222222222222222, \"#7201a8\"], [0.3333333333333333, \"#9c179e\"], [0.4444444444444444, \"#bd3786\"], [0.5555555555555556, \"#d8576b\"], [0.6666666666666666, \"#ed7953\"], [0.7777777777777778, \"#fb9f3a\"], [0.8888888888888888, \"#fdca26\"], [1.0, \"#f0f921\"]], \"type\": \"surface\"}], \"table\": [{\"cells\": {\"fill\": {\"color\": \"#EBF0F8\"}, \"line\": {\"color\": \"white\"}}, \"header\": {\"fill\": {\"color\": \"#C8D4E3\"}, \"line\": {\"color\": \"white\"}}, \"type\": \"table\"}]}, \"layout\": {\"annotationdefaults\": {\"arrowcolor\": \"#2a3f5f\", \"arrowhead\": 0, \"arrowwidth\": 1}, \"coloraxis\": {\"colorbar\": {\"outlinewidth\": 0, \"ticks\": \"\"}}, \"colorscale\": {\"diverging\": [[0, \"#8e0152\"], [0.1, \"#c51b7d\"], [0.2, \"#de77ae\"], [0.3, \"#f1b6da\"], [0.4, \"#fde0ef\"], [0.5, \"#f7f7f7\"], [0.6, \"#e6f5d0\"], [0.7, \"#b8e186\"], [0.8, \"#7fbc41\"], [0.9, \"#4d9221\"], [1, \"#276419\"]], \"sequential\": [[0.0, \"#0d0887\"], [0.1111111111111111, \"#46039f\"], [0.2222222222222222, \"#7201a8\"], [0.3333333333333333, \"#9c179e\"], [0.4444444444444444, \"#bd3786\"], [0.5555555555555556, \"#d8576b\"], [0.6666666666666666, \"#ed7953\"], [0.7777777777777778, \"#fb9f3a\"], [0.8888888888888888, \"#fdca26\"], [1.0, \"#f0f921\"]], \"sequentialminus\": [[0.0, \"#0d0887\"], [0.1111111111111111, \"#46039f\"], [0.2222222222222222, \"#7201a8\"], [0.3333333333333333, \"#9c179e\"], [0.4444444444444444, \"#bd3786\"], [0.5555555555555556, \"#d8576b\"], [0.6666666666666666, \"#ed7953\"], [0.7777777777777778, \"#fb9f3a\"], [0.8888888888888888, \"#fdca26\"], [1.0, \"#f0f921\"]]}, \"colorway\": [\"#636efa\", \"#EF553B\", \"#00cc96\", \"#ab63fa\", \"#FFA15A\", \"#19d3f3\", \"#FF6692\", \"#B6E880\", \"#FF97FF\", \"#FECB52\"], \"font\": {\"color\": \"#2a3f5f\"}, \"geo\": {\"bgcolor\": \"white\", \"lakecolor\": \"white\", \"landcolor\": \"#E5ECF6\", \"showlakes\": true, \"showland\": true, \"subunitcolor\": \"white\"}, \"hoverlabel\": {\"align\": \"left\"}, \"hovermode\": \"closest\", \"mapbox\": {\"style\": \"light\"}, \"paper_bgcolor\": \"white\", \"plot_bgcolor\": \"#E5ECF6\", \"polar\": {\"angularaxis\": {\"gridcolor\": \"white\", \"linecolor\": \"white\", \"ticks\": \"\"}, \"bgcolor\": \"#E5ECF6\", \"radialaxis\": {\"gridcolor\": \"white\", \"linecolor\": \"white\", \"ticks\": \"\"}}, \"scene\": {\"xaxis\": {\"backgroundcolor\": \"#E5ECF6\", \"gridcolor\": \"white\", \"gridwidth\": 2, \"linecolor\": \"white\", \"showbackground\": true, \"ticks\": \"\", \"zerolinecolor\": \"white\"}, \"yaxis\": {\"backgroundcolor\": \"#E5ECF6\", \"gridcolor\": \"white\", \"gridwidth\": 2, \"linecolor\": \"white\", \"showbackground\": true, \"ticks\": \"\", \"zerolinecolor\": \"white\"}, \"zaxis\": {\"backgroundcolor\": \"#E5ECF6\", \"gridcolor\": \"white\", \"gridwidth\": 2, \"linecolor\": \"white\", \"showbackground\": true, \"ticks\": \"\", \"zerolinecolor\": \"white\"}}, \"shapedefaults\": {\"line\": {\"color\": \"#2a3f5f\"}}, \"ternary\": {\"aaxis\": {\"gridcolor\": \"white\", \"linecolor\": \"white\", \"ticks\": \"\"}, \"baxis\": {\"gridcolor\": \"white\", \"linecolor\": \"white\", \"ticks\": \"\"}, \"bgcolor\": \"#E5ECF6\", \"caxis\": {\"gridcolor\": \"white\", \"linecolor\": \"white\", \"ticks\": \"\"}}, \"title\": {\"x\": 0.05}, \"xaxis\": {\"automargin\": true, \"gridcolor\": \"white\", \"linecolor\": \"white\", \"ticks\": \"\", \"title\": {\"standoff\": 15}, \"zerolinecolor\": \"white\", \"zerolinewidth\": 2}, \"yaxis\": {\"automargin\": true, \"gridcolor\": \"white\", \"linecolor\": \"white\", \"ticks\": \"\", \"title\": {\"standoff\": 15}, \"zerolinecolor\": \"white\", \"zerolinewidth\": 2}}}},\n",
              "                        {\"responsive\": true}\n",
              "                    ).then(function(){\n",
              "                            \n",
              "var gd = document.getElementById('e08982d8-13f5-46a0-a61a-83bfb3f17142');\n",
              "var x = new MutationObserver(function (mutations, observer) {{\n",
              "        var display = window.getComputedStyle(gd).display;\n",
              "        if (!display || display === 'none') {{\n",
              "            console.log([gd, 'removed!']);\n",
              "            Plotly.purge(gd);\n",
              "            observer.disconnect();\n",
              "        }}\n",
              "}});\n",
              "\n",
              "// Listen for the removal of the full notebook cells\n",
              "var notebookContainer = gd.closest('#notebook-container');\n",
              "if (notebookContainer) {{\n",
              "    x.observe(notebookContainer, {childList: true});\n",
              "}}\n",
              "\n",
              "// Listen for the clearing of the current output cell\n",
              "var outputEl = gd.closest('.output');\n",
              "if (outputEl) {{\n",
              "    x.observe(outputEl, {childList: true});\n",
              "}}\n",
              "\n",
              "                        })\n",
              "                };\n",
              "                \n",
              "            </script>\n",
              "        </div>\n",
              "</body>\n",
              "</html>"
            ]
          },
          "metadata": {}
        }
      ],
      "source": [
        "###### Código Aquí ######\n",
        "# Generación de los batches de datos que contiene el diccionario votes\n",
        "def mu_time(python, numpy):\n",
        "    python_times = np.empty([1000,len(votes)])\n",
        "    np_times = np.empty([1000,len(votes)])\n",
        "    for i in range(1000):\n",
        "        for n in range(len(votes)):\n",
        "            t = time.process_time()\n",
        "            python(votes[n]);\n",
        "            python_times[i,n]=time.process_time()-t\n",
        "            t = time.process_time()\n",
        "            numpy(votes[n]);\n",
        "            np_times[i,n] = time.process_time()-t\n",
        "    return python_times, np_times\n",
        "\n",
        "python_times, np_times = mu_time(intervals, intervals_numpy)\n",
        "python_time = [np.mean(python_times[:,i]) for i in range(len(votes))]\n",
        "numpy_time = [np.mean(np_times[:,i]) for i in range(len(votes))]\n",
        "\n",
        "def comparative(python_time, numpy_time):\n",
        "    fig = go.Figure()\n",
        "    fig.add_trace(go.Scatter(\n",
        "                    x = [50 + i*50 for i in range(len(votes))],\n",
        "                    y = python_time,\n",
        "                    name='Python'))\n",
        "    fig.add_trace(go.Scatter(\n",
        "                    x = [50 + i*50 for i in range(len(votes))],\n",
        "                    y = numpy_time,\n",
        "                    name='Numpy'))\n",
        "\n",
        "    fig.show()\n",
        "    return\n",
        "comparative(python_time, numpy_time)"
      ]
    },
    {
      "cell_type": "markdown",
      "source": [
        "¿Es posible observar una diferencia? ¿a qué se deberá esto?.\n",
        " > Si es posible apreciar una diferencia, para el caso de Numpy los tiempos se mantienen constantes a medida que se incrementa la cantidad de elementos en el diccionario. Mientras que para el caso de la función creada con iteradores de Python, los tiempos aumentan a medida que se incrementa la cantidad de elementos en el diccionario. Esto puede deberse a que usando los iteradores de python se ejecutan fors respecto de la cantidad de posts y en numpy se realiza una cantidad constante de operaciones que son vectoriales y que no dependen del número de posts considerados."
      ],
      "metadata": {
        "id": "86QlYnC2d3G_"
      }
    },
    {
      "cell_type": "code",
      "source": [
        "# Aplicación de compilador NUMBA\n",
        "\n",
        "@jit(nopython = True)\n",
        "def jit_intervals(votes):\n",
        "    sigma1 = []\n",
        "    mu1 = []\n",
        "    for d,u in votes:\n",
        "        a = 1 + u\n",
        "        b = 1 + d\n",
        "        mu = a/(a+b)\n",
        "        mu1.append(mu)\n",
        "        sigma = 1.65*((a*b/((a+b+1)*(a+b)**2))**(0.5))\n",
        "        sigma1.append(sigma)\n",
        "    return mu1, sigma1\n",
        "\n",
        "\n",
        "@jit(nopython = True)\n",
        "def jit_intervals_numpy(votes):\n",
        "  a = votes[0] + 1\n",
        "  b = votes[1] + 1\n",
        "  c = a*b\n",
        "  d = ((a+b+1)*(a+b)**2)**(0.5)\n",
        "  sigma = 1.65*(np.sqrt(c/d))\n",
        "  mu = a/(a+b)\n",
        "  return mu, sigma\n"
      ],
      "metadata": {
        "id": "zwS_j2kyJnkV"
      },
      "execution_count": 31,
      "outputs": []
    },
    {
      "cell_type": "markdown",
      "source": [
        "Luego de aplicar el compilador, se grafican nuevamente los resultados. Se aprecia que si se ejecuta varias veces el gráfico se observan resultados direfentes (por eso los pusimos tres veces). En el primero, en ambos disminuye el tiempo de ejecución drásticamente y luego el de python aumenta de manera lineal igual que antes, pero con una pendiente mucho más suave mientras que para el codigo realizado con numpy se mantiene constante y muy cercano a cero. Sin embargo, al correr de nuevo el código, vuelve a adquirir un comportamiento similar al anterior."
      ],
      "metadata": {
        "id": "2P-BX8RahyZA"
      }
    },
    {
      "cell_type": "code",
      "source": [
        "python_times, np_times = mu_time(jit_intervals, jit_intervals_numpy)\n",
        "jit_python = [np.mean(python_times[:,i]) for i in range(len(votes))]\n",
        "jit_numpy = [np.mean(np_times[:,i]) for i in range(len(votes))]\n",
        "comparative(jit_python, jit_numpy)"
      ],
      "metadata": {
        "colab": {
          "base_uri": "https://localhost:8080/",
          "height": 542
        },
        "id": "l8pO2gEUO_WO",
        "outputId": "83912b2d-9da9-4769-8f16-666442389a5b"
      },
      "execution_count": 32,
      "outputs": [
        {
          "output_type": "display_data",
          "data": {
            "text/html": [
              "<html>\n",
              "<head><meta charset=\"utf-8\" /></head>\n",
              "<body>\n",
              "    <div>\n",
              "            <script src=\"https://cdnjs.cloudflare.com/ajax/libs/mathjax/2.7.5/MathJax.js?config=TeX-AMS-MML_SVG\"></script><script type=\"text/javascript\">if (window.MathJax) {MathJax.Hub.Config({SVG: {font: \"STIX-Web\"}});}</script>\n",
              "                <script type=\"text/javascript\">window.PlotlyConfig = {MathJaxConfig: 'local'};</script>\n",
              "        <script src=\"https://cdn.plot.ly/plotly-latest.min.js\"></script>    \n",
              "            <div id=\"52b4bbe8-95ba-47a0-9ce0-b9395c72004c\" class=\"plotly-graph-div\" style=\"height:525px; width:100%;\"></div>\n",
              "            <script type=\"text/javascript\">\n",
              "                \n",
              "                    window.PLOTLYENV=window.PLOTLYENV || {};\n",
              "                    \n",
              "                if (document.getElementById(\"52b4bbe8-95ba-47a0-9ce0-b9395c72004c\")) {\n",
              "                    Plotly.newPlot(\n",
              "                        '52b4bbe8-95ba-47a0-9ce0-b9395c72004c',\n",
              "                        [{\"name\": \"Python\", \"type\": \"scatter\", \"x\": [50, 100, 150, 200, 250, 300, 350, 400, 450, 500, 550, 600, 650, 700, 750, 800, 850, 900, 950], \"y\": [0.00025996267600008596, 1.2423932999894306e-05, 1.8568343000353593e-05, 2.4294931999961024e-05, 3.0260456999997132e-05, 3.6138088999521754e-05, 4.1485595000267494e-05, 4.736107500015407e-05, 5.373103900019771e-05, 5.9759898000052656e-05, 6.475094100022716e-05, 7.006335599986358e-05, 7.587415199996883e-05, 8.138700999984394e-05, 8.727728099989918e-05, 9.278351000010332e-05, 9.864181200016731e-05, 0.00010379464500020674, 0.00011142668700024672]}, {\"name\": \"Numpy\", \"type\": \"scatter\", \"x\": [50, 100, 150, 200, 250, 300, 350, 400, 450, 500, 550, 600, 650, 700, 750, 800, 850, 900, 950], \"y\": [0.0004947720989996185, 2.4995230001252367e-06, 2.5402900002546856e-06, 2.584188999961157e-06, 2.576223999909644e-06, 2.548500000017384e-06, 2.6115840000500157e-06, 2.6381090001734717e-06, 2.9862010003824935e-06, 2.7058949998917114e-06, 2.7271589999884328e-06, 2.612737000077914e-06, 2.6478300003276445e-06, 2.691737999853672e-06, 2.7712760001890046e-06, 2.733755999841492e-06, 2.745993999980101e-06, 2.750940000126434e-06, 2.756964000525386e-06]}],\n",
              "                        {\"template\": {\"data\": {\"bar\": [{\"error_x\": {\"color\": \"#2a3f5f\"}, \"error_y\": {\"color\": \"#2a3f5f\"}, \"marker\": {\"line\": {\"color\": \"#E5ECF6\", \"width\": 0.5}}, \"type\": \"bar\"}], \"barpolar\": [{\"marker\": {\"line\": {\"color\": \"#E5ECF6\", \"width\": 0.5}}, \"type\": \"barpolar\"}], \"carpet\": [{\"aaxis\": {\"endlinecolor\": \"#2a3f5f\", \"gridcolor\": \"white\", \"linecolor\": \"white\", \"minorgridcolor\": \"white\", \"startlinecolor\": \"#2a3f5f\"}, \"baxis\": {\"endlinecolor\": \"#2a3f5f\", \"gridcolor\": \"white\", \"linecolor\": \"white\", \"minorgridcolor\": \"white\", \"startlinecolor\": \"#2a3f5f\"}, \"type\": \"carpet\"}], \"choropleth\": [{\"colorbar\": {\"outlinewidth\": 0, \"ticks\": \"\"}, \"type\": \"choropleth\"}], \"contour\": [{\"colorbar\": {\"outlinewidth\": 0, \"ticks\": \"\"}, \"colorscale\": [[0.0, \"#0d0887\"], [0.1111111111111111, \"#46039f\"], [0.2222222222222222, \"#7201a8\"], [0.3333333333333333, \"#9c179e\"], [0.4444444444444444, \"#bd3786\"], [0.5555555555555556, \"#d8576b\"], [0.6666666666666666, \"#ed7953\"], [0.7777777777777778, \"#fb9f3a\"], [0.8888888888888888, \"#fdca26\"], [1.0, \"#f0f921\"]], \"type\": \"contour\"}], \"contourcarpet\": [{\"colorbar\": {\"outlinewidth\": 0, \"ticks\": \"\"}, \"type\": \"contourcarpet\"}], \"heatmap\": [{\"colorbar\": {\"outlinewidth\": 0, \"ticks\": \"\"}, \"colorscale\": [[0.0, \"#0d0887\"], [0.1111111111111111, \"#46039f\"], [0.2222222222222222, \"#7201a8\"], [0.3333333333333333, \"#9c179e\"], [0.4444444444444444, \"#bd3786\"], [0.5555555555555556, \"#d8576b\"], [0.6666666666666666, \"#ed7953\"], [0.7777777777777778, \"#fb9f3a\"], [0.8888888888888888, \"#fdca26\"], [1.0, \"#f0f921\"]], \"type\": \"heatmap\"}], \"heatmapgl\": [{\"colorbar\": {\"outlinewidth\": 0, \"ticks\": \"\"}, \"colorscale\": [[0.0, \"#0d0887\"], [0.1111111111111111, \"#46039f\"], [0.2222222222222222, \"#7201a8\"], [0.3333333333333333, \"#9c179e\"], [0.4444444444444444, \"#bd3786\"], [0.5555555555555556, \"#d8576b\"], [0.6666666666666666, \"#ed7953\"], [0.7777777777777778, \"#fb9f3a\"], [0.8888888888888888, \"#fdca26\"], [1.0, \"#f0f921\"]], \"type\": \"heatmapgl\"}], \"histogram\": [{\"marker\": {\"colorbar\": {\"outlinewidth\": 0, \"ticks\": \"\"}}, \"type\": \"histogram\"}], \"histogram2d\": [{\"colorbar\": {\"outlinewidth\": 0, \"ticks\": \"\"}, \"colorscale\": [[0.0, \"#0d0887\"], [0.1111111111111111, \"#46039f\"], [0.2222222222222222, \"#7201a8\"], [0.3333333333333333, \"#9c179e\"], [0.4444444444444444, \"#bd3786\"], [0.5555555555555556, \"#d8576b\"], [0.6666666666666666, \"#ed7953\"], [0.7777777777777778, \"#fb9f3a\"], [0.8888888888888888, \"#fdca26\"], [1.0, \"#f0f921\"]], \"type\": \"histogram2d\"}], \"histogram2dcontour\": [{\"colorbar\": {\"outlinewidth\": 0, \"ticks\": \"\"}, \"colorscale\": [[0.0, \"#0d0887\"], [0.1111111111111111, \"#46039f\"], [0.2222222222222222, \"#7201a8\"], [0.3333333333333333, \"#9c179e\"], [0.4444444444444444, \"#bd3786\"], [0.5555555555555556, \"#d8576b\"], [0.6666666666666666, \"#ed7953\"], [0.7777777777777778, \"#fb9f3a\"], [0.8888888888888888, \"#fdca26\"], [1.0, \"#f0f921\"]], \"type\": \"histogram2dcontour\"}], \"mesh3d\": [{\"colorbar\": {\"outlinewidth\": 0, \"ticks\": \"\"}, \"type\": \"mesh3d\"}], \"parcoords\": [{\"line\": {\"colorbar\": {\"outlinewidth\": 0, \"ticks\": \"\"}}, \"type\": \"parcoords\"}], \"pie\": [{\"automargin\": true, \"type\": \"pie\"}], \"scatter\": [{\"marker\": {\"colorbar\": {\"outlinewidth\": 0, \"ticks\": \"\"}}, \"type\": \"scatter\"}], \"scatter3d\": [{\"line\": {\"colorbar\": {\"outlinewidth\": 0, \"ticks\": \"\"}}, \"marker\": {\"colorbar\": {\"outlinewidth\": 0, \"ticks\": \"\"}}, \"type\": \"scatter3d\"}], \"scattercarpet\": [{\"marker\": {\"colorbar\": {\"outlinewidth\": 0, \"ticks\": \"\"}}, \"type\": \"scattercarpet\"}], \"scattergeo\": [{\"marker\": {\"colorbar\": {\"outlinewidth\": 0, \"ticks\": \"\"}}, \"type\": \"scattergeo\"}], \"scattergl\": [{\"marker\": {\"colorbar\": {\"outlinewidth\": 0, \"ticks\": \"\"}}, \"type\": \"scattergl\"}], \"scattermapbox\": [{\"marker\": {\"colorbar\": {\"outlinewidth\": 0, \"ticks\": \"\"}}, \"type\": \"scattermapbox\"}], \"scatterpolar\": [{\"marker\": {\"colorbar\": {\"outlinewidth\": 0, \"ticks\": \"\"}}, \"type\": \"scatterpolar\"}], \"scatterpolargl\": [{\"marker\": {\"colorbar\": {\"outlinewidth\": 0, \"ticks\": \"\"}}, \"type\": \"scatterpolargl\"}], \"scatterternary\": [{\"marker\": {\"colorbar\": {\"outlinewidth\": 0, \"ticks\": \"\"}}, \"type\": \"scatterternary\"}], \"surface\": [{\"colorbar\": {\"outlinewidth\": 0, \"ticks\": \"\"}, \"colorscale\": [[0.0, \"#0d0887\"], [0.1111111111111111, \"#46039f\"], [0.2222222222222222, \"#7201a8\"], [0.3333333333333333, \"#9c179e\"], [0.4444444444444444, \"#bd3786\"], [0.5555555555555556, \"#d8576b\"], [0.6666666666666666, \"#ed7953\"], [0.7777777777777778, \"#fb9f3a\"], [0.8888888888888888, \"#fdca26\"], [1.0, \"#f0f921\"]], \"type\": \"surface\"}], \"table\": [{\"cells\": {\"fill\": {\"color\": \"#EBF0F8\"}, \"line\": {\"color\": \"white\"}}, \"header\": {\"fill\": {\"color\": \"#C8D4E3\"}, \"line\": {\"color\": \"white\"}}, \"type\": \"table\"}]}, \"layout\": {\"annotationdefaults\": {\"arrowcolor\": \"#2a3f5f\", \"arrowhead\": 0, \"arrowwidth\": 1}, \"coloraxis\": {\"colorbar\": {\"outlinewidth\": 0, \"ticks\": \"\"}}, \"colorscale\": {\"diverging\": [[0, \"#8e0152\"], [0.1, \"#c51b7d\"], [0.2, \"#de77ae\"], [0.3, \"#f1b6da\"], [0.4, \"#fde0ef\"], [0.5, \"#f7f7f7\"], [0.6, \"#e6f5d0\"], [0.7, \"#b8e186\"], [0.8, \"#7fbc41\"], [0.9, \"#4d9221\"], [1, \"#276419\"]], \"sequential\": [[0.0, \"#0d0887\"], [0.1111111111111111, \"#46039f\"], [0.2222222222222222, \"#7201a8\"], [0.3333333333333333, \"#9c179e\"], [0.4444444444444444, \"#bd3786\"], [0.5555555555555556, \"#d8576b\"], [0.6666666666666666, \"#ed7953\"], [0.7777777777777778, \"#fb9f3a\"], [0.8888888888888888, \"#fdca26\"], [1.0, \"#f0f921\"]], \"sequentialminus\": [[0.0, \"#0d0887\"], [0.1111111111111111, \"#46039f\"], [0.2222222222222222, \"#7201a8\"], [0.3333333333333333, \"#9c179e\"], [0.4444444444444444, \"#bd3786\"], [0.5555555555555556, \"#d8576b\"], [0.6666666666666666, \"#ed7953\"], [0.7777777777777778, \"#fb9f3a\"], [0.8888888888888888, \"#fdca26\"], [1.0, \"#f0f921\"]]}, \"colorway\": [\"#636efa\", \"#EF553B\", \"#00cc96\", \"#ab63fa\", \"#FFA15A\", \"#19d3f3\", \"#FF6692\", \"#B6E880\", \"#FF97FF\", \"#FECB52\"], \"font\": {\"color\": \"#2a3f5f\"}, \"geo\": {\"bgcolor\": \"white\", \"lakecolor\": \"white\", \"landcolor\": \"#E5ECF6\", \"showlakes\": true, \"showland\": true, \"subunitcolor\": \"white\"}, \"hoverlabel\": {\"align\": \"left\"}, \"hovermode\": \"closest\", \"mapbox\": {\"style\": \"light\"}, \"paper_bgcolor\": \"white\", \"plot_bgcolor\": \"#E5ECF6\", \"polar\": {\"angularaxis\": {\"gridcolor\": \"white\", \"linecolor\": \"white\", \"ticks\": \"\"}, \"bgcolor\": \"#E5ECF6\", \"radialaxis\": {\"gridcolor\": \"white\", \"linecolor\": \"white\", \"ticks\": \"\"}}, \"scene\": {\"xaxis\": {\"backgroundcolor\": \"#E5ECF6\", \"gridcolor\": \"white\", \"gridwidth\": 2, \"linecolor\": \"white\", \"showbackground\": true, \"ticks\": \"\", \"zerolinecolor\": \"white\"}, \"yaxis\": {\"backgroundcolor\": \"#E5ECF6\", \"gridcolor\": \"white\", \"gridwidth\": 2, \"linecolor\": \"white\", \"showbackground\": true, \"ticks\": \"\", \"zerolinecolor\": \"white\"}, \"zaxis\": {\"backgroundcolor\": \"#E5ECF6\", \"gridcolor\": \"white\", \"gridwidth\": 2, \"linecolor\": \"white\", \"showbackground\": true, \"ticks\": \"\", \"zerolinecolor\": \"white\"}}, \"shapedefaults\": {\"line\": {\"color\": \"#2a3f5f\"}}, \"ternary\": {\"aaxis\": {\"gridcolor\": \"white\", \"linecolor\": \"white\", \"ticks\": \"\"}, \"baxis\": {\"gridcolor\": \"white\", \"linecolor\": \"white\", \"ticks\": \"\"}, \"bgcolor\": \"#E5ECF6\", \"caxis\": {\"gridcolor\": \"white\", \"linecolor\": \"white\", \"ticks\": \"\"}}, \"title\": {\"x\": 0.05}, \"xaxis\": {\"automargin\": true, \"gridcolor\": \"white\", \"linecolor\": \"white\", \"ticks\": \"\", \"title\": {\"standoff\": 15}, \"zerolinecolor\": \"white\", \"zerolinewidth\": 2}, \"yaxis\": {\"automargin\": true, \"gridcolor\": \"white\", \"linecolor\": \"white\", \"ticks\": \"\", \"title\": {\"standoff\": 15}, \"zerolinecolor\": \"white\", \"zerolinewidth\": 2}}}},\n",
              "                        {\"responsive\": true}\n",
              "                    ).then(function(){\n",
              "                            \n",
              "var gd = document.getElementById('52b4bbe8-95ba-47a0-9ce0-b9395c72004c');\n",
              "var x = new MutationObserver(function (mutations, observer) {{\n",
              "        var display = window.getComputedStyle(gd).display;\n",
              "        if (!display || display === 'none') {{\n",
              "            console.log([gd, 'removed!']);\n",
              "            Plotly.purge(gd);\n",
              "            observer.disconnect();\n",
              "        }}\n",
              "}});\n",
              "\n",
              "// Listen for the removal of the full notebook cells\n",
              "var notebookContainer = gd.closest('#notebook-container');\n",
              "if (notebookContainer) {{\n",
              "    x.observe(notebookContainer, {childList: true});\n",
              "}}\n",
              "\n",
              "// Listen for the clearing of the current output cell\n",
              "var outputEl = gd.closest('.output');\n",
              "if (outputEl) {{\n",
              "    x.observe(outputEl, {childList: true});\n",
              "}}\n",
              "\n",
              "                        })\n",
              "                };\n",
              "                \n",
              "            </script>\n",
              "        </div>\n",
              "</body>\n",
              "</html>"
            ]
          },
          "metadata": {}
        }
      ]
    },
    {
      "cell_type": "code",
      "source": [
        "python_times, np_times = mu_time(jit_intervals, jit_intervals_numpy)\n",
        "jit_python = [np.mean(python_times[:,i]) for i in range(len(votes))]\n",
        "jit_numpy = [np.mean(np_times[:,i]) for i in range(len(votes))]\n",
        "comparative(jit_python, jit_numpy)"
      ],
      "metadata": {
        "colab": {
          "base_uri": "https://localhost:8080/",
          "height": 542
        },
        "id": "sKJpRPI-uUQN",
        "outputId": "5ee28fd0-9d88-43b1-f83d-1761e138ad28"
      },
      "execution_count": 33,
      "outputs": [
        {
          "output_type": "display_data",
          "data": {
            "text/html": [
              "<html>\n",
              "<head><meta charset=\"utf-8\" /></head>\n",
              "<body>\n",
              "    <div>\n",
              "            <script src=\"https://cdnjs.cloudflare.com/ajax/libs/mathjax/2.7.5/MathJax.js?config=TeX-AMS-MML_SVG\"></script><script type=\"text/javascript\">if (window.MathJax) {MathJax.Hub.Config({SVG: {font: \"STIX-Web\"}});}</script>\n",
              "                <script type=\"text/javascript\">window.PlotlyConfig = {MathJaxConfig: 'local'};</script>\n",
              "        <script src=\"https://cdn.plot.ly/plotly-latest.min.js\"></script>    \n",
              "            <div id=\"ea0ec087-9a1d-4472-9a7c-333332a2f00b\" class=\"plotly-graph-div\" style=\"height:525px; width:100%;\"></div>\n",
              "            <script type=\"text/javascript\">\n",
              "                \n",
              "                    window.PLOTLYENV=window.PLOTLYENV || {};\n",
              "                    \n",
              "                if (document.getElementById(\"ea0ec087-9a1d-4472-9a7c-333332a2f00b\")) {\n",
              "                    Plotly.newPlot(\n",
              "                        'ea0ec087-9a1d-4472-9a7c-333332a2f00b',\n",
              "                        [{\"name\": \"Python\", \"type\": \"scatter\", \"x\": [50, 100, 150, 200, 250, 300, 350, 400, 450, 500, 550, 600, 650, 700, 750, 800, 850, 900, 950], \"y\": [6.9812389999839294e-06, 1.2496346000219205e-05, 1.849940800019567e-05, 2.4878470999723847e-05, 3.0766487000221335e-05, 3.6281133999750634e-05, 4.245330900010913e-05, 4.770831299987322e-05, 5.3599484000287134e-05, 5.950135899998088e-05, 6.513514000015164e-05, 7.099446000026433e-05, 7.65565349998667e-05, 8.317815099987058e-05, 8.746041300000229e-05, 9.366167000007408e-05, 0.00010094134999972938, 0.0001056776659996217, 0.00011026863199982984]}, {\"name\": \"Numpy\", \"type\": \"scatter\", \"x\": [50, 100, 150, 200, 250, 300, 350, 400, 450, 500, 550, 600, 650, 700, 750, 800, 850, 900, 950], \"y\": [2.4964270004375065e-06, 2.4356399998595178e-06, 2.446483000369426e-06, 2.5390240002991504e-06, 2.66943100008632e-06, 2.6113440000159473e-06, 2.593282999882263e-06, 2.5547859998482635e-06, 2.6420660000070486e-06, 2.626958000206514e-06, 2.5807909998434297e-06, 2.66084599985561e-06, 2.7911770000059733e-06, 2.729857000090874e-06, 2.703621999970096e-06, 2.7459660000630493e-06, 2.928785000051448e-06, 2.8359840001002112e-06, 2.7406390000379586e-06]}],\n",
              "                        {\"template\": {\"data\": {\"bar\": [{\"error_x\": {\"color\": \"#2a3f5f\"}, \"error_y\": {\"color\": \"#2a3f5f\"}, \"marker\": {\"line\": {\"color\": \"#E5ECF6\", \"width\": 0.5}}, \"type\": \"bar\"}], \"barpolar\": [{\"marker\": {\"line\": {\"color\": \"#E5ECF6\", \"width\": 0.5}}, \"type\": \"barpolar\"}], \"carpet\": [{\"aaxis\": {\"endlinecolor\": \"#2a3f5f\", \"gridcolor\": \"white\", \"linecolor\": \"white\", \"minorgridcolor\": \"white\", \"startlinecolor\": \"#2a3f5f\"}, \"baxis\": {\"endlinecolor\": \"#2a3f5f\", \"gridcolor\": \"white\", \"linecolor\": \"white\", \"minorgridcolor\": \"white\", \"startlinecolor\": \"#2a3f5f\"}, \"type\": \"carpet\"}], \"choropleth\": [{\"colorbar\": {\"outlinewidth\": 0, \"ticks\": \"\"}, \"type\": \"choropleth\"}], \"contour\": [{\"colorbar\": {\"outlinewidth\": 0, \"ticks\": \"\"}, \"colorscale\": [[0.0, \"#0d0887\"], [0.1111111111111111, \"#46039f\"], [0.2222222222222222, \"#7201a8\"], [0.3333333333333333, \"#9c179e\"], [0.4444444444444444, \"#bd3786\"], [0.5555555555555556, \"#d8576b\"], [0.6666666666666666, \"#ed7953\"], [0.7777777777777778, \"#fb9f3a\"], [0.8888888888888888, \"#fdca26\"], [1.0, \"#f0f921\"]], \"type\": \"contour\"}], \"contourcarpet\": [{\"colorbar\": {\"outlinewidth\": 0, \"ticks\": \"\"}, \"type\": \"contourcarpet\"}], \"heatmap\": [{\"colorbar\": {\"outlinewidth\": 0, \"ticks\": \"\"}, \"colorscale\": [[0.0, \"#0d0887\"], [0.1111111111111111, \"#46039f\"], [0.2222222222222222, \"#7201a8\"], [0.3333333333333333, \"#9c179e\"], [0.4444444444444444, \"#bd3786\"], [0.5555555555555556, \"#d8576b\"], [0.6666666666666666, \"#ed7953\"], [0.7777777777777778, \"#fb9f3a\"], [0.8888888888888888, \"#fdca26\"], [1.0, \"#f0f921\"]], \"type\": \"heatmap\"}], \"heatmapgl\": [{\"colorbar\": {\"outlinewidth\": 0, \"ticks\": \"\"}, \"colorscale\": [[0.0, \"#0d0887\"], [0.1111111111111111, \"#46039f\"], [0.2222222222222222, \"#7201a8\"], [0.3333333333333333, \"#9c179e\"], [0.4444444444444444, \"#bd3786\"], [0.5555555555555556, \"#d8576b\"], [0.6666666666666666, \"#ed7953\"], [0.7777777777777778, \"#fb9f3a\"], [0.8888888888888888, \"#fdca26\"], [1.0, \"#f0f921\"]], \"type\": \"heatmapgl\"}], \"histogram\": [{\"marker\": {\"colorbar\": {\"outlinewidth\": 0, \"ticks\": \"\"}}, \"type\": \"histogram\"}], \"histogram2d\": [{\"colorbar\": {\"outlinewidth\": 0, \"ticks\": \"\"}, \"colorscale\": [[0.0, \"#0d0887\"], [0.1111111111111111, \"#46039f\"], [0.2222222222222222, \"#7201a8\"], [0.3333333333333333, \"#9c179e\"], [0.4444444444444444, \"#bd3786\"], [0.5555555555555556, \"#d8576b\"], [0.6666666666666666, \"#ed7953\"], [0.7777777777777778, \"#fb9f3a\"], [0.8888888888888888, \"#fdca26\"], [1.0, \"#f0f921\"]], \"type\": \"histogram2d\"}], \"histogram2dcontour\": [{\"colorbar\": {\"outlinewidth\": 0, \"ticks\": \"\"}, \"colorscale\": [[0.0, \"#0d0887\"], [0.1111111111111111, \"#46039f\"], [0.2222222222222222, \"#7201a8\"], [0.3333333333333333, \"#9c179e\"], [0.4444444444444444, \"#bd3786\"], [0.5555555555555556, \"#d8576b\"], [0.6666666666666666, \"#ed7953\"], [0.7777777777777778, \"#fb9f3a\"], [0.8888888888888888, \"#fdca26\"], [1.0, \"#f0f921\"]], \"type\": \"histogram2dcontour\"}], \"mesh3d\": [{\"colorbar\": {\"outlinewidth\": 0, \"ticks\": \"\"}, \"type\": \"mesh3d\"}], \"parcoords\": [{\"line\": {\"colorbar\": {\"outlinewidth\": 0, \"ticks\": \"\"}}, \"type\": \"parcoords\"}], \"pie\": [{\"automargin\": true, \"type\": \"pie\"}], \"scatter\": [{\"marker\": {\"colorbar\": {\"outlinewidth\": 0, \"ticks\": \"\"}}, \"type\": \"scatter\"}], \"scatter3d\": [{\"line\": {\"colorbar\": {\"outlinewidth\": 0, \"ticks\": \"\"}}, \"marker\": {\"colorbar\": {\"outlinewidth\": 0, \"ticks\": \"\"}}, \"type\": \"scatter3d\"}], \"scattercarpet\": [{\"marker\": {\"colorbar\": {\"outlinewidth\": 0, \"ticks\": \"\"}}, \"type\": \"scattercarpet\"}], \"scattergeo\": [{\"marker\": {\"colorbar\": {\"outlinewidth\": 0, \"ticks\": \"\"}}, \"type\": \"scattergeo\"}], \"scattergl\": [{\"marker\": {\"colorbar\": {\"outlinewidth\": 0, \"ticks\": \"\"}}, \"type\": \"scattergl\"}], \"scattermapbox\": [{\"marker\": {\"colorbar\": {\"outlinewidth\": 0, \"ticks\": \"\"}}, \"type\": \"scattermapbox\"}], \"scatterpolar\": [{\"marker\": {\"colorbar\": {\"outlinewidth\": 0, \"ticks\": \"\"}}, \"type\": \"scatterpolar\"}], \"scatterpolargl\": [{\"marker\": {\"colorbar\": {\"outlinewidth\": 0, \"ticks\": \"\"}}, \"type\": \"scatterpolargl\"}], \"scatterternary\": [{\"marker\": {\"colorbar\": {\"outlinewidth\": 0, \"ticks\": \"\"}}, \"type\": \"scatterternary\"}], \"surface\": [{\"colorbar\": {\"outlinewidth\": 0, \"ticks\": \"\"}, \"colorscale\": [[0.0, \"#0d0887\"], [0.1111111111111111, \"#46039f\"], [0.2222222222222222, \"#7201a8\"], [0.3333333333333333, \"#9c179e\"], [0.4444444444444444, \"#bd3786\"], [0.5555555555555556, \"#d8576b\"], [0.6666666666666666, \"#ed7953\"], [0.7777777777777778, \"#fb9f3a\"], [0.8888888888888888, \"#fdca26\"], [1.0, \"#f0f921\"]], \"type\": \"surface\"}], \"table\": [{\"cells\": {\"fill\": {\"color\": \"#EBF0F8\"}, \"line\": {\"color\": \"white\"}}, \"header\": {\"fill\": {\"color\": \"#C8D4E3\"}, \"line\": {\"color\": \"white\"}}, \"type\": \"table\"}]}, \"layout\": {\"annotationdefaults\": {\"arrowcolor\": \"#2a3f5f\", \"arrowhead\": 0, \"arrowwidth\": 1}, \"coloraxis\": {\"colorbar\": {\"outlinewidth\": 0, \"ticks\": \"\"}}, \"colorscale\": {\"diverging\": [[0, \"#8e0152\"], [0.1, \"#c51b7d\"], [0.2, \"#de77ae\"], [0.3, \"#f1b6da\"], [0.4, \"#fde0ef\"], [0.5, \"#f7f7f7\"], [0.6, \"#e6f5d0\"], [0.7, \"#b8e186\"], [0.8, \"#7fbc41\"], [0.9, \"#4d9221\"], [1, \"#276419\"]], \"sequential\": [[0.0, \"#0d0887\"], [0.1111111111111111, \"#46039f\"], [0.2222222222222222, \"#7201a8\"], [0.3333333333333333, \"#9c179e\"], [0.4444444444444444, \"#bd3786\"], [0.5555555555555556, \"#d8576b\"], [0.6666666666666666, \"#ed7953\"], [0.7777777777777778, \"#fb9f3a\"], [0.8888888888888888, \"#fdca26\"], [1.0, \"#f0f921\"]], \"sequentialminus\": [[0.0, \"#0d0887\"], [0.1111111111111111, \"#46039f\"], [0.2222222222222222, \"#7201a8\"], [0.3333333333333333, \"#9c179e\"], [0.4444444444444444, \"#bd3786\"], [0.5555555555555556, \"#d8576b\"], [0.6666666666666666, \"#ed7953\"], [0.7777777777777778, \"#fb9f3a\"], [0.8888888888888888, \"#fdca26\"], [1.0, \"#f0f921\"]]}, \"colorway\": [\"#636efa\", \"#EF553B\", \"#00cc96\", \"#ab63fa\", \"#FFA15A\", \"#19d3f3\", \"#FF6692\", \"#B6E880\", \"#FF97FF\", \"#FECB52\"], \"font\": {\"color\": \"#2a3f5f\"}, \"geo\": {\"bgcolor\": \"white\", \"lakecolor\": \"white\", \"landcolor\": \"#E5ECF6\", \"showlakes\": true, \"showland\": true, \"subunitcolor\": \"white\"}, \"hoverlabel\": {\"align\": \"left\"}, \"hovermode\": \"closest\", \"mapbox\": {\"style\": \"light\"}, \"paper_bgcolor\": \"white\", \"plot_bgcolor\": \"#E5ECF6\", \"polar\": {\"angularaxis\": {\"gridcolor\": \"white\", \"linecolor\": \"white\", \"ticks\": \"\"}, \"bgcolor\": \"#E5ECF6\", \"radialaxis\": {\"gridcolor\": \"white\", \"linecolor\": \"white\", \"ticks\": \"\"}}, \"scene\": {\"xaxis\": {\"backgroundcolor\": \"#E5ECF6\", \"gridcolor\": \"white\", \"gridwidth\": 2, \"linecolor\": \"white\", \"showbackground\": true, \"ticks\": \"\", \"zerolinecolor\": \"white\"}, \"yaxis\": {\"backgroundcolor\": \"#E5ECF6\", \"gridcolor\": \"white\", \"gridwidth\": 2, \"linecolor\": \"white\", \"showbackground\": true, \"ticks\": \"\", \"zerolinecolor\": \"white\"}, \"zaxis\": {\"backgroundcolor\": \"#E5ECF6\", \"gridcolor\": \"white\", \"gridwidth\": 2, \"linecolor\": \"white\", \"showbackground\": true, \"ticks\": \"\", \"zerolinecolor\": \"white\"}}, \"shapedefaults\": {\"line\": {\"color\": \"#2a3f5f\"}}, \"ternary\": {\"aaxis\": {\"gridcolor\": \"white\", \"linecolor\": \"white\", \"ticks\": \"\"}, \"baxis\": {\"gridcolor\": \"white\", \"linecolor\": \"white\", \"ticks\": \"\"}, \"bgcolor\": \"#E5ECF6\", \"caxis\": {\"gridcolor\": \"white\", \"linecolor\": \"white\", \"ticks\": \"\"}}, \"title\": {\"x\": 0.05}, \"xaxis\": {\"automargin\": true, \"gridcolor\": \"white\", \"linecolor\": \"white\", \"ticks\": \"\", \"title\": {\"standoff\": 15}, \"zerolinecolor\": \"white\", \"zerolinewidth\": 2}, \"yaxis\": {\"automargin\": true, \"gridcolor\": \"white\", \"linecolor\": \"white\", \"ticks\": \"\", \"title\": {\"standoff\": 15}, \"zerolinecolor\": \"white\", \"zerolinewidth\": 2}}}},\n",
              "                        {\"responsive\": true}\n",
              "                    ).then(function(){\n",
              "                            \n",
              "var gd = document.getElementById('ea0ec087-9a1d-4472-9a7c-333332a2f00b');\n",
              "var x = new MutationObserver(function (mutations, observer) {{\n",
              "        var display = window.getComputedStyle(gd).display;\n",
              "        if (!display || display === 'none') {{\n",
              "            console.log([gd, 'removed!']);\n",
              "            Plotly.purge(gd);\n",
              "            observer.disconnect();\n",
              "        }}\n",
              "}});\n",
              "\n",
              "// Listen for the removal of the full notebook cells\n",
              "var notebookContainer = gd.closest('#notebook-container');\n",
              "if (notebookContainer) {{\n",
              "    x.observe(notebookContainer, {childList: true});\n",
              "}}\n",
              "\n",
              "// Listen for the clearing of the current output cell\n",
              "var outputEl = gd.closest('.output');\n",
              "if (outputEl) {{\n",
              "    x.observe(outputEl, {childList: true});\n",
              "}}\n",
              "\n",
              "                        })\n",
              "                };\n",
              "                \n",
              "            </script>\n",
              "        </div>\n",
              "</body>\n",
              "</html>"
            ]
          },
          "metadata": {}
        }
      ]
    },
    {
      "cell_type": "code",
      "source": [
        "python_times, np_times = mu_time(jit_intervals, jit_intervals_numpy)\n",
        "jit_python = [np.mean(python_times[:,i]) for i in range(len(votes))]\n",
        "jit_numpy = [np.mean(np_times[:,i]) for i in range(len(votes))]\n",
        "comparative(jit_python, jit_numpy)"
      ],
      "metadata": {
        "colab": {
          "base_uri": "https://localhost:8080/",
          "height": 542
        },
        "id": "lBF0G_XruXuQ",
        "outputId": "84ae4938-8b0f-4a5b-8c4b-a7be6f97f889"
      },
      "execution_count": 34,
      "outputs": [
        {
          "output_type": "display_data",
          "data": {
            "text/html": [
              "<html>\n",
              "<head><meta charset=\"utf-8\" /></head>\n",
              "<body>\n",
              "    <div>\n",
              "            <script src=\"https://cdnjs.cloudflare.com/ajax/libs/mathjax/2.7.5/MathJax.js?config=TeX-AMS-MML_SVG\"></script><script type=\"text/javascript\">if (window.MathJax) {MathJax.Hub.Config({SVG: {font: \"STIX-Web\"}});}</script>\n",
              "                <script type=\"text/javascript\">window.PlotlyConfig = {MathJaxConfig: 'local'};</script>\n",
              "        <script src=\"https://cdn.plot.ly/plotly-latest.min.js\"></script>    \n",
              "            <div id=\"09b21530-931a-418c-a365-33e7e27701d8\" class=\"plotly-graph-div\" style=\"height:525px; width:100%;\"></div>\n",
              "            <script type=\"text/javascript\">\n",
              "                \n",
              "                    window.PLOTLYENV=window.PLOTLYENV || {};\n",
              "                    \n",
              "                if (document.getElementById(\"09b21530-931a-418c-a365-33e7e27701d8\")) {\n",
              "                    Plotly.newPlot(\n",
              "                        '09b21530-931a-418c-a365-33e7e27701d8',\n",
              "                        [{\"name\": \"Python\", \"type\": \"scatter\", \"x\": [50, 100, 150, 200, 250, 300, 350, 400, 450, 500, 550, 600, 650, 700, 750, 800, 850, 900, 950], \"y\": [7.016605999965009e-06, 1.2730684000146653e-05, 1.878452599989089e-05, 2.4916748000322285e-05, 3.012544100018033e-05, 3.661978499995655e-05, 4.2750944999852434e-05, 4.8008279999663726e-05, 5.42793729999147e-05, 5.973030599984952e-05, 6.601881299975786e-05, 7.150697600020805e-05, 7.762810200027559e-05, 8.558582300013029e-05, 8.952087400002995e-05, 9.505247900000314e-05, 9.994240099995011e-05, 0.00010521398200005194, 0.00011196917599990286]}, {\"name\": \"Numpy\", \"type\": \"scatter\", \"x\": [50, 100, 150, 200, 250, 300, 350, 400, 450, 500, 550, 600, 650, 700, 750, 800, 850, 900, 950], \"y\": [2.563758000306393e-06, 2.531853000093065e-06, 2.5393100000457023e-06, 2.684684999863407e-06, 2.6505289998794977e-06, 2.669786999945245e-06, 2.7652800002613278e-06, 2.716291999931286e-06, 2.671948000227076e-06, 2.7130570000934995e-06, 2.882808000094883e-06, 2.8150999998075575e-06, 2.7855359999904294e-06, 2.8705919998088804e-06, 2.8610849998926824e-06, 2.854242999944745e-06, 2.811928000042485e-06, 2.899045999939176e-06, 3.0294710000902113e-06]}],\n",
              "                        {\"template\": {\"data\": {\"bar\": [{\"error_x\": {\"color\": \"#2a3f5f\"}, \"error_y\": {\"color\": \"#2a3f5f\"}, \"marker\": {\"line\": {\"color\": \"#E5ECF6\", \"width\": 0.5}}, \"type\": \"bar\"}], \"barpolar\": [{\"marker\": {\"line\": {\"color\": \"#E5ECF6\", \"width\": 0.5}}, \"type\": \"barpolar\"}], \"carpet\": [{\"aaxis\": {\"endlinecolor\": \"#2a3f5f\", \"gridcolor\": \"white\", \"linecolor\": \"white\", \"minorgridcolor\": \"white\", \"startlinecolor\": \"#2a3f5f\"}, \"baxis\": {\"endlinecolor\": \"#2a3f5f\", \"gridcolor\": \"white\", \"linecolor\": \"white\", \"minorgridcolor\": \"white\", \"startlinecolor\": \"#2a3f5f\"}, \"type\": \"carpet\"}], \"choropleth\": [{\"colorbar\": {\"outlinewidth\": 0, \"ticks\": \"\"}, \"type\": \"choropleth\"}], \"contour\": [{\"colorbar\": {\"outlinewidth\": 0, \"ticks\": \"\"}, \"colorscale\": [[0.0, \"#0d0887\"], [0.1111111111111111, \"#46039f\"], [0.2222222222222222, \"#7201a8\"], [0.3333333333333333, \"#9c179e\"], [0.4444444444444444, \"#bd3786\"], [0.5555555555555556, \"#d8576b\"], [0.6666666666666666, \"#ed7953\"], [0.7777777777777778, \"#fb9f3a\"], [0.8888888888888888, \"#fdca26\"], [1.0, \"#f0f921\"]], \"type\": \"contour\"}], \"contourcarpet\": [{\"colorbar\": {\"outlinewidth\": 0, \"ticks\": \"\"}, \"type\": \"contourcarpet\"}], \"heatmap\": [{\"colorbar\": {\"outlinewidth\": 0, \"ticks\": \"\"}, \"colorscale\": [[0.0, \"#0d0887\"], [0.1111111111111111, \"#46039f\"], [0.2222222222222222, \"#7201a8\"], [0.3333333333333333, \"#9c179e\"], [0.4444444444444444, \"#bd3786\"], [0.5555555555555556, \"#d8576b\"], [0.6666666666666666, \"#ed7953\"], [0.7777777777777778, \"#fb9f3a\"], [0.8888888888888888, \"#fdca26\"], [1.0, \"#f0f921\"]], \"type\": \"heatmap\"}], \"heatmapgl\": [{\"colorbar\": {\"outlinewidth\": 0, \"ticks\": \"\"}, \"colorscale\": [[0.0, \"#0d0887\"], [0.1111111111111111, \"#46039f\"], [0.2222222222222222, \"#7201a8\"], [0.3333333333333333, \"#9c179e\"], [0.4444444444444444, \"#bd3786\"], [0.5555555555555556, \"#d8576b\"], [0.6666666666666666, \"#ed7953\"], [0.7777777777777778, \"#fb9f3a\"], [0.8888888888888888, \"#fdca26\"], [1.0, \"#f0f921\"]], \"type\": \"heatmapgl\"}], \"histogram\": [{\"marker\": {\"colorbar\": {\"outlinewidth\": 0, \"ticks\": \"\"}}, \"type\": \"histogram\"}], \"histogram2d\": [{\"colorbar\": {\"outlinewidth\": 0, \"ticks\": \"\"}, \"colorscale\": [[0.0, \"#0d0887\"], [0.1111111111111111, \"#46039f\"], [0.2222222222222222, \"#7201a8\"], [0.3333333333333333, \"#9c179e\"], [0.4444444444444444, \"#bd3786\"], [0.5555555555555556, \"#d8576b\"], [0.6666666666666666, \"#ed7953\"], [0.7777777777777778, \"#fb9f3a\"], [0.8888888888888888, \"#fdca26\"], [1.0, \"#f0f921\"]], \"type\": \"histogram2d\"}], \"histogram2dcontour\": [{\"colorbar\": {\"outlinewidth\": 0, \"ticks\": \"\"}, \"colorscale\": [[0.0, \"#0d0887\"], [0.1111111111111111, \"#46039f\"], [0.2222222222222222, \"#7201a8\"], [0.3333333333333333, \"#9c179e\"], [0.4444444444444444, \"#bd3786\"], [0.5555555555555556, \"#d8576b\"], [0.6666666666666666, \"#ed7953\"], [0.7777777777777778, \"#fb9f3a\"], [0.8888888888888888, \"#fdca26\"], [1.0, \"#f0f921\"]], \"type\": \"histogram2dcontour\"}], \"mesh3d\": [{\"colorbar\": {\"outlinewidth\": 0, \"ticks\": \"\"}, \"type\": \"mesh3d\"}], \"parcoords\": [{\"line\": {\"colorbar\": {\"outlinewidth\": 0, \"ticks\": \"\"}}, \"type\": \"parcoords\"}], \"pie\": [{\"automargin\": true, \"type\": \"pie\"}], \"scatter\": [{\"marker\": {\"colorbar\": {\"outlinewidth\": 0, \"ticks\": \"\"}}, \"type\": \"scatter\"}], \"scatter3d\": [{\"line\": {\"colorbar\": {\"outlinewidth\": 0, \"ticks\": \"\"}}, \"marker\": {\"colorbar\": {\"outlinewidth\": 0, \"ticks\": \"\"}}, \"type\": \"scatter3d\"}], \"scattercarpet\": [{\"marker\": {\"colorbar\": {\"outlinewidth\": 0, \"ticks\": \"\"}}, \"type\": \"scattercarpet\"}], \"scattergeo\": [{\"marker\": {\"colorbar\": {\"outlinewidth\": 0, \"ticks\": \"\"}}, \"type\": \"scattergeo\"}], \"scattergl\": [{\"marker\": {\"colorbar\": {\"outlinewidth\": 0, \"ticks\": \"\"}}, \"type\": \"scattergl\"}], \"scattermapbox\": [{\"marker\": {\"colorbar\": {\"outlinewidth\": 0, \"ticks\": \"\"}}, \"type\": \"scattermapbox\"}], \"scatterpolar\": [{\"marker\": {\"colorbar\": {\"outlinewidth\": 0, \"ticks\": \"\"}}, \"type\": \"scatterpolar\"}], \"scatterpolargl\": [{\"marker\": {\"colorbar\": {\"outlinewidth\": 0, \"ticks\": \"\"}}, \"type\": \"scatterpolargl\"}], \"scatterternary\": [{\"marker\": {\"colorbar\": {\"outlinewidth\": 0, \"ticks\": \"\"}}, \"type\": \"scatterternary\"}], \"surface\": [{\"colorbar\": {\"outlinewidth\": 0, \"ticks\": \"\"}, \"colorscale\": [[0.0, \"#0d0887\"], [0.1111111111111111, \"#46039f\"], [0.2222222222222222, \"#7201a8\"], [0.3333333333333333, \"#9c179e\"], [0.4444444444444444, \"#bd3786\"], [0.5555555555555556, \"#d8576b\"], [0.6666666666666666, \"#ed7953\"], [0.7777777777777778, \"#fb9f3a\"], [0.8888888888888888, \"#fdca26\"], [1.0, \"#f0f921\"]], \"type\": \"surface\"}], \"table\": [{\"cells\": {\"fill\": {\"color\": \"#EBF0F8\"}, \"line\": {\"color\": \"white\"}}, \"header\": {\"fill\": {\"color\": \"#C8D4E3\"}, \"line\": {\"color\": \"white\"}}, \"type\": \"table\"}]}, \"layout\": {\"annotationdefaults\": {\"arrowcolor\": \"#2a3f5f\", \"arrowhead\": 0, \"arrowwidth\": 1}, \"coloraxis\": {\"colorbar\": {\"outlinewidth\": 0, \"ticks\": \"\"}}, \"colorscale\": {\"diverging\": [[0, \"#8e0152\"], [0.1, \"#c51b7d\"], [0.2, \"#de77ae\"], [0.3, \"#f1b6da\"], [0.4, \"#fde0ef\"], [0.5, \"#f7f7f7\"], [0.6, \"#e6f5d0\"], [0.7, \"#b8e186\"], [0.8, \"#7fbc41\"], [0.9, \"#4d9221\"], [1, \"#276419\"]], \"sequential\": [[0.0, \"#0d0887\"], [0.1111111111111111, \"#46039f\"], [0.2222222222222222, \"#7201a8\"], [0.3333333333333333, \"#9c179e\"], [0.4444444444444444, \"#bd3786\"], [0.5555555555555556, \"#d8576b\"], [0.6666666666666666, \"#ed7953\"], [0.7777777777777778, \"#fb9f3a\"], [0.8888888888888888, \"#fdca26\"], [1.0, \"#f0f921\"]], \"sequentialminus\": [[0.0, \"#0d0887\"], [0.1111111111111111, \"#46039f\"], [0.2222222222222222, \"#7201a8\"], [0.3333333333333333, \"#9c179e\"], [0.4444444444444444, \"#bd3786\"], [0.5555555555555556, \"#d8576b\"], [0.6666666666666666, \"#ed7953\"], [0.7777777777777778, \"#fb9f3a\"], [0.8888888888888888, \"#fdca26\"], [1.0, \"#f0f921\"]]}, \"colorway\": [\"#636efa\", \"#EF553B\", \"#00cc96\", \"#ab63fa\", \"#FFA15A\", \"#19d3f3\", \"#FF6692\", \"#B6E880\", \"#FF97FF\", \"#FECB52\"], \"font\": {\"color\": \"#2a3f5f\"}, \"geo\": {\"bgcolor\": \"white\", \"lakecolor\": \"white\", \"landcolor\": \"#E5ECF6\", \"showlakes\": true, \"showland\": true, \"subunitcolor\": \"white\"}, \"hoverlabel\": {\"align\": \"left\"}, \"hovermode\": \"closest\", \"mapbox\": {\"style\": \"light\"}, \"paper_bgcolor\": \"white\", \"plot_bgcolor\": \"#E5ECF6\", \"polar\": {\"angularaxis\": {\"gridcolor\": \"white\", \"linecolor\": \"white\", \"ticks\": \"\"}, \"bgcolor\": \"#E5ECF6\", \"radialaxis\": {\"gridcolor\": \"white\", \"linecolor\": \"white\", \"ticks\": \"\"}}, \"scene\": {\"xaxis\": {\"backgroundcolor\": \"#E5ECF6\", \"gridcolor\": \"white\", \"gridwidth\": 2, \"linecolor\": \"white\", \"showbackground\": true, \"ticks\": \"\", \"zerolinecolor\": \"white\"}, \"yaxis\": {\"backgroundcolor\": \"#E5ECF6\", \"gridcolor\": \"white\", \"gridwidth\": 2, \"linecolor\": \"white\", \"showbackground\": true, \"ticks\": \"\", \"zerolinecolor\": \"white\"}, \"zaxis\": {\"backgroundcolor\": \"#E5ECF6\", \"gridcolor\": \"white\", \"gridwidth\": 2, \"linecolor\": \"white\", \"showbackground\": true, \"ticks\": \"\", \"zerolinecolor\": \"white\"}}, \"shapedefaults\": {\"line\": {\"color\": \"#2a3f5f\"}}, \"ternary\": {\"aaxis\": {\"gridcolor\": \"white\", \"linecolor\": \"white\", \"ticks\": \"\"}, \"baxis\": {\"gridcolor\": \"white\", \"linecolor\": \"white\", \"ticks\": \"\"}, \"bgcolor\": \"#E5ECF6\", \"caxis\": {\"gridcolor\": \"white\", \"linecolor\": \"white\", \"ticks\": \"\"}}, \"title\": {\"x\": 0.05}, \"xaxis\": {\"automargin\": true, \"gridcolor\": \"white\", \"linecolor\": \"white\", \"ticks\": \"\", \"title\": {\"standoff\": 15}, \"zerolinecolor\": \"white\", \"zerolinewidth\": 2}, \"yaxis\": {\"automargin\": true, \"gridcolor\": \"white\", \"linecolor\": \"white\", \"ticks\": \"\", \"title\": {\"standoff\": 15}, \"zerolinecolor\": \"white\", \"zerolinewidth\": 2}}}},\n",
              "                        {\"responsive\": true}\n",
              "                    ).then(function(){\n",
              "                            \n",
              "var gd = document.getElementById('09b21530-931a-418c-a365-33e7e27701d8');\n",
              "var x = new MutationObserver(function (mutations, observer) {{\n",
              "        var display = window.getComputedStyle(gd).display;\n",
              "        if (!display || display === 'none') {{\n",
              "            console.log([gd, 'removed!']);\n",
              "            Plotly.purge(gd);\n",
              "            observer.disconnect();\n",
              "        }}\n",
              "}});\n",
              "\n",
              "// Listen for the removal of the full notebook cells\n",
              "var notebookContainer = gd.closest('#notebook-container');\n",
              "if (notebookContainer) {{\n",
              "    x.observe(notebookContainer, {childList: true});\n",
              "}}\n",
              "\n",
              "// Listen for the clearing of the current output cell\n",
              "var outputEl = gd.closest('.output');\n",
              "if (outputEl) {{\n",
              "    x.observe(outputEl, {childList: true});\n",
              "}}\n",
              "\n",
              "                        })\n",
              "                };\n",
              "                \n",
              "            </script>\n",
              "        </div>\n",
              "</body>\n",
              "</html>"
            ]
          },
          "metadata": {}
        }
      ]
    },
    {
      "cell_type": "markdown",
      "source": [
        "grafiquen los tiempos tomados y comente los desempeños."
      ],
      "metadata": {
        "id": "oTdS12kthv8B"
      }
    },
    {
      "cell_type": "markdown",
      "metadata": {
        "cell_id": "00028-19d4d7d5-b8cc-4e02-b9b1-661b163db40b",
        "deepnote_cell_type": "markdown",
        "id": "DljdJw8m0gYC"
      },
      "source": [
        "## 1.5 Plot de Resultados [1 Punto]"
      ]
    },
    {
      "cell_type": "markdown",
      "metadata": {
        "cell_id": "00029-a2d26faa-9a0c-4654-b90a-8afea2987c40",
        "deepnote_cell_type": "markdown",
        "id": "cQAxOM5D08Hl"
      },
      "source": [
        "Llego la hora de visualizar los resultados obtenidos, para esto solo ejecute las siguientes celdas y observe lo que sucede :3. ¿Qué logra observar de los resultados?, ¿La solución resulta trivial?\n",
        "\n",
        "En esta sección esperamos que solo comenten con lo que logran visualizar de los dataframes."
      ]
    },
    {
      "cell_type": "code",
      "execution_count": 37,
      "metadata": {
        "cell_id": "00030-9cc49c95-022a-4b99-8e27-0c39de2d0007",
        "deepnote_cell_type": "code",
        "deepnote_output_heights": [
          null,
          611
        ],
        "id": "N5E2mNYXaafI",
        "scrolled": true,
        "colab": {
          "base_uri": "https://localhost:8080/",
          "height": 253
        },
        "outputId": "53a7d860-a839-437b-de25-27651c49c6fe"
      },
      "outputs": [
        {
          "output_type": "stream",
          "name": "stdout",
          "text": [
            "lower bounds aproximados:\n"
          ]
        },
        {
          "output_type": "error",
          "ename": "TypeError",
          "evalue": "ignored",
          "traceback": [
            "\u001b[0;31m---------------------------------------------------------------------------\u001b[0m",
            "\u001b[0;31mTypeError\u001b[0m                                 Traceback (most recent call last)",
            "\u001b[0;32m<ipython-input-37-0ce8de0a73b1>\u001b[0m in \u001b[0;36m<module>\u001b[0;34m()\u001b[0m\n\u001b[1;32m      3\u001b[0m \u001b[0mposteo\u001b[0m \u001b[0;34m=\u001b[0m \u001b[0mpost\u001b[0m\u001b[0;34m[\u001b[0m\u001b[0mlen\u001b[0m\u001b[0;34m(\u001b[0m\u001b[0mpost\u001b[0m\u001b[0;34m)\u001b[0m \u001b[0;34m-\u001b[0m \u001b[0;36m1\u001b[0m\u001b[0;34m]\u001b[0m\u001b[0;34m\u001b[0m\u001b[0;34m\u001b[0m\u001b[0m\n\u001b[1;32m      4\u001b[0m \u001b[0mprint\u001b[0m\u001b[0;34m(\u001b[0m\u001b[0;34m\"lower bounds aproximados:\"\u001b[0m\u001b[0;34m)\u001b[0m\u001b[0;34m\u001b[0m\u001b[0;34m\u001b[0m\u001b[0m\n\u001b[0;32m----> 5\u001b[0;31m \u001b[0mposterior_mean\u001b[0m\u001b[0;34m,\u001b[0m \u001b[0mstd_err\u001b[0m \u001b[0;34m=\u001b[0m \u001b[0mintervals_numpy\u001b[0m\u001b[0;34m(\u001b[0m\u001b[0mvotos\u001b[0m\u001b[0;34m[\u001b[0m\u001b[0;34m:\u001b[0m\u001b[0;34m,\u001b[0m \u001b[0;36m0\u001b[0m\u001b[0;34m]\u001b[0m\u001b[0;34m,\u001b[0m \u001b[0mvotos\u001b[0m\u001b[0;34m[\u001b[0m\u001b[0;34m:\u001b[0m\u001b[0;34m,\u001b[0m \u001b[0;36m1\u001b[0m\u001b[0;34m]\u001b[0m\u001b[0;34m)\u001b[0m\u001b[0;34m\u001b[0m\u001b[0;34m\u001b[0m\u001b[0m\n\u001b[0m\u001b[1;32m      6\u001b[0m \u001b[0mposterior_mean\u001b[0m\u001b[0;34m,\u001b[0m \u001b[0mstd_err\u001b[0m \u001b[0;34m=\u001b[0m \u001b[0mintervals_numpy\u001b[0m\u001b[0;34m(\u001b[0m\u001b[0mvotes\u001b[0m\u001b[0;34m)\u001b[0m\u001b[0;34m\u001b[0m\u001b[0;34m\u001b[0m\u001b[0m\n\u001b[1;32m      7\u001b[0m \u001b[0mlb\u001b[0m \u001b[0;34m=\u001b[0m \u001b[0mposterior_mean\u001b[0m \u001b[0;34m-\u001b[0m \u001b[0mstd_err\u001b[0m\u001b[0;34m\u001b[0m\u001b[0;34m\u001b[0m\u001b[0m\n",
            "\u001b[0;31mTypeError\u001b[0m: intervals_numpy() takes 1 positional argument but 2 were given"
          ]
        }
      ],
      "source": [
        "###### Código Aquí ######\n",
        "votos = votes[len(votes) - 1]\n",
        "posteo = post[len(post) - 1]\n",
        "print(\"lower bounds aproximados:\")\n",
        "posterior_mean, std_err = intervals_numpy(votos[:, 0], votos[:, 1])\n",
        "posterior_mean, std_err = intervals_numpy(votes)\n",
        "lb = posterior_mean - std_err\n",
        "print(\"\\nTop 20 post ordenador por el limite inferior:\\n\")\n",
        "order = np.argsort(-lb)\n",
        "vote_post = {\n",
        "    'Votos (+)': votos[order[:20], 0],\n",
        "    'Votos (-)': votos[order[:20], 1],\n",
        "    'Post': np.array(posteo)[order[:20]],\n",
        "    'url': np.array(url[len(url) - 1])[order[:20]]\n",
        "}\n",
        "df = pd.DataFrame(data=vote_post)\n",
        "ordered_post = df.Post\n",
        "\n",
        "r_order = order[::-1][-20:]\n",
        "data_dic = {\n",
        "    'mean': posterior_mean[r_order],\n",
        "    'std_err': std_err[r_order],\n",
        "    'post': ordered_post[::-1]\n",
        "}\n",
        "df = pd.DataFrame(data=data_dic)\n",
        "fig = px.scatter(df, x=\"mean\", y=\"post\", error_x=\"std_err\")\n",
        "fig.show()"
      ]
    },
    {
      "cell_type": "markdown",
      "metadata": {
        "cell_id": "00032-d71a3ab5-0048-4d25-a4d8-341d7cab6421",
        "deepnote_cell_type": "markdown",
        "id": "szOjXLKA1Rif"
      },
      "source": [
        "**Respuesta:**"
      ]
    },
    {
      "cell_type": "markdown",
      "metadata": {
        "cell_id": "00033-959c9ac0-1d28-4b75-9d1b-6a404fb2b1da",
        "deepnote_cell_type": "markdown",
        "id": "0F83QdD61Pd1"
      },
      "source": [
        "`Escriba su respuesta aquí`"
      ]
    },
    {
      "cell_type": "markdown",
      "metadata": {
        "cell_id": "00034-99362e55-ff3e-4160-b715-f235e1edf941",
        "deepnote_cell_type": "markdown",
        "id": "Rg4ZMq8ezAH6"
      },
      "source": [
        "<p align=\"center\">\n",
        "  <img src=\"https://media1.tenor.com/images/fb5bf7cc5a4acb91b4177672886a88ba/tenor.gif?itemid=5591338\">\n",
        "</p>"
      ]
    }
  ],
  "metadata": {
    "@webio": {
      "lastCommId": null,
      "lastKernelId": null
    },
    "colab": {
      "collapsed_sections": [],
      "name": "Laboratorio9.ipynb",
      "provenance": [],
      "include_colab_link": true
    },
    "deepnote": {},
    "deepnote_execution_queue": [],
    "deepnote_notebook_id": "5d40e96b-943c-437d-9a87-f692c1b738de",
    "kernelspec": {
      "display_name": "Python 3",
      "language": "python",
      "name": "python3"
    },
    "language_info": {
      "codemirror_mode": {
        "name": "ipython",
        "version": 3
      },
      "file_extension": ".py",
      "mimetype": "text/x-python",
      "name": "python",
      "nbconvert_exporter": "python",
      "pygments_lexer": "ipython3",
      "version": "3.7.3"
    },
    "toc": {
      "base_numbering": 1,
      "nav_menu": {},
      "number_sections": true,
      "sideBar": true,
      "skip_h1_title": true,
      "title_cell": "Tabla de Contenidos",
      "title_sidebar": "Contenidos",
      "toc_cell": false,
      "toc_position": {
        "height": "calc(100% - 180px)",
        "left": "10px",
        "top": "150px",
        "width": "241.867px"
      },
      "toc_section_display": true,
      "toc_window_display": true
    },
    "varInspector": {
      "cols": {
        "lenName": 16,
        "lenType": 16,
        "lenVar": 40
      },
      "kernels_config": {
        "python": {
          "delete_cmd_postfix": "",
          "delete_cmd_prefix": "del ",
          "library": "var_list.py",
          "varRefreshCmd": "print(var_dic_list())"
        },
        "r": {
          "delete_cmd_postfix": ") ",
          "delete_cmd_prefix": "rm(",
          "library": "var_list.r",
          "varRefreshCmd": "cat(var_dic_list()) "
        }
      },
      "types_to_exclude": [
        "module",
        "function",
        "builtin_function_or_method",
        "instance",
        "_Feature"
      ],
      "window_display": false
    }
  },
  "nbformat": 4,
  "nbformat_minor": 0
}